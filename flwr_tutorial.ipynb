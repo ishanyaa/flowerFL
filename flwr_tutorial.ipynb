{
  "nbformat": 4,
  "nbformat_minor": 0,
  "metadata": {
    "colab": {
      "provenance": [],
      "gpuType": "V28",
      "authorship_tag": "ABX9TyMWc1q+9QGrqktcDfjZOLW5",
      "include_colab_link": true
    },
    "kernelspec": {
      "name": "python3",
      "display_name": "Python 3"
    },
    "language_info": {
      "name": "python"
    },
    "accelerator": "TPU"
  },
  "cells": [
    {
      "cell_type": "markdown",
      "metadata": {
        "id": "view-in-github",
        "colab_type": "text"
      },
      "source": [
        "<a href=\"https://colab.research.google.com/github/ishanyaa/flowerFL/blob/main/flwr_tutorial.ipynb\" target=\"_parent\"><img src=\"https://colab.research.google.com/assets/colab-badge.svg\" alt=\"Open In Colab\"/></a>"
      ]
    },
    {
      "cell_type": "markdown",
      "source": [
        "# **Flower Framework** for Federated Learning (FL).\n",
        "\n",
        "Flower (FLwr) is a popular open-source framework designed to build scalable FL systems. It provides flexibility for various ML frameworks like TensorFlow, PyTorch, and NumPy.\n",
        "\n",
        "---\n",
        "\n",
        "\n"
      ],
      "metadata": {
        "id": "zWNZHM3uteun"
      }
    },
    {
      "cell_type": "markdown",
      "source": [
        "\n",
        "## **1. Installation**\n",
        "To get started, install Flower using `pip`. Optionally, you can install it with PyTorch or TensorFlow dependencies.\n",
        "\n",
        "```bash\n",
        "pip install flwr\n",
        "# For TensorFlow users:\n",
        "pip install flwr[tf]\n",
        "# For PyTorch users:\n",
        "pip install flwr[torch]\n",
        "```"
      ],
      "metadata": {
        "id": "w3-9iFq1uM8O"
      }
    },
    {
      "cell_type": "code",
      "source": [
        "pip install flwr"
      ],
      "metadata": {
        "colab": {
          "base_uri": "https://localhost:8080/"
        },
        "id": "RfYu0h4ktszj",
        "outputId": "2786aae7-53f4-472f-82d4-a51aacc83e4a"
      },
      "execution_count": null,
      "outputs": [
        {
          "output_type": "stream",
          "name": "stdout",
          "text": [
            "Collecting flwr\n",
            "  Downloading flwr-1.14.0-py3-none-any.whl.metadata (15 kB)\n",
            "Collecting cryptography<43.0.0,>=42.0.4 (from flwr)\n",
            "  Downloading cryptography-42.0.8-cp39-abi3-manylinux_2_28_x86_64.whl.metadata (5.3 kB)\n",
            "Collecting grpcio!=1.64.2,<2.0.0,<=1.64.3,>=1.60.0 (from flwr)\n",
            "  Downloading grpcio-1.64.3-cp311-cp311-manylinux_2_17_x86_64.manylinux2014_x86_64.whl.metadata (3.3 kB)\n",
            "Collecting iterators<0.0.3,>=0.0.2 (from flwr)\n",
            "  Downloading iterators-0.0.2-py3-none-any.whl.metadata (2.5 kB)\n",
            "Requirement already satisfied: numpy<3.0.0,>=1.26.0 in /usr/local/lib/python3.11/dist-packages (from flwr) (1.26.4)\n",
            "Collecting pathspec<0.13.0,>=0.12.1 (from flwr)\n",
            "  Downloading pathspec-0.12.1-py3-none-any.whl.metadata (21 kB)\n",
            "Requirement already satisfied: protobuf<5.0.0,>=4.25.2 in /usr/local/lib/python3.11/dist-packages (from flwr) (4.25.5)\n",
            "Collecting pycryptodome<4.0.0,>=3.18.0 (from flwr)\n",
            "  Downloading pycryptodome-3.21.0-cp36-abi3-manylinux_2_17_x86_64.manylinux2014_x86_64.whl.metadata (3.4 kB)\n",
            "Requirement already satisfied: pyyaml<7.0.0,>=6.0.2 in /usr/local/lib/python3.11/dist-packages (from flwr) (6.0.2)\n",
            "Requirement already satisfied: requests<3.0.0,>=2.31.0 in /usr/local/lib/python3.11/dist-packages (from flwr) (2.32.3)\n",
            "Requirement already satisfied: rich<14.0.0,>=13.5.0 in /usr/local/lib/python3.11/dist-packages (from flwr) (13.9.4)\n",
            "Collecting tomli<3.0.0,>=2.0.1 (from flwr)\n",
            "  Downloading tomli-2.2.1-cp311-cp311-manylinux_2_17_x86_64.manylinux2014_x86_64.whl.metadata (11 kB)\n",
            "Collecting tomli-w<2.0.0,>=1.0.0 (from flwr)\n",
            "  Downloading tomli_w-1.2.0-py3-none-any.whl.metadata (5.7 kB)\n",
            "Collecting typer<0.13.0,>=0.12.5 (from flwr)\n",
            "  Downloading typer-0.12.5-py3-none-any.whl.metadata (15 kB)\n",
            "Requirement already satisfied: cffi>=1.12 in /usr/local/lib/python3.11/dist-packages (from cryptography<43.0.0,>=42.0.4->flwr) (1.17.1)\n",
            "Requirement already satisfied: charset-normalizer<4,>=2 in /usr/local/lib/python3.11/dist-packages (from requests<3.0.0,>=2.31.0->flwr) (3.4.1)\n",
            "Requirement already satisfied: idna<4,>=2.5 in /usr/local/lib/python3.11/dist-packages (from requests<3.0.0,>=2.31.0->flwr) (3.10)\n",
            "Requirement already satisfied: urllib3<3,>=1.21.1 in /usr/local/lib/python3.11/dist-packages (from requests<3.0.0,>=2.31.0->flwr) (2.3.0)\n",
            "Requirement already satisfied: certifi>=2017.4.17 in /usr/local/lib/python3.11/dist-packages (from requests<3.0.0,>=2.31.0->flwr) (2024.12.14)\n",
            "Requirement already satisfied: markdown-it-py>=2.2.0 in /usr/local/lib/python3.11/dist-packages (from rich<14.0.0,>=13.5.0->flwr) (3.0.0)\n",
            "Requirement already satisfied: pygments<3.0.0,>=2.13.0 in /usr/local/lib/python3.11/dist-packages (from rich<14.0.0,>=13.5.0->flwr) (2.19.1)\n",
            "Requirement already satisfied: click>=8.0.0 in /usr/local/lib/python3.11/dist-packages (from typer<0.13.0,>=0.12.5->flwr) (8.1.8)\n",
            "Requirement already satisfied: typing-extensions>=3.7.4.3 in /usr/local/lib/python3.11/dist-packages (from typer<0.13.0,>=0.12.5->flwr) (4.12.2)\n",
            "Requirement already satisfied: shellingham>=1.3.0 in /usr/local/lib/python3.11/dist-packages (from typer<0.13.0,>=0.12.5->flwr) (1.5.4)\n",
            "Requirement already satisfied: pycparser in /usr/local/lib/python3.11/dist-packages (from cffi>=1.12->cryptography<43.0.0,>=42.0.4->flwr) (2.22)\n",
            "Requirement already satisfied: mdurl~=0.1 in /usr/local/lib/python3.11/dist-packages (from markdown-it-py>=2.2.0->rich<14.0.0,>=13.5.0->flwr) (0.1.2)\n",
            "Downloading flwr-1.14.0-py3-none-any.whl (523 kB)\n",
            "\u001b[2K   \u001b[90m━━━━━━━━━━━━━━━━━━━━━━━━━━━━━━━━━━━━━━━━\u001b[0m \u001b[32m523.6/523.6 kB\u001b[0m \u001b[31m9.1 MB/s\u001b[0m eta \u001b[36m0:00:00\u001b[0m\n",
            "\u001b[?25hDownloading cryptography-42.0.8-cp39-abi3-manylinux_2_28_x86_64.whl (3.9 MB)\n",
            "\u001b[2K   \u001b[90m━━━━━━━━━━━━━━━━━━━━━━━━━━━━━━━━━━━━━━━━\u001b[0m \u001b[32m3.9/3.9 MB\u001b[0m \u001b[31m66.4 MB/s\u001b[0m eta \u001b[36m0:00:00\u001b[0m\n",
            "\u001b[?25hDownloading grpcio-1.64.3-cp311-cp311-manylinux_2_17_x86_64.manylinux2014_x86_64.whl (5.6 MB)\n",
            "\u001b[2K   \u001b[90m━━━━━━━━━━━━━━━━━━━━━━━━━━━━━━━━━━━━━━━━\u001b[0m \u001b[32m5.6/5.6 MB\u001b[0m \u001b[31m94.1 MB/s\u001b[0m eta \u001b[36m0:00:00\u001b[0m\n",
            "\u001b[?25hDownloading iterators-0.0.2-py3-none-any.whl (3.9 kB)\n",
            "Downloading pathspec-0.12.1-py3-none-any.whl (31 kB)\n",
            "Downloading pycryptodome-3.21.0-cp36-abi3-manylinux_2_17_x86_64.manylinux2014_x86_64.whl (2.3 MB)\n",
            "\u001b[2K   \u001b[90m━━━━━━━━━━━━━━━━━━━━━━━━━━━━━━━━━━━━━━━━\u001b[0m \u001b[32m2.3/2.3 MB\u001b[0m \u001b[31m71.9 MB/s\u001b[0m eta \u001b[36m0:00:00\u001b[0m\n",
            "\u001b[?25hDownloading tomli-2.2.1-cp311-cp311-manylinux_2_17_x86_64.manylinux2014_x86_64.whl (236 kB)\n",
            "\u001b[2K   \u001b[90m━━━━━━━━━━━━━━━━━━━━━━━━━━━━━━━━━━━━━━━━\u001b[0m \u001b[32m236.0/236.0 kB\u001b[0m \u001b[31m15.0 MB/s\u001b[0m eta \u001b[36m0:00:00\u001b[0m\n",
            "\u001b[?25hDownloading tomli_w-1.2.0-py3-none-any.whl (6.7 kB)\n",
            "Downloading typer-0.12.5-py3-none-any.whl (47 kB)\n",
            "\u001b[2K   \u001b[90m━━━━━━━━━━━━━━━━━━━━━━━━━━━━━━━━━━━━━━━━\u001b[0m \u001b[32m47.3/47.3 kB\u001b[0m \u001b[31m3.5 MB/s\u001b[0m eta \u001b[36m0:00:00\u001b[0m\n",
            "\u001b[?25hInstalling collected packages: tomli-w, tomli, pycryptodome, pathspec, iterators, grpcio, cryptography, typer, flwr\n",
            "  Attempting uninstall: grpcio\n",
            "    Found existing installation: grpcio 1.69.0\n",
            "    Uninstalling grpcio-1.69.0:\n",
            "      Successfully uninstalled grpcio-1.69.0\n",
            "  Attempting uninstall: cryptography\n",
            "    Found existing installation: cryptography 3.4.8\n",
            "    Uninstalling cryptography-3.4.8:\n",
            "      Successfully uninstalled cryptography-3.4.8\n",
            "  Attempting uninstall: typer\n",
            "    Found existing installation: typer 0.15.1\n",
            "    Uninstalling typer-0.15.1:\n",
            "      Successfully uninstalled typer-0.15.1\n",
            "\u001b[31mERROR: pip's dependency resolver does not currently take into account all the packages that are installed. This behaviour is the source of the following dependency conflicts.\n",
            "tpu-info 0.2.0 requires grpcio>=1.65.5, but you have grpcio 1.64.3 which is incompatible.\u001b[0m\u001b[31m\n",
            "\u001b[0mSuccessfully installed cryptography-42.0.8 flwr-1.14.0 grpcio-1.64.3 iterators-0.0.2 pathspec-0.12.1 pycryptodome-3.21.0 tomli-2.2.1 tomli-w-1.2.0 typer-0.12.5\n"
          ]
        }
      ]
    },
    {
      "cell_type": "code",
      "source": [
        "pip install flwr[tf]"
      ],
      "metadata": {
        "colab": {
          "base_uri": "https://localhost:8080/"
        },
        "id": "CGNwjy5luT3s",
        "outputId": "856350cd-a52e-4bdb-a619-5829b75c5809"
      },
      "execution_count": null,
      "outputs": [
        {
          "output_type": "stream",
          "name": "stdout",
          "text": [
            "Requirement already satisfied: flwr[tf] in /usr/local/lib/python3.11/dist-packages (1.14.0)\n",
            "\u001b[33mWARNING: flwr 1.14.0 does not provide the extra 'tf'\u001b[0m\u001b[33m\n",
            "\u001b[0mRequirement already satisfied: cryptography<43.0.0,>=42.0.4 in /usr/local/lib/python3.11/dist-packages (from flwr[tf]) (42.0.8)\n",
            "Requirement already satisfied: grpcio!=1.64.2,<2.0.0,<=1.64.3,>=1.60.0 in /usr/local/lib/python3.11/dist-packages (from flwr[tf]) (1.64.3)\n",
            "Requirement already satisfied: iterators<0.0.3,>=0.0.2 in /usr/local/lib/python3.11/dist-packages (from flwr[tf]) (0.0.2)\n",
            "Requirement already satisfied: numpy<3.0.0,>=1.26.0 in /usr/local/lib/python3.11/dist-packages (from flwr[tf]) (1.26.4)\n",
            "Requirement already satisfied: pathspec<0.13.0,>=0.12.1 in /usr/local/lib/python3.11/dist-packages (from flwr[tf]) (0.12.1)\n",
            "Requirement already satisfied: protobuf<5.0.0,>=4.25.2 in /usr/local/lib/python3.11/dist-packages (from flwr[tf]) (4.25.5)\n",
            "Requirement already satisfied: pycryptodome<4.0.0,>=3.18.0 in /usr/local/lib/python3.11/dist-packages (from flwr[tf]) (3.21.0)\n",
            "Requirement already satisfied: pyyaml<7.0.0,>=6.0.2 in /usr/local/lib/python3.11/dist-packages (from flwr[tf]) (6.0.2)\n",
            "Requirement already satisfied: requests<3.0.0,>=2.31.0 in /usr/local/lib/python3.11/dist-packages (from flwr[tf]) (2.32.3)\n",
            "Requirement already satisfied: rich<14.0.0,>=13.5.0 in /usr/local/lib/python3.11/dist-packages (from flwr[tf]) (13.9.4)\n",
            "Requirement already satisfied: tomli<3.0.0,>=2.0.1 in /usr/local/lib/python3.11/dist-packages (from flwr[tf]) (2.2.1)\n",
            "Requirement already satisfied: tomli-w<2.0.0,>=1.0.0 in /usr/local/lib/python3.11/dist-packages (from flwr[tf]) (1.2.0)\n",
            "Requirement already satisfied: typer<0.13.0,>=0.12.5 in /usr/local/lib/python3.11/dist-packages (from flwr[tf]) (0.12.5)\n",
            "Requirement already satisfied: cffi>=1.12 in /usr/local/lib/python3.11/dist-packages (from cryptography<43.0.0,>=42.0.4->flwr[tf]) (1.17.1)\n",
            "Requirement already satisfied: charset-normalizer<4,>=2 in /usr/local/lib/python3.11/dist-packages (from requests<3.0.0,>=2.31.0->flwr[tf]) (3.4.1)\n",
            "Requirement already satisfied: idna<4,>=2.5 in /usr/local/lib/python3.11/dist-packages (from requests<3.0.0,>=2.31.0->flwr[tf]) (3.10)\n",
            "Requirement already satisfied: urllib3<3,>=1.21.1 in /usr/local/lib/python3.11/dist-packages (from requests<3.0.0,>=2.31.0->flwr[tf]) (2.3.0)\n",
            "Requirement already satisfied: certifi>=2017.4.17 in /usr/local/lib/python3.11/dist-packages (from requests<3.0.0,>=2.31.0->flwr[tf]) (2024.12.14)\n",
            "Requirement already satisfied: markdown-it-py>=2.2.0 in /usr/local/lib/python3.11/dist-packages (from rich<14.0.0,>=13.5.0->flwr[tf]) (3.0.0)\n",
            "Requirement already satisfied: pygments<3.0.0,>=2.13.0 in /usr/local/lib/python3.11/dist-packages (from rich<14.0.0,>=13.5.0->flwr[tf]) (2.19.1)\n",
            "Requirement already satisfied: click>=8.0.0 in /usr/local/lib/python3.11/dist-packages (from typer<0.13.0,>=0.12.5->flwr[tf]) (8.1.8)\n",
            "Requirement already satisfied: typing-extensions>=3.7.4.3 in /usr/local/lib/python3.11/dist-packages (from typer<0.13.0,>=0.12.5->flwr[tf]) (4.12.2)\n",
            "Requirement already satisfied: shellingham>=1.3.0 in /usr/local/lib/python3.11/dist-packages (from typer<0.13.0,>=0.12.5->flwr[tf]) (1.5.4)\n",
            "Requirement already satisfied: pycparser in /usr/local/lib/python3.11/dist-packages (from cffi>=1.12->cryptography<43.0.0,>=42.0.4->flwr[tf]) (2.22)\n",
            "Requirement already satisfied: mdurl~=0.1 in /usr/local/lib/python3.11/dist-packages (from markdown-it-py>=2.2.0->rich<14.0.0,>=13.5.0->flwr[tf]) (0.1.2)\n"
          ]
        }
      ]
    },
    {
      "cell_type": "code",
      "source": [
        "!pip install flwr --upgrade"
      ],
      "metadata": {
        "id": "UUPTM6jzx5_z",
        "colab": {
          "base_uri": "https://localhost:8080/"
        },
        "outputId": "5e3c6a6a-ac18-4069-8e85-6716380060bf"
      },
      "execution_count": null,
      "outputs": [
        {
          "output_type": "stream",
          "name": "stdout",
          "text": [
            "Requirement already satisfied: flwr in /usr/local/lib/python3.11/dist-packages (1.14.0)\n",
            "Requirement already satisfied: cryptography<43.0.0,>=42.0.4 in /usr/local/lib/python3.11/dist-packages (from flwr) (42.0.8)\n",
            "Requirement already satisfied: grpcio!=1.64.2,<2.0.0,<=1.64.3,>=1.60.0 in /usr/local/lib/python3.11/dist-packages (from flwr) (1.64.3)\n",
            "Requirement already satisfied: iterators<0.0.3,>=0.0.2 in /usr/local/lib/python3.11/dist-packages (from flwr) (0.0.2)\n",
            "Requirement already satisfied: numpy<3.0.0,>=1.26.0 in /usr/local/lib/python3.11/dist-packages (from flwr) (1.26.4)\n",
            "Requirement already satisfied: pathspec<0.13.0,>=0.12.1 in /usr/local/lib/python3.11/dist-packages (from flwr) (0.12.1)\n",
            "Requirement already satisfied: protobuf<5.0.0,>=4.25.2 in /usr/local/lib/python3.11/dist-packages (from flwr) (4.25.5)\n",
            "Requirement already satisfied: pycryptodome<4.0.0,>=3.18.0 in /usr/local/lib/python3.11/dist-packages (from flwr) (3.21.0)\n",
            "Requirement already satisfied: pyyaml<7.0.0,>=6.0.2 in /usr/local/lib/python3.11/dist-packages (from flwr) (6.0.2)\n",
            "Requirement already satisfied: requests<3.0.0,>=2.31.0 in /usr/local/lib/python3.11/dist-packages (from flwr) (2.32.3)\n",
            "Requirement already satisfied: rich<14.0.0,>=13.5.0 in /usr/local/lib/python3.11/dist-packages (from flwr) (13.9.4)\n",
            "Requirement already satisfied: tomli<3.0.0,>=2.0.1 in /usr/local/lib/python3.11/dist-packages (from flwr) (2.2.1)\n",
            "Requirement already satisfied: tomli-w<2.0.0,>=1.0.0 in /usr/local/lib/python3.11/dist-packages (from flwr) (1.2.0)\n",
            "Requirement already satisfied: typer<0.13.0,>=0.12.5 in /usr/local/lib/python3.11/dist-packages (from flwr) (0.12.5)\n",
            "Requirement already satisfied: cffi>=1.12 in /usr/local/lib/python3.11/dist-packages (from cryptography<43.0.0,>=42.0.4->flwr) (1.17.1)\n",
            "Requirement already satisfied: charset-normalizer<4,>=2 in /usr/local/lib/python3.11/dist-packages (from requests<3.0.0,>=2.31.0->flwr) (3.4.1)\n",
            "Requirement already satisfied: idna<4,>=2.5 in /usr/local/lib/python3.11/dist-packages (from requests<3.0.0,>=2.31.0->flwr) (3.10)\n",
            "Requirement already satisfied: urllib3<3,>=1.21.1 in /usr/local/lib/python3.11/dist-packages (from requests<3.0.0,>=2.31.0->flwr) (2.3.0)\n",
            "Requirement already satisfied: certifi>=2017.4.17 in /usr/local/lib/python3.11/dist-packages (from requests<3.0.0,>=2.31.0->flwr) (2024.12.14)\n",
            "Requirement already satisfied: markdown-it-py>=2.2.0 in /usr/local/lib/python3.11/dist-packages (from rich<14.0.0,>=13.5.0->flwr) (3.0.0)\n",
            "Requirement already satisfied: pygments<3.0.0,>=2.13.0 in /usr/local/lib/python3.11/dist-packages (from rich<14.0.0,>=13.5.0->flwr) (2.19.1)\n",
            "Requirement already satisfied: click>=8.0.0 in /usr/local/lib/python3.11/dist-packages (from typer<0.13.0,>=0.12.5->flwr) (8.1.8)\n",
            "Requirement already satisfied: typing-extensions>=3.7.4.3 in /usr/local/lib/python3.11/dist-packages (from typer<0.13.0,>=0.12.5->flwr) (4.12.2)\n",
            "Requirement already satisfied: shellingham>=1.3.0 in /usr/local/lib/python3.11/dist-packages (from typer<0.13.0,>=0.12.5->flwr) (1.5.4)\n",
            "Requirement already satisfied: pycparser in /usr/local/lib/python3.11/dist-packages (from cffi>=1.12->cryptography<43.0.0,>=42.0.4->flwr) (2.22)\n",
            "Requirement already satisfied: mdurl~=0.1 in /usr/local/lib/python3.11/dist-packages (from markdown-it-py>=2.2.0->rich<14.0.0,>=13.5.0->flwr) (0.1.2)\n"
          ]
        }
      ]
    },
    {
      "cell_type": "code",
      "source": [
        "import flwr as fl\n",
        "import numpy as np\n",
        "from typing import Dict, Tuple"
      ],
      "metadata": {
        "id": "luU-68OIzFM7"
      },
      "execution_count": null,
      "outputs": []
    },
    {
      "cell_type": "markdown",
      "source": [
        "---\n",
        "\n",
        "## **2. Key Components of Flower**\n",
        "Flower involves three main components:\n",
        "1. **Server**: Coordinates training and aggregation across clients.\n",
        "2. **Client**: Performs local computation and communicates updates with the server.\n",
        "3. **Strategy**: Determines how updates are aggregated on the server.\n",
        "\n",
        "---\n",
        "\n"
      ],
      "metadata": {
        "id": "r4KvlaKkttbL"
      }
    },
    {
      "cell_type": "markdown",
      "source": [
        "## **3. Example: Federated Learning with Flower and PyTorch**\n",
        "\n"
      ],
      "metadata": {
        "id": "4TyKx1evtwt4"
      }
    },
    {
      "cell_type": "markdown",
      "source": [
        "### **Step 1: Create the Server**\n",
        "The server coordinates training across clients.\n",
        "\n",
        "\n",
        "1. Server Address: Defines the server's IP address and port (e.g., 127.0.0.1:8080 for localhost).\n",
        "2. Strategy: The aggregation mechanism for combining client updates. Here, we use FedAvg.\n",
        "3. Number of Rounds: The server will coordinate a fixed number of federated training rounds.\n",
        "\n",
        "```python\n",
        "\n",
        "def main():\n",
        "    # Define the strategy\n",
        "    strategy = fl.server.strategy.FedAvg()  # Use FedAvg aggregation\n",
        "\n",
        "    # Start the Flower server\n",
        "    fl.server.start_server(\n",
        "        server_address=\"127.0.0.1:8080\",\n",
        "        config=fl.server.ServerConfig(num_rounds=3),  # Number of FL rounds\n",
        "        strategy=strategy\n",
        "    )\n",
        "\n",
        "if __name__ == \"__main__\":\n",
        "    main()\n",
        "```\n",
        "\n",
        "\n",
        "\n"
      ],
      "metadata": {
        "id": "GC7j_ULvt396"
      }
    },
    {
      "cell_type": "code",
      "source": [
        "def load_data():\n",
        "    x_train = np.random.rand(100, 10) #100 samples, 10 features\n",
        "    y_train = np.random.randint(0, 2, 100) #Binary labels (0 or 1)\n",
        "    x_test = np.random.rand(20, 10) #20 samples, 10 features\n",
        "    y_test = np.random.randint(0, 2, 20)\n",
        "    return (x_train, y_train), (x_test, y_test)"
      ],
      "metadata": {
        "id": "_U7ng6D4y726"
      },
      "execution_count": null,
      "outputs": []
    },
    {
      "cell_type": "code",
      "source": [
        "#Model\n",
        "\n",
        "class SimpleModel:\n",
        "    def __init__(self):\n",
        "        self.weights = np.random.rand(10)\n",
        "\n",
        "    def get_weights(self) -> list:\n",
        "        return [self.weights]\n",
        "\n",
        "    def set_weights(self, weights: list) -> None:\n",
        "        self.weights = weights[0]\n",
        "\n",
        "    def fit(self, x:np.ndarray, y:np.ndarray, epochs:int = 1) -> None:\n",
        "        for _ in range(epochs):\n",
        "            self.weights -= 0.01 * np.dot(x.T, (np.dot(x, self.weights) - y)) / len(y)\n",
        "\n",
        "    def evaluate(self, x:np.ndarray, y:np.ndarray) -> float:\n",
        "        predictions = np.dot(x, self.weights) > 0.5\n",
        "        accuracy = np.mean(predictions == y)\n",
        "        return accuracy\n",
        "\n",
        "class FlowerClient(fl.client.NumPyClient):\n",
        "    def __init__(self):\n",
        "        self.model = SimpleModel()\n",
        "        (self.x_train, self.y_train), (self.x_test, self.y_test) = load_data()\n",
        "\n",
        "    def get_parameters(self):\n",
        "        \"\"\"Return the current model parameters.\"\"\"\n",
        "        return self.model.get_weights()\n",
        "\n",
        "    def set_parameters(self, parameters):\n",
        "        \"\"\"Set the model parameters.\"\"\"\n",
        "        self.model.set_weights(parameters)\n",
        "\n",
        "    def fit(self, parameters, config):\n",
        "        \"\"\"Train the model with provided parameters and return the new parameters.\"\"\"\n",
        "        self.set_parameters(parameters)\n",
        "\n",
        "    def evaluate(self, parameters, config):\n",
        "        \"\"\"Evaluate the model and return the results.\"\"\"\n",
        "        self.set_parameters(parameters)\n",
        "        accuracy = self.model.evaluate(self.x_test, self.y_test)\n",
        "        return float(accuracy), len(self.x_test), {}\n"
      ],
      "metadata": {
        "id": "Y0HBQnkgyt-_"
      },
      "execution_count": null,
      "outputs": []
    },
    {
      "cell_type": "code",
      "source": [
        "def main():\n",
        "    strategy = fl.server.strategy.FedAvg()\n",
        "    fl.server.start_server(\n",
        "        server_address=\"0.0.0.0:8081\",  # Use a different port for google colab (e.g., 8081)\n",
        "        config=fl.server.ServerConfig(num_rounds=3),\n",
        "        strategy=strategy\n",
        "    )\n",
        "\n",
        "if __name__ == \"__main__\":\n",
        "    main()\n"
      ],
      "metadata": {
        "colab": {
          "base_uri": "https://localhost:8080/"
        },
        "id": "iLPTvgWqt60F",
        "outputId": "275e3133-c6e8-45fe-ff4c-444622a75be9"
      },
      "execution_count": null,
      "outputs": [
        {
          "metadata": {
            "tags": null
          },
          "name": "stderr",
          "output_type": "stream",
          "text": [
            "\u001b[93mWARNING \u001b[0m:   DEPRECATED FEATURE: flwr.server.start_server() is deprecated.\n",
            "\tInstead, use the `flower-superlink` CLI command to start a SuperLink as shown below:\n",
            "\n",
            "\t\t$ flower-superlink --insecure\n",
            "\n",
            "\tTo view usage and all available options, run:\n",
            "\n",
            "\t\t$ flower-superlink --help\n",
            "\n",
            "\tUsing `start_server()` is deprecated.\n",
            "\n",
            "            This is a deprecated feature. It will be removed\n",
            "            entirely in future versions of Flower.\n",
            "        \n",
            "WARNING:flwr:DEPRECATED FEATURE: flwr.server.start_server() is deprecated.\n",
            "\tInstead, use the `flower-superlink` CLI command to start a SuperLink as shown below:\n",
            "\n",
            "\t\t$ flower-superlink --insecure\n",
            "\n",
            "\tTo view usage and all available options, run:\n",
            "\n",
            "\t\t$ flower-superlink --help\n",
            "\n",
            "\tUsing `start_server()` is deprecated.\n",
            "\n",
            "            This is a deprecated feature. It will be removed\n",
            "            entirely in future versions of Flower.\n",
            "        \n",
            "\u001b[92mINFO \u001b[0m:      Starting Flower server, config: num_rounds=3, no round_timeout\n",
            "INFO:flwr:Starting Flower server, config: num_rounds=3, no round_timeout\n",
            "\u001b[92mINFO \u001b[0m:      Flower ECE: gRPC server running (3 rounds), SSL is disabled\n",
            "INFO:flwr:Flower ECE: gRPC server running (3 rounds), SSL is disabled\n",
            "\u001b[92mINFO \u001b[0m:      [INIT]\n",
            "INFO:flwr:[INIT]\n",
            "\u001b[92mINFO \u001b[0m:      Requesting initial parameters from one random client\n",
            "INFO:flwr:Requesting initial parameters from one random client\n"
          ]
        }
      ]
    },
    {
      "cell_type": "code",
      "source": [
        "# Start the client\n",
        "def main():\n",
        "    client = FlowerClient()\n",
        "    fl.client.start_numpy_client(server_address=\"127.0.0.1:8081\", client=client)\n",
        "\n",
        "if __name__ == \"__main__\":\n",
        "    main()"
      ],
      "metadata": {
        "id": "drePQZIp0zpb"
      },
      "execution_count": null,
      "outputs": []
    },
    {
      "cell_type": "markdown",
      "source": [
        "\n",
        "### **Client Code**\n",
        "\n",
        "```python\n",
        "\n",
        "# Example dataset\n",
        "def load_data():\n",
        "    # Dummy data: Replace with your own dataset\n",
        "    X_train = np.random.rand(100, 10)  # 100 samples, 10 features\n",
        "    y_train = np.random.randint(0, 2, 100)  # Binary labels (0 or 1)\n",
        "    X_test = np.random.rand(20, 10)  # 20 samples, 10 features\n",
        "    y_test = np.random.randint(0, 2, 20)\n",
        "    return (X_train, y_train), (X_test, y_test)\n",
        "\n",
        "# A simple model for demonstration\n",
        "class SimpleModel:\n",
        "    def __init__(self):\n",
        "        self.weights = np.random.rand(10)  # Randomly initialized weights\n",
        "\n",
        "    def get_weights(self) -> list:\n",
        "        return [self.weights]\n",
        "\n",
        "    def set_weights(self, weights: list) -> None:\n",
        "        self.weights = weights[0]\n",
        "\n",
        "    def fit(self, X: np.ndarray, y: np.ndarray, epochs: int = 1) -> None:\n",
        "        for _ in range(epochs):\n",
        "            self.weights -= 0.01 * np.dot(X.T, (np.dot(X, self.weights) - y)) / len(y)  # Gradient descent\n",
        "\n",
        "    def evaluate(self, X: np.ndarray, y: np.ndarray) -> float:\n",
        "        predictions = np.dot(X, self.weights) > 0.5  # Simple threshold\n",
        "        accuracy = np.mean(predictions == y)\n",
        "        return accuracy\n",
        "\n",
        "# Define the Flower client\n",
        "class FlowerClient(fl.client.NumPyClient):\n",
        "    def __init__(self):\n",
        "        self.model = SimpleModel()\n",
        "        (self.X_train, self.y_train), (self.X_test, self.y_test) = load_data()\n",
        "\n",
        "    def get_parameters(self):\n",
        "        \"\"\"Return the current model parameters.\"\"\"\n",
        "        return self.model.get_weights()\n",
        "\n",
        "    def set_parameters(self, parameters):\n",
        "        \"\"\"Set the model parameters.\"\"\"\n",
        "        self.model.set_weights(parameters)\n",
        "\n",
        "    def fit(self, parameters, config):\n",
        "        \"\"\"Train the model with provided parameters and return the new parameters.\"\"\"\n",
        "        self.set_parameters(parameters)\n",
        "        self.model.fit(self.X_train, self.y_train, epochs=5)\n",
        "        return self.model.get_weights(), len(self.X_train), {}\n",
        "\n",
        "    def evaluate(self, parameters, config):\n",
        "        \"\"\"Evaluate the model and return the results.\"\"\"\n",
        "        self.set_parameters(parameters)\n",
        "        accuracy = self.model.evaluate(self.X_test, self.y_test)\n",
        "        return float(accuracy), len(self.X_test), {}\n",
        "\n",
        "# Start the client\n",
        "def main():\n",
        "    client = FlowerClient()\n",
        "    fl.client.start_numpy_client(server_address=\"127.0.0.1:8081\", client=client)\n",
        "\n",
        "if __name__ == \"__main__\":\n",
        "    main()\n",
        "```\n",
        "\n",
        "---\n",
        "\n",
        "### **Explanation of the Client Code**\n",
        "\n",
        "1. **Loading Data**:\n",
        "   - The `load_data()` function generates random data for training and testing.\n",
        "   - Replace this with actual datasets for practical use (e.g., `sklearn.datasets` or other sources).\n",
        "\n",
        "2. **Simple Model**:\n",
        "   - `SimpleModel` is a basic implementation with randomly initialized weights.\n",
        "   - It includes methods to:\n",
        "     - Get weights (`get_weights`).\n",
        "     - Set weights (`set_weights`).\n",
        "     - Train the model using gradient descent (`fit`).\n",
        "     - Evaluate the model on test data (`evaluate`).\n",
        "\n",
        "3. **Flower Client**:\n",
        "   - The `FlowerClient` class extends `fl.client.NumPyClient` and implements:\n",
        "     - `get_parameters`: Sends the model parameters to the server.\n",
        "     - `set_parameters`: Updates the client model with parameters received from the server.\n",
        "     - `fit`: Trains the model and returns updated parameters, the number of training samples, and metadata.\n",
        "     - `evaluate`: Evaluates the model and sends accuracy and the number of test samples to the server.\n",
        "\n",
        "4. **Client Initialization**:\n",
        "   - The `main()` function initializes the client and connects it to the server using the `start_numpy_client()` function.\n",
        "\n",
        "5. **Server Address**:\n",
        "   - `server_address=\"127.0.0.1:8081\"` specifies the server address and port.\n",
        "   - If running in Colab, ensure the server is accessible, and replace the address if needed.\n",
        "\n",
        "---\n",
        "\n",
        "### **Running the Code**\n",
        "\n",
        "1. **Start the Server**:\n",
        "   - Run the server code in a separate Colab notebook or local environment.\n",
        "\n",
        "2. **Start the Client**:\n",
        "   - Run the above client code in a Colab notebook.\n",
        "   - Ensure the `server_address` matches the server's actual address and port.\n",
        "\n",
        "3. **Observe Communication**:\n",
        "   - The client and server will exchange parameters.\n",
        "   - Training and evaluation will be performed based on the federated learning rounds configured on the server.\n",
        "\n",
        "---\n"
      ],
      "metadata": {
        "id": "1kkN5-h0t6-Q"
      }
    },
    {
      "cell_type": "markdown",
      "source": [
        "### **Step 3: Running the System**\n",
        "1. **Start the Server**:\n",
        "   ```bash\n",
        "   python server.py\n",
        "   ```\n",
        "\n",
        "2. **Start Multiple Clients** (e.g., 3 clients):\n",
        "   Open separate terminals and run:\n",
        "   ```bash\n",
        "   python client.py\n",
        "   ```\n",
        "\n",
        "---\n",
        "\n"
      ],
      "metadata": {
        "id": "9CJSnSGyt-PD"
      }
    },
    {
      "cell_type": "code",
      "source": [
        "python server.py"
      ],
      "metadata": {
        "id": "-s264oE6uAGR"
      },
      "execution_count": null,
      "outputs": []
    },
    {
      "cell_type": "code",
      "source": [
        "python client.py"
      ],
      "metadata": {
        "id": "rNKwnytR31cF"
      },
      "execution_count": null,
      "outputs": []
    },
    {
      "cell_type": "markdown",
      "source": [
        "## **4. Advanced Strategies**\n",
        "Flower supports several strategies. Customize aggregation or use prebuilt strategies:\n",
        "- `FedAvg`: Basic Federated Averaging.\n",
        "- `FedAdagrad`: Adaptive optimization for FL.\n",
        "- `FedProx`: Adds proximal term to reduce client drift.\n",
        "- **Custom Strategy**:\n",
        "   You can implement your own strategy by subclassing `fl.server.strategy.Strategy`.\n",
        "\n",
        "Example:\n",
        "```python\n",
        "class CustomStrategy(fl.server.strategy.Strategy):\n",
        "    def configure_fit(self, rnd, parameters, client_manager):\n",
        "        # Custom logic for selecting clients\n",
        "        pass\n",
        "\n",
        "    def aggregate_fit(self, rnd, results, failures):\n",
        "        # Custom aggregation logic\n",
        "        pass\n",
        "```\n",
        "\n",
        "---\n",
        "\n"
      ],
      "metadata": {
        "id": "M9C0FRrMuAUX"
      }
    },
    {
      "cell_type": "code",
      "source": [],
      "metadata": {
        "id": "N0er2YbuuDC-"
      },
      "execution_count": null,
      "outputs": []
    },
    {
      "cell_type": "markdown",
      "source": [
        "## **5. Scaling with Docker**\n",
        "Flower provides Docker images for scalable FL systems. Use Docker Compose to deploy servers and clients on multiple nodes.\n",
        "\n",
        "---\n",
        "\n"
      ],
      "metadata": {
        "id": "zm1uEORzuDNN"
      }
    },
    {
      "cell_type": "markdown",
      "source": [
        "\n",
        "## **6. Monitoring with Flower**\n",
        "Flower has experimental monitoring using Prometheus and Grafana. Add the following to your server script:\n",
        "\n",
        "```python\n",
        "from flwr.monitoring.server_monitor import ServerMonitor\n",
        "\n",
        "monitor = ServerMonitor()\n",
        "fl.server.start_server(..., monitor=monitor)\n",
        "```\n",
        "\n",
        "---"
      ],
      "metadata": {
        "id": "ZMPrBt8OuKQu"
      }
    },
    {
      "cell_type": "code",
      "source": [],
      "metadata": {
        "id": "jDz8Jb1quFrQ"
      },
      "execution_count": null,
      "outputs": []
    },
    {
      "cell_type": "markdown",
      "source": [
        "\n",
        "## **7. Use Cases**\n",
        "- **Healthcare**: Train ML models on sensitive medical data across hospitals.\n",
        "- **IoT**: Enable collaborative ML on edge devices.\n",
        "- **Finance**: Secure ML for fraud detection across banks.\n",
        "\n",
        "---\n",
        "\n",
        "### Flower Documentation:\n",
        "For additional details, visit the [official Flower documentation](https://flower.dev)."
      ],
      "metadata": {
        "id": "XRzD_4BAuF0E"
      }
    },
    {
      "cell_type": "code",
      "execution_count": null,
      "metadata": {
        "id": "d8ZJ1_iLtbOW"
      },
      "outputs": [],
      "source": []
    }
  ]
}