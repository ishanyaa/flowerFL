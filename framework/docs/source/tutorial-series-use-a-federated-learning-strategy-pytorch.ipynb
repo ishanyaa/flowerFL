{
  "cells": [
    {
      "cell_type": "markdown",
      "metadata": {
        "id": "yxxoVPkQ0TXu"
      },
      "source": [
        "# Use a federated learning strategy\n",
        "\n",
        "Welcome to the next part of the federated learning tutorial. In previous parts of this tutorial, we introduced federated learning with PyTorch and Flower ([part 1](https://flower.ai/docs/framework/tutorial-get-started-with-flower-pytorch.html)).\n",
        "\n",
        "In this notebook, we'll begin to customize the federated learning system we built in the introductory notebook again, using the Flower framework, Flower Datasets, and PyTorch.\n",
        "\n",
        "> [Star Flower on GitHub](https://github.com/adap/flower) ⭐️ and join the Flower community on Flower Discuss and the Flower Slack to connect, ask questions, and get help:\n",
        "> - [Join Flower Discuss](https://discuss.flower.ai/) We'd love to hear from you in the `Introduction` topic! If anything is unclear, post in `Flower Help - Beginners`.\n",
        "> - [Join Flower Slack](https://flower.ai/join-slack) We'd love to hear from you in the `#introductions` channel! If anything is unclear, head over to the `#questions` channel.\n",
        "\n",
        "Let's move beyond FedAvg with Flower strategies! 🌼"
      ]
    },
    {
      "cell_type": "markdown",
      "metadata": {
        "id": "4x_XIxNC0TX1"
      },
      "source": [
        "## Preparation\n",
        "\n",
        "Before we begin with the actual code, let's make sure that we have everything we need."
      ]
    },
    {
      "cell_type": "markdown",
      "metadata": {
        "id": "VLGzSlyE0TX2"
      },
      "source": [
        "### Installing dependencies\n",
        "\n",
        "First, we install the necessary packages:"
      ]
    },
    {
      "cell_type": "code",
      "execution_count": 1,
      "metadata": {
        "colab": {
          "base_uri": "https://localhost:8080/"
        },
        "id": "L-Wp-XyM0TX3",
        "outputId": "90059c2a-4ab9-412c-9beb-9051fd56a020"
      },
      "outputs": [
        {
          "output_type": "stream",
          "name": "stdout",
          "text": [
            "\u001b[2K   \u001b[90m━━━━━━━━━━━━━━━━━━━━━━━━━━━━━━━━━━━━━━━━\u001b[0m \u001b[32m65.6/65.6 MB\u001b[0m \u001b[31m14.2 MB/s\u001b[0m eta \u001b[36m0:00:00\u001b[0m\n",
            "\u001b[2K   \u001b[90m━━━━━━━━━━━━━━━━━━━━━━━━━━━━━━━━━━━━━━━━\u001b[0m \u001b[32m3.9/3.9 MB\u001b[0m \u001b[31m73.5 MB/s\u001b[0m eta \u001b[36m0:00:00\u001b[0m\n",
            "\u001b[2K   \u001b[90m━━━━━━━━━━━━━━━━━━━━━━━━━━━━━━━━━━━━━━━━\u001b[0m \u001b[32m480.6/480.6 kB\u001b[0m \u001b[31m33.1 MB/s\u001b[0m eta \u001b[36m0:00:00\u001b[0m\n",
            "\u001b[2K   \u001b[90m━━━━━━━━━━━━━━━━━━━━━━━━━━━━━━━━━━━━━━━━\u001b[0m \u001b[32m179.3/179.3 kB\u001b[0m \u001b[31m12.2 MB/s\u001b[0m eta \u001b[36m0:00:00\u001b[0m\n",
            "\u001b[2K   \u001b[90m━━━━━━━━━━━━━━━━━━━━━━━━━━━━━━━━━━━━━━━━\u001b[0m \u001b[32m5.6/5.6 MB\u001b[0m \u001b[31m80.3 MB/s\u001b[0m eta \u001b[36m0:00:00\u001b[0m\n",
            "\u001b[2K   \u001b[90m━━━━━━━━━━━━━━━━━━━━━━━━━━━━━━━━━━━━━━━━\u001b[0m \u001b[32m2.3/2.3 MB\u001b[0m \u001b[31m71.0 MB/s\u001b[0m eta \u001b[36m0:00:00\u001b[0m\n",
            "\u001b[2K   \u001b[90m━━━━━━━━━━━━━━━━━━━━━━━━━━━━━━━━━━━━━━━━\u001b[0m \u001b[32m236.0/236.0 kB\u001b[0m \u001b[31m22.3 MB/s\u001b[0m eta \u001b[36m0:00:00\u001b[0m\n",
            "\u001b[2K   \u001b[90m━━━━━━━━━━━━━━━━━━━━━━━━━━━━━━━━━━━━━━━━\u001b[0m \u001b[32m47.3/47.3 kB\u001b[0m \u001b[31m4.0 MB/s\u001b[0m eta \u001b[36m0:00:00\u001b[0m\n",
            "\u001b[2K   \u001b[90m━━━━━━━━━━━━━━━━━━━━━━━━━━━━━━━━━━━━━━━━\u001b[0m \u001b[32m523.6/523.6 kB\u001b[0m \u001b[31m37.4 MB/s\u001b[0m eta \u001b[36m0:00:00\u001b[0m\n",
            "\u001b[2K   \u001b[90m━━━━━━━━━━━━━━━━━━━━━━━━━━━━━━━━━━━━━━━━\u001b[0m \u001b[32m87.0/87.0 kB\u001b[0m \u001b[31m8.7 MB/s\u001b[0m eta \u001b[36m0:00:00\u001b[0m\n",
            "\u001b[2K   \u001b[90m━━━━━━━━━━━━━━━━━━━━━━━━━━━━━━━━━━━━━━━━\u001b[0m \u001b[32m116.3/116.3 kB\u001b[0m \u001b[31m11.8 MB/s\u001b[0m eta \u001b[36m0:00:00\u001b[0m\n",
            "\u001b[2K   \u001b[90m━━━━━━━━━━━━━━━━━━━━━━━━━━━━━━━━━━━━━━━━\u001b[0m \u001b[32m143.5/143.5 kB\u001b[0m \u001b[31m12.1 MB/s\u001b[0m eta \u001b[36m0:00:00\u001b[0m\n",
            "\u001b[2K   \u001b[90m━━━━━━━━━━━━━━━━━━━━━━━━━━━━━━━━━━━━━━━━\u001b[0m \u001b[32m194.8/194.8 kB\u001b[0m \u001b[31m14.6 MB/s\u001b[0m eta \u001b[36m0:00:00\u001b[0m\n",
            "\u001b[?25h\u001b[31mERROR: pip's dependency resolver does not currently take into account all the packages that are installed. This behaviour is the source of the following dependency conflicts.\n",
            "gcsfs 2024.10.0 requires fsspec==2024.10.0, but you have fsspec 2024.9.0 which is incompatible.\u001b[0m\u001b[31m\n",
            "\u001b[0m"
          ]
        }
      ],
      "source": [
        "!pip install -q flwr[simulation] flwr-datasets[vision] torch torchvision"
      ]
    },
    {
      "cell_type": "markdown",
      "metadata": {
        "id": "0fGfEtlq0TX4"
      },
      "source": [
        "Now that we have all dependencies installed, we can import everything we need for this tutorial:"
      ]
    },
    {
      "cell_type": "code",
      "execution_count": 10,
      "metadata": {
        "colab": {
          "base_uri": "https://localhost:8080/"
        },
        "id": "teFktseV0TX5",
        "outputId": "728d4fa9-ffd2-44d9-86f5-edc0d1c230af"
      },
      "outputs": [
        {
          "output_type": "stream",
          "name": "stdout",
          "text": [
            "Training on cuda\n",
            "Flower 1.14.0 / PyTorch 2.5.1+cu121\n"
          ]
        }
      ],
      "source": [
        "from collections import OrderedDict\n",
        "from typing import Dict, List, Optional, Tuple\n",
        "\n",
        "import numpy as np\n",
        "import torch\n",
        "import torch.nn as nn\n",
        "import torch.nn.functional as F\n",
        "import torchvision.transforms as transforms\n",
        "from torch.utils.data import DataLoader\n",
        "\n",
        "import flwr\n",
        "from flwr.client import Client, ClientApp, NumPyClient\n",
        "from flwr.server import ServerApp, ServerConfig, ServerAppComponents\n",
        "from flwr.server.strategy import FedAvg, FedAdagrad\n",
        "from flwr.simulation import run_simulation\n",
        "from flwr_datasets import FederatedDataset\n",
        "from flwr.common import ndarrays_to_parameters, NDArrays, Scalar, Context\n",
        "\n",
        "DEVICE = torch.device(\"cuda\")  # Try \"cuda\" to train on GPU\n",
        "print(f\"Training on {DEVICE}\")\n",
        "print(f\"Flower {flwr.__version__} / PyTorch {torch.__version__}\")"
      ]
    },
    {
      "cell_type": "markdown",
      "metadata": {
        "id": "QNcl0pRO0TX6"
      },
      "source": [
        "It is possible to switch to a runtime that has GPU acceleration enabled (on Google Colab: `Runtime > Change runtime type > Hardware acclerator: GPU > Save`). Note, however, that Google Colab is not always able to offer GPU acceleration. If you see an error related to GPU availability in one of the following sections, consider switching back to CPU-based execution by setting `DEVICE = torch.device(\"cpu\")`. If the runtime has GPU acceleration enabled, you should see the output `Training on cuda`, otherwise it'll say `Training on cpu`."
      ]
    },
    {
      "cell_type": "markdown",
      "metadata": {
        "id": "eyKx8goc0TX7"
      },
      "source": [
        "### Data loading\n",
        "\n",
        "Let's now load the CIFAR-10 training and test set, partition them into ten smaller datasets (each split into training and validation set), and wrap everything in their own `DataLoader`. We introduce a new parameter `num_partitions` which allows us to call `load_datasets` with different numbers of partitions."
      ]
    },
    {
      "cell_type": "code",
      "execution_count": 3,
      "metadata": {
        "id": "-Jp46LSZ0TX8"
      },
      "outputs": [],
      "source": [
        "NUM_PARTITIONS = 10\n",
        "BATCH_SIZE = 32\n",
        "\n",
        "\n",
        "def load_datasets(partition_id: int, num_partitions: int):\n",
        "    fds = FederatedDataset(dataset=\"cifar10\", partitioners={\"train\": num_partitions})\n",
        "    partition = fds.load_partition(partition_id)\n",
        "    # Divide data on each node: 80% train, 20% test\n",
        "    partition_train_test = partition.train_test_split(test_size=0.2, seed=42)\n",
        "    pytorch_transforms = transforms.Compose(\n",
        "        [transforms.ToTensor(), transforms.Normalize((0.5, 0.5, 0.5), (0.5, 0.5, 0.5))]\n",
        "    )\n",
        "\n",
        "    def apply_transforms(batch):\n",
        "        # Instead of passing transforms to CIFAR10(..., transform=transform)\n",
        "        # we will use this function to dataset.with_transform(apply_transforms)\n",
        "        # The transforms object is exactly the same\n",
        "        batch[\"img\"] = [pytorch_transforms(img) for img in batch[\"img\"]]\n",
        "        return batch\n",
        "\n",
        "    partition_train_test = partition_train_test.with_transform(apply_transforms)\n",
        "    trainloader = DataLoader(\n",
        "        partition_train_test[\"train\"], batch_size=BATCH_SIZE, shuffle=True\n",
        "    )\n",
        "    valloader = DataLoader(partition_train_test[\"test\"], batch_size=BATCH_SIZE)\n",
        "    testset = fds.load_split(\"test\").with_transform(apply_transforms)\n",
        "    testloader = DataLoader(testset, batch_size=BATCH_SIZE)\n",
        "    return trainloader, valloader, testloader"
      ]
    },
    {
      "cell_type": "markdown",
      "metadata": {
        "id": "xf0cxDsp0TX9"
      },
      "source": [
        "### Model training/evaluation\n",
        "\n",
        "Let's continue with the usual model definition (including `set_parameters` and `get_parameters`), training and test functions:"
      ]
    },
    {
      "cell_type": "code",
      "execution_count": 4,
      "metadata": {
        "id": "RGThTpGf0TX-"
      },
      "outputs": [],
      "source": [
        "class Net(nn.Module):\n",
        "    def __init__(self) -> None:\n",
        "        super(Net, self).__init__()\n",
        "        self.conv1 = nn.Conv2d(3, 6, 5)\n",
        "        self.pool = nn.MaxPool2d(2, 2)\n",
        "        self.conv2 = nn.Conv2d(6, 16, 5)\n",
        "        self.fc1 = nn.Linear(16 * 5 * 5, 120)\n",
        "        self.fc2 = nn.Linear(120, 84)\n",
        "        self.fc3 = nn.Linear(84, 10)\n",
        "\n",
        "    def forward(self, x: torch.Tensor) -> torch.Tensor:\n",
        "        x = self.pool(F.relu(self.conv1(x)))\n",
        "        x = self.pool(F.relu(self.conv2(x)))\n",
        "        x = x.view(-1, 16 * 5 * 5)\n",
        "        x = F.relu(self.fc1(x))\n",
        "        x = F.relu(self.fc2(x))\n",
        "        x = self.fc3(x)\n",
        "        return x\n",
        "\n",
        "\n",
        "def get_parameters(net) -> List[np.ndarray]:\n",
        "    return [val.cpu().numpy() for _, val in net.state_dict().items()]\n",
        "\n",
        "\n",
        "def set_parameters(net, parameters: List[np.ndarray]):\n",
        "    params_dict = zip(net.state_dict().keys(), parameters)\n",
        "    state_dict = OrderedDict({k: torch.Tensor(v) for k, v in params_dict})\n",
        "    net.load_state_dict(state_dict, strict=True)\n",
        "\n",
        "\n",
        "def train(net, trainloader, epochs: int):\n",
        "    \"\"\"Train the network on the training set.\"\"\"\n",
        "    criterion = torch.nn.CrossEntropyLoss()\n",
        "    optimizer = torch.optim.Adam(net.parameters())\n",
        "    net.train()\n",
        "    for epoch in range(epochs):\n",
        "        correct, total, epoch_loss = 0, 0, 0.0\n",
        "        for batch in trainloader:\n",
        "            images, labels = batch[\"img\"], batch[\"label\"]\n",
        "            images, labels = images.to(DEVICE), labels.to(DEVICE)\n",
        "            optimizer.zero_grad()\n",
        "            outputs = net(images)\n",
        "            loss = criterion(net(images), labels)\n",
        "            loss.backward()\n",
        "            optimizer.step()\n",
        "            # Metrics\n",
        "            epoch_loss += loss\n",
        "            total += labels.size(0)\n",
        "            correct += (torch.max(outputs.data, 1)[1] == labels).sum().item()\n",
        "        epoch_loss /= len(trainloader.dataset)\n",
        "        epoch_acc = correct / total\n",
        "        print(f\"Epoch {epoch+1}: train loss {epoch_loss}, accuracy {epoch_acc}\")\n",
        "\n",
        "\n",
        "def test(net, testloader):\n",
        "    \"\"\"Evaluate the network on the entire test set.\"\"\"\n",
        "    criterion = torch.nn.CrossEntropyLoss()\n",
        "    correct, total, loss = 0, 0, 0.0\n",
        "    net.eval()\n",
        "    with torch.no_grad():\n",
        "        for batch in testloader:\n",
        "            images, labels = batch[\"img\"], batch[\"label\"]\n",
        "            images, labels = images.to(DEVICE), labels.to(DEVICE)\n",
        "            outputs = net(images)\n",
        "            loss += criterion(outputs, labels).item()\n",
        "            _, predicted = torch.max(outputs.data, 1)\n",
        "            total += labels.size(0)\n",
        "            correct += (predicted == labels).sum().item()\n",
        "    loss /= len(testloader.dataset)\n",
        "    accuracy = correct / total\n",
        "    return loss, accuracy"
      ]
    },
    {
      "cell_type": "markdown",
      "metadata": {
        "id": "pA6qOn7F0TYA"
      },
      "source": [
        "### Flower client\n",
        "\n",
        "To implement the Flower client, we (again) create a subclass of `flwr.client.NumPyClient` and implement the three methods `get_parameters`, `fit`, and `evaluate`. Here, we also pass the `partition_id` to the client and use it log additional details. We then create an instance of `ClientApp` and pass it the `client_fn`."
      ]
    },
    {
      "cell_type": "code",
      "execution_count": 5,
      "metadata": {
        "id": "3blhuTmC0TYA"
      },
      "outputs": [],
      "source": [
        "class FlowerClient(NumPyClient):\n",
        "    def __init__(self, partition_id, net, trainloader, valloader):\n",
        "        self.partition_id = partition_id\n",
        "        self.net = net\n",
        "        self.trainloader = trainloader\n",
        "        self.valloader = valloader\n",
        "\n",
        "    def get_parameters(self, config):\n",
        "        print(f\"[Client {self.partition_id}] get_parameters\")\n",
        "        return get_parameters(self.net)\n",
        "\n",
        "    def fit(self, parameters, config):\n",
        "        print(f\"[Client {self.partition_id}] fit, config: {config}\")\n",
        "        set_parameters(self.net, parameters)\n",
        "        train(self.net, self.trainloader, epochs=1)\n",
        "        return get_parameters(self.net), len(self.trainloader), {}\n",
        "\n",
        "    def evaluate(self, parameters, config):\n",
        "        print(f\"[Client {self.partition_id}] evaluate, config: {config}\")\n",
        "        set_parameters(self.net, parameters)\n",
        "        loss, accuracy = test(self.net, self.valloader)\n",
        "        return float(loss), len(self.valloader), {\"accuracy\": float(accuracy)}\n",
        "\n",
        "\n",
        "def client_fn(context: Context) -> Client:\n",
        "    net = Net().to(DEVICE)\n",
        "\n",
        "    # Read the node_config to fetch data partition associated to this node\n",
        "    partition_id = context.node_config[\"partition-id\"]\n",
        "    num_partitions = context.node_config[\"num-partitions\"]\n",
        "\n",
        "    trainloader, valloader, _ = load_datasets(partition_id, num_partitions)\n",
        "    return FlowerClient(partition_id, net, trainloader, valloader).to_client()\n",
        "\n",
        "\n",
        "# Create the ClientApp\n",
        "client = ClientApp(client_fn=client_fn)"
      ]
    },
    {
      "cell_type": "markdown",
      "metadata": {
        "id": "OELwGORv0TYB"
      },
      "source": [
        "## Strategy customization\n",
        "\n",
        "So far, everything should look familiar if you've worked through the introductory notebook. With that, we're ready to introduce a number of new features."
      ]
    },
    {
      "cell_type": "markdown",
      "metadata": {
        "id": "TTTANNiO0TYC"
      },
      "source": [
        "### Server-side parameter **initialization**\n",
        "\n",
        "Flower, by default, initializes the global model by asking one random client for the initial parameters. In many cases, we want more control over parameter initialization though. Flower therefore allows you to directly pass the initial parameters to the Strategy. We create an instance of `Net()` and get the paramaters as follows:"
      ]
    },
    {
      "cell_type": "code",
      "execution_count": 6,
      "metadata": {
        "id": "ZsXDV8ir0TYC"
      },
      "outputs": [],
      "source": [
        "# Create an instance of the model and get the parameters\n",
        "params = get_parameters(Net())"
      ]
    },
    {
      "cell_type": "markdown",
      "metadata": {
        "id": "UNFBiaP80TYE"
      },
      "source": [
        "Next, we create a `server_fn` that returns the components needed for the server. Within `server_fn`, we create a Strategy that uses the initial parameters."
      ]
    },
    {
      "cell_type": "code",
      "execution_count": 7,
      "metadata": {
        "id": "DruGD-eD0TYF"
      },
      "outputs": [],
      "source": [
        "def server_fn(context: Context) -> ServerAppComponents:\n",
        "    # Create FedAvg strategy\n",
        "    strategy = FedAvg(\n",
        "        fraction_fit=0.3,\n",
        "        fraction_evaluate=0.3,\n",
        "        min_fit_clients=3,\n",
        "        min_evaluate_clients=3,\n",
        "        min_available_clients=NUM_PARTITIONS,\n",
        "        initial_parameters=ndarrays_to_parameters(\n",
        "            params\n",
        "        ),  # Pass initial model parameters\n",
        "    )\n",
        "\n",
        "    # Configure the server for 3 rounds of training\n",
        "    config = ServerConfig(num_rounds=3)\n",
        "    return ServerAppComponents(strategy=strategy, config=config)"
      ]
    },
    {
      "cell_type": "markdown",
      "metadata": {
        "id": "Fcz6MWRp0TYH"
      },
      "source": [
        "Passing `initial_parameters` to the `FedAvg` strategy prevents Flower from asking one of the clients for the initial parameters. In `server_fn`, we pass this new `strategy` and a `ServerConfig` for defining the number of federated learning rounds (`num_rounds`).\n",
        "\n",
        "Similar to the `ClientApp`, we now create the `ServerApp` using the `server_fn`:"
      ]
    },
    {
      "cell_type": "code",
      "execution_count": 8,
      "metadata": {
        "id": "UKxpz2cs0TYI"
      },
      "outputs": [],
      "source": [
        "# Create ServerApp\n",
        "server = ServerApp(server_fn=server_fn)"
      ]
    },
    {
      "cell_type": "code",
      "source": [
        "import torch\n",
        "DEVICE = torch.device(\"cuda\" if torch.cuda.is_available() else \"cpu\")\n",
        "print(f\"Using device: {DEVICE}\")"
      ],
      "metadata": {
        "colab": {
          "base_uri": "https://localhost:8080/"
        },
        "id": "LxcXum8E5Csw",
        "outputId": "e828a8fe-de1b-4622-d69f-6f5f58e45836"
      },
      "execution_count": 11,
      "outputs": [
        {
          "output_type": "stream",
          "name": "stdout",
          "text": [
            "Using device: cuda\n"
          ]
        }
      ]
    },
    {
      "cell_type": "code",
      "source": [
        "# Specify backend configuration based on GPU availability\n",
        "backend_config = {\"client_resources\": {\"num_cpus\": 2, \"num_gpus\": 1}}  # Allocate 1 GPU if CUDA is available\n",
        "\n",
        "# Run simulation with appropriate resource allocation\n",
        "try:\n",
        "    run_simulation(\n",
        "        server_app=server,\n",
        "        client_app=client,\n",
        "        num_supernodes=NUM_PARTITIONS,\n",
        "        backend_config=backend_config,\n",
        "    )\n",
        "except KeyError as e:\n",
        "    print(f\"KeyError encountered: {e}. Please check your backend configuration.\")\n",
        "except RuntimeError as e:\n",
        "    print(f\"RuntimeError encountered: {e}. The simulation engine might have crashed.\")\n"
      ],
      "metadata": {
        "colab": {
          "base_uri": "https://localhost:8080/"
        },
        "id": "MJ87ikwt5JZH",
        "outputId": "23191402-bf60-4075-e8e9-5389f7cc6edf"
      },
      "execution_count": 12,
      "outputs": [
        {
          "output_type": "stream",
          "name": "stderr",
          "text": [
            "\u001b[92mINFO \u001b[0m:      Starting Flower ServerApp, config: num_rounds=3, no round_timeout\n",
            "\u001b[92mINFO \u001b[0m:      \n",
            "\u001b[92mINFO \u001b[0m:      [INIT]\n",
            "\u001b[92mINFO \u001b[0m:      Using initial global parameters provided by strategy\n",
            "\u001b[92mINFO \u001b[0m:      Starting evaluation of initial global parameters\n",
            "\u001b[92mINFO \u001b[0m:      Evaluation returned no results (`None`)\n",
            "\u001b[92mINFO \u001b[0m:      \n",
            "\u001b[92mINFO \u001b[0m:      [ROUND 1]\n",
            "\u001b[92mINFO \u001b[0m:      configure_fit: strategy sampled 3 clients (out of 10)\n",
            "\u001b[36m(pid=4502)\u001b[0m 2025-01-21 08:05:04.680963: E external/local_xla/xla/stream_executor/cuda/cuda_fft.cc:485] Unable to register cuFFT factory: Attempting to register factory for plugin cuFFT when one has already been registered\n",
            "\u001b[36m(pid=4502)\u001b[0m 2025-01-21 08:05:04.718876: E external/local_xla/xla/stream_executor/cuda/cuda_dnn.cc:8454] Unable to register cuDNN factory: Attempting to register factory for plugin cuDNN when one has already been registered\n",
            "\u001b[36m(pid=4502)\u001b[0m 2025-01-21 08:05:04.730359: E external/local_xla/xla/stream_executor/cuda/cuda_blas.cc:1452] Unable to register cuBLAS factory: Attempting to register factory for plugin cuBLAS when one has already been registered\n",
            "\u001b[36m(pid=4502)\u001b[0m 2025-01-21 08:05:06.719748: W tensorflow/compiler/tf2tensorrt/utils/py_utils.cc:38] TF-TRT Warning: Could not find TensorRT\n",
            "\u001b[36m(ClientAppActor pid=4502)\u001b[0m /usr/local/lib/python3.11/dist-packages/jupyter_client/connect.py:28: DeprecationWarning: Jupyter is migrating its paths to use standard platformdirs\n",
            "\u001b[36m(ClientAppActor pid=4502)\u001b[0m given by the platformdirs library.  To remove this warning and\n",
            "\u001b[36m(ClientAppActor pid=4502)\u001b[0m see the appropriate new directories, set the environment variable\n",
            "\u001b[36m(ClientAppActor pid=4502)\u001b[0m `JUPYTER_PLATFORM_DIRS=1` and then run `jupyter --paths`.\n",
            "\u001b[36m(ClientAppActor pid=4502)\u001b[0m The use of platformdirs will be the default in `jupyter_core` v6\n",
            "\u001b[36m(ClientAppActor pid=4502)\u001b[0m   from jupyter_core.paths import jupyter_data_dir, jupyter_runtime_dir, secure_write\n",
            "Generating train split:   0%|          | 0/50000 [00:00<?, ? examples/s]\n",
            "Generating train split:  13%|█▎        | 6700/50000 [00:00<00:00, 66422.98 examples/s]\n",
            "Generating train split:  35%|███▌      | 17600/50000 [00:00<00:00, 90688.12 examples/s]\n",
            "Generating train split:  57%|█████▋    | 28700/50000 [00:00<00:00, 99621.01 examples/s]\n",
            "Generating train split:  81%|████████  | 40300/50000 [00:00<00:00, 105753.43 examples/s]\n",
            "Generating train split: 100%|██████████| 50000/50000 [00:00<00:00, 102485.87 examples/s]\n",
            "Generating test split:   0%|          | 0/10000 [00:00<?, ? examples/s]\n",
            "Generating test split: 100%|██████████| 10000/10000 [00:00<00:00, 111550.34 examples/s]\n"
          ]
        },
        {
          "output_type": "stream",
          "name": "stdout",
          "text": [
            "\u001b[36m(ClientAppActor pid=4502)\u001b[0m [Client 0] fit, config: {}\n",
            "\u001b[36m(ClientAppActor pid=4502)\u001b[0m Epoch 1: train loss 0.06487863510847092, accuracy 0.221\n",
            "\u001b[36m(ClientAppActor pid=4502)\u001b[0m [Client 3] fit, config: {}\n",
            "\u001b[36m(ClientAppActor pid=4502)\u001b[0m Epoch 1: train loss 0.06423641741275787, accuracy 0.2325\n",
            "\u001b[36m(ClientAppActor pid=4502)\u001b[0m [Client 4] fit, config: {}\n"
          ]
        },
        {
          "output_type": "stream",
          "name": "stderr",
          "text": [
            "\u001b[92mINFO \u001b[0m:      aggregate_fit: received 3 results and 0 failures\n",
            "\u001b[93mWARNING \u001b[0m:   No fit_metrics_aggregation_fn provided\n",
            "\u001b[92mINFO \u001b[0m:      configure_evaluate: strategy sampled 3 clients (out of 10)\n"
          ]
        },
        {
          "output_type": "stream",
          "name": "stdout",
          "text": [
            "\u001b[36m(ClientAppActor pid=4502)\u001b[0m Epoch 1: train loss 0.06505753099918365, accuracy 0.2245\n",
            "\u001b[36m(ClientAppActor pid=4502)\u001b[0m [Client 2] evaluate, config: {}\n",
            "\u001b[36m(ClientAppActor pid=4502)\u001b[0m [Client 6] evaluate, config: {}\n",
            "\u001b[36m(ClientAppActor pid=4502)\u001b[0m [Client 7] evaluate, config: {}\n"
          ]
        },
        {
          "output_type": "stream",
          "name": "stderr",
          "text": [
            "\u001b[92mINFO \u001b[0m:      aggregate_evaluate: received 3 results and 0 failures\n",
            "\u001b[93mWARNING \u001b[0m:   No evaluate_metrics_aggregation_fn provided\n",
            "\u001b[92mINFO \u001b[0m:      \n",
            "\u001b[92mINFO \u001b[0m:      [ROUND 2]\n",
            "\u001b[92mINFO \u001b[0m:      configure_fit: strategy sampled 3 clients (out of 10)\n"
          ]
        },
        {
          "output_type": "stream",
          "name": "stdout",
          "text": [
            "\u001b[36m(ClientAppActor pid=4502)\u001b[0m [Client 2] fit, config: {}\n",
            "\u001b[36m(ClientAppActor pid=4502)\u001b[0m Epoch 1: train loss 0.05622417479753494, accuracy 0.329\n",
            "\u001b[36m(ClientAppActor pid=4502)\u001b[0m [Client 3] fit, config: {}\n",
            "\u001b[36m(ClientAppActor pid=4502)\u001b[0m Epoch 1: train loss 0.05519891157746315, accuracy 0.3375\n",
            "\u001b[36m(ClientAppActor pid=4502)\u001b[0m [Client 7] fit, config: {}\n"
          ]
        },
        {
          "output_type": "stream",
          "name": "stderr",
          "text": [
            "\u001b[92mINFO \u001b[0m:      aggregate_fit: received 3 results and 0 failures\n",
            "\u001b[92mINFO \u001b[0m:      configure_evaluate: strategy sampled 3 clients (out of 10)\n"
          ]
        },
        {
          "output_type": "stream",
          "name": "stdout",
          "text": [
            "\u001b[36m(ClientAppActor pid=4502)\u001b[0m Epoch 1: train loss 0.05661184713244438, accuracy 0.32525\n",
            "\u001b[36m(ClientAppActor pid=4502)\u001b[0m [Client 2] evaluate, config: {}\n",
            "\u001b[36m(ClientAppActor pid=4502)\u001b[0m [Client 5] evaluate, config: {}\n",
            "\u001b[36m(ClientAppActor pid=4502)\u001b[0m [Client 8] evaluate, config: {}\n"
          ]
        },
        {
          "output_type": "stream",
          "name": "stderr",
          "text": [
            "\u001b[92mINFO \u001b[0m:      aggregate_evaluate: received 3 results and 0 failures\n",
            "\u001b[92mINFO \u001b[0m:      \n",
            "\u001b[92mINFO \u001b[0m:      [ROUND 3]\n",
            "\u001b[92mINFO \u001b[0m:      configure_fit: strategy sampled 3 clients (out of 10)\n"
          ]
        },
        {
          "output_type": "stream",
          "name": "stdout",
          "text": [
            "\u001b[36m(ClientAppActor pid=4502)\u001b[0m [Client 4] fit, config: {}\n",
            "\u001b[36m(ClientAppActor pid=4502)\u001b[0m Epoch 1: train loss 0.0533718504011631, accuracy 0.3635\n",
            "\u001b[36m(ClientAppActor pid=4502)\u001b[0m [Client 7] fit, config: {}\n",
            "\u001b[36m(ClientAppActor pid=4502)\u001b[0m Epoch 1: train loss 0.05301301181316376, accuracy 0.37\n",
            "\u001b[36m(ClientAppActor pid=4502)\u001b[0m [Client 8] fit, config: {}\n"
          ]
        },
        {
          "output_type": "stream",
          "name": "stderr",
          "text": [
            "\u001b[92mINFO \u001b[0m:      aggregate_fit: received 3 results and 0 failures\n",
            "\u001b[92mINFO \u001b[0m:      configure_evaluate: strategy sampled 3 clients (out of 10)\n"
          ]
        },
        {
          "output_type": "stream",
          "name": "stdout",
          "text": [
            "\u001b[36m(ClientAppActor pid=4502)\u001b[0m Epoch 1: train loss 0.052811428904533386, accuracy 0.366\n",
            "\u001b[36m(ClientAppActor pid=4502)\u001b[0m [Client 5] evaluate, config: {}\n",
            "\u001b[36m(ClientAppActor pid=4502)\u001b[0m [Client 6] evaluate, config: {}\n",
            "\u001b[36m(ClientAppActor pid=4502)\u001b[0m [Client 7] evaluate, config: {}\n"
          ]
        },
        {
          "output_type": "stream",
          "name": "stderr",
          "text": [
            "\u001b[92mINFO \u001b[0m:      aggregate_evaluate: received 3 results and 0 failures\n",
            "\u001b[92mINFO \u001b[0m:      \n",
            "\u001b[92mINFO \u001b[0m:      [SUMMARY]\n",
            "\u001b[92mINFO \u001b[0m:      Run finished 3 round(s) in 126.49s\n",
            "\u001b[92mINFO \u001b[0m:      \tHistory (loss, distributed):\n",
            "\u001b[92mINFO \u001b[0m:      \t\tround 1: 0.06285407102108002\n",
            "\u001b[92mINFO \u001b[0m:      \t\tround 2: 0.05398792048295339\n",
            "\u001b[92mINFO \u001b[0m:      \t\tround 3: 0.05214744730790457\n",
            "\u001b[92mINFO \u001b[0m:      \n"
          ]
        }
      ]
    },
    {
      "cell_type": "markdown",
      "metadata": {
        "id": "vTYsXe4c0TYJ"
      },
      "source": [
        "Last but not least, we specify the resources for each client and run the simulation."
      ]
    },
    {
      "cell_type": "markdown",
      "metadata": {
        "id": "RnX-ReJP0TYK"
      },
      "source": [
        " If we look closely, we can see that the logs do not show any calls to the `FlowerClient.get_parameters` method."
      ]
    },
    {
      "cell_type": "markdown",
      "metadata": {
        "id": "-1CfLjv70TYK"
      },
      "source": [
        "### Starting with a customized strategy\n",
        "\n",
        "We've seen the function `run_simulation` before. It accepts a number of arguments, amongst them the `server_app` which wraps around the strategy and number of training rounds, `client_app` which wraps around the `client_fn` used to create `FlowerClient` instances, and the number of clients to simulate which equals `num_supernodes`.\n",
        "\n",
        "The strategy encapsulates the federated learning approach/algorithm, for example, `FedAvg` or `FedAdagrad`. Let's try to use a different strategy this time:"
      ]
    },
    {
      "cell_type": "code",
      "execution_count": 13,
      "metadata": {
        "colab": {
          "base_uri": "https://localhost:8080/"
        },
        "id": "lg4BxdV-0TYL",
        "outputId": "1693c683-8f18-42da-a531-01073bd07b48"
      },
      "outputs": [
        {
          "output_type": "stream",
          "name": "stderr",
          "text": [
            "\u001b[92mINFO \u001b[0m:      Starting Flower ServerApp, config: num_rounds=3, no round_timeout\n",
            "\u001b[92mINFO \u001b[0m:      \n",
            "\u001b[92mINFO \u001b[0m:      [INIT]\n",
            "\u001b[92mINFO \u001b[0m:      Using initial global parameters provided by strategy\n",
            "\u001b[92mINFO \u001b[0m:      Starting evaluation of initial global parameters\n",
            "\u001b[92mINFO \u001b[0m:      Evaluation returned no results (`None`)\n",
            "\u001b[92mINFO \u001b[0m:      \n",
            "\u001b[92mINFO \u001b[0m:      [ROUND 1]\n",
            "\u001b[92mINFO \u001b[0m:      configure_fit: strategy sampled 3 clients (out of 10)\n",
            "\u001b[36m(pid=5667)\u001b[0m 2025-01-21 08:08:04.857082: E external/local_xla/xla/stream_executor/cuda/cuda_fft.cc:485] Unable to register cuFFT factory: Attempting to register factory for plugin cuFFT when one has already been registered\n",
            "\u001b[36m(pid=5667)\u001b[0m 2025-01-21 08:08:04.876494: E external/local_xla/xla/stream_executor/cuda/cuda_dnn.cc:8454] Unable to register cuDNN factory: Attempting to register factory for plugin cuDNN when one has already been registered\n",
            "\u001b[36m(pid=5667)\u001b[0m 2025-01-21 08:08:04.882379: E external/local_xla/xla/stream_executor/cuda/cuda_blas.cc:1452] Unable to register cuBLAS factory: Attempting to register factory for plugin cuBLAS when one has already been registered\n",
            "\u001b[36m(pid=5667)\u001b[0m 2025-01-21 08:08:06.055161: W tensorflow/compiler/tf2tensorrt/utils/py_utils.cc:38] TF-TRT Warning: Could not find TensorRT\n",
            "\u001b[36m(ClientAppActor pid=5667)\u001b[0m /usr/local/lib/python3.11/dist-packages/jupyter_client/connect.py:28: DeprecationWarning: Jupyter is migrating its paths to use standard platformdirs\n",
            "\u001b[36m(ClientAppActor pid=5667)\u001b[0m given by the platformdirs library.  To remove this warning and\n",
            "\u001b[36m(ClientAppActor pid=5667)\u001b[0m see the appropriate new directories, set the environment variable\n",
            "\u001b[36m(ClientAppActor pid=5667)\u001b[0m `JUPYTER_PLATFORM_DIRS=1` and then run `jupyter --paths`.\n",
            "\u001b[36m(ClientAppActor pid=5667)\u001b[0m The use of platformdirs will be the default in `jupyter_core` v6\n",
            "\u001b[36m(ClientAppActor pid=5667)\u001b[0m   from jupyter_core.paths import jupyter_data_dir, jupyter_runtime_dir, secure_write\n"
          ]
        },
        {
          "output_type": "stream",
          "name": "stdout",
          "text": [
            "\u001b[36m(ClientAppActor pid=5667)\u001b[0m [Client 3] fit, config: {}\n",
            "\u001b[36m(ClientAppActor pid=5667)\u001b[0m Epoch 1: train loss 0.06357608735561371, accuracy 0.23525\n",
            "\u001b[36m(ClientAppActor pid=5667)\u001b[0m [Client 5] fit, config: {}\n",
            "\u001b[36m(ClientAppActor pid=5667)\u001b[0m Epoch 1: train loss 0.06433352828025818, accuracy 0.225\n",
            "\u001b[36m(ClientAppActor pid=5667)\u001b[0m [Client 8] fit, config: {}\n"
          ]
        },
        {
          "output_type": "stream",
          "name": "stderr",
          "text": [
            "\u001b[92mINFO \u001b[0m:      aggregate_fit: received 3 results and 0 failures\n",
            "\u001b[93mWARNING \u001b[0m:   No fit_metrics_aggregation_fn provided\n",
            "\u001b[92mINFO \u001b[0m:      configure_evaluate: strategy sampled 3 clients (out of 10)\n"
          ]
        },
        {
          "output_type": "stream",
          "name": "stdout",
          "text": [
            "\u001b[36m(ClientAppActor pid=5667)\u001b[0m Epoch 1: train loss 0.06448725610971451, accuracy 0.22375\n",
            "\u001b[36m(ClientAppActor pid=5667)\u001b[0m [Client 2] evaluate, config: {}\n",
            "\u001b[36m(ClientAppActor pid=5667)\u001b[0m [Client 6] evaluate, config: {}\n",
            "\u001b[36m(ClientAppActor pid=5667)\u001b[0m [Client 7] evaluate, config: {}\n"
          ]
        },
        {
          "output_type": "stream",
          "name": "stderr",
          "text": [
            "\u001b[92mINFO \u001b[0m:      aggregate_evaluate: received 3 results and 0 failures\n",
            "\u001b[93mWARNING \u001b[0m:   No evaluate_metrics_aggregation_fn provided\n",
            "\u001b[92mINFO \u001b[0m:      \n",
            "\u001b[92mINFO \u001b[0m:      [ROUND 2]\n",
            "\u001b[92mINFO \u001b[0m:      configure_fit: strategy sampled 3 clients (out of 10)\n"
          ]
        },
        {
          "output_type": "stream",
          "name": "stdout",
          "text": [
            "\u001b[36m(ClientAppActor pid=5667)\u001b[0m [Client 6] fit, config: {}\n",
            "\u001b[36m(ClientAppActor pid=5667)\u001b[0m Epoch 1: train loss 0.8559237122535706, accuracy 0.30575\n",
            "\u001b[36m(ClientAppActor pid=5667)\u001b[0m [Client 7] fit, config: {}\n",
            "\u001b[36m(ClientAppActor pid=5667)\u001b[0m Epoch 1: train loss 0.8274834156036377, accuracy 0.2915\n",
            "\u001b[36m(ClientAppActor pid=5667)\u001b[0m [Client 9] fit, config: {}\n"
          ]
        },
        {
          "output_type": "stream",
          "name": "stderr",
          "text": [
            "\u001b[92mINFO \u001b[0m:      aggregate_fit: received 3 results and 0 failures\n",
            "\u001b[92mINFO \u001b[0m:      configure_evaluate: strategy sampled 3 clients (out of 10)\n"
          ]
        },
        {
          "output_type": "stream",
          "name": "stdout",
          "text": [
            "\u001b[36m(ClientAppActor pid=5667)\u001b[0m Epoch 1: train loss 0.8296621441841125, accuracy 0.30875\n",
            "\u001b[36m(ClientAppActor pid=5667)\u001b[0m [Client 4] evaluate, config: {}\n",
            "\u001b[36m(ClientAppActor pid=5667)\u001b[0m [Client 6] evaluate, config: {}\n",
            "\u001b[36m(ClientAppActor pid=5667)\u001b[0m [Client 9] evaluate, config: {}\n"
          ]
        },
        {
          "output_type": "stream",
          "name": "stderr",
          "text": [
            "\u001b[92mINFO \u001b[0m:      aggregate_evaluate: received 3 results and 0 failures\n",
            "\u001b[92mINFO \u001b[0m:      \n",
            "\u001b[92mINFO \u001b[0m:      [ROUND 3]\n",
            "\u001b[92mINFO \u001b[0m:      configure_fit: strategy sampled 3 clients (out of 10)\n"
          ]
        },
        {
          "output_type": "stream",
          "name": "stdout",
          "text": [
            "\u001b[36m(ClientAppActor pid=5667)\u001b[0m [Client 4] fit, config: {}\n",
            "\u001b[36m(ClientAppActor pid=5667)\u001b[0m Epoch 1: train loss 0.09926921129226685, accuracy 0.14575\n",
            "\u001b[36m(ClientAppActor pid=5667)\u001b[0m [Client 7] fit, config: {}\n",
            "\u001b[36m(ClientAppActor pid=5667)\u001b[0m Epoch 1: train loss 0.0998692661523819, accuracy 0.1405\n",
            "\u001b[36m(ClientAppActor pid=5667)\u001b[0m [Client 8] fit, config: {}\n"
          ]
        },
        {
          "output_type": "stream",
          "name": "stderr",
          "text": [
            "\u001b[92mINFO \u001b[0m:      aggregate_fit: received 3 results and 0 failures\n",
            "\u001b[92mINFO \u001b[0m:      configure_evaluate: strategy sampled 3 clients (out of 10)\n"
          ]
        },
        {
          "output_type": "stream",
          "name": "stdout",
          "text": [
            "\u001b[36m(ClientAppActor pid=5667)\u001b[0m Epoch 1: train loss 0.09942536056041718, accuracy 0.13775\n",
            "\u001b[36m(ClientAppActor pid=5667)\u001b[0m [Client 4] evaluate, config: {}\n",
            "\u001b[36m(ClientAppActor pid=5667)\u001b[0m [Client 5] evaluate, config: {}\n",
            "\u001b[36m(ClientAppActor pid=5667)\u001b[0m [Client 9] evaluate, config: {}\n"
          ]
        },
        {
          "output_type": "stream",
          "name": "stderr",
          "text": [
            "\u001b[92mINFO \u001b[0m:      aggregate_evaluate: received 3 results and 0 failures\n",
            "\u001b[92mINFO \u001b[0m:      \n",
            "\u001b[92mINFO \u001b[0m:      [SUMMARY]\n",
            "\u001b[92mINFO \u001b[0m:      Run finished 3 round(s) in 119.36s\n",
            "\u001b[92mINFO \u001b[0m:      \tHistory (loss, distributed):\n",
            "\u001b[92mINFO \u001b[0m:      \t\tround 1: 5.222560839335124\n",
            "\u001b[92mINFO \u001b[0m:      \t\tround 2: 0.475978541692098\n",
            "\u001b[92mINFO \u001b[0m:      \t\tround 3: 0.13511009939511617\n",
            "\u001b[92mINFO \u001b[0m:      \n"
          ]
        }
      ],
      "source": [
        "def server_fn(context: Context) -> ServerAppComponents:\n",
        "    # Create FedAdagrad strategy\n",
        "    strategy = FedAdagrad(\n",
        "        fraction_fit=0.3,\n",
        "        fraction_evaluate=0.3,\n",
        "        min_fit_clients=3,\n",
        "        min_evaluate_clients=3,\n",
        "        min_available_clients=NUM_PARTITIONS,\n",
        "        initial_parameters=ndarrays_to_parameters(params),\n",
        "    )\n",
        "    # Configure the server for 3 rounds of training\n",
        "    config = ServerConfig(num_rounds=3)\n",
        "    return ServerAppComponents(strategy=strategy, config=config)\n",
        "\n",
        "\n",
        "# Create the ServerApp\n",
        "server = ServerApp(server_fn=server_fn)\n",
        "\n",
        "# Run simulation\n",
        "run_simulation(\n",
        "    server_app=server,\n",
        "    client_app=client,\n",
        "    num_supernodes=NUM_PARTITIONS,\n",
        "    backend_config=backend_config,\n",
        ")"
      ]
    },
    {
      "cell_type": "markdown",
      "metadata": {
        "id": "SRSEjwhx0TYN"
      },
      "source": [
        "## Server-side parameter **evaluation**\n",
        "\n",
        "Flower can evaluate the aggregated model on the server-side or on the client-side. Client-side and server-side evaluation are similar in some ways, but different in others.\n",
        "\n",
        "**Centralized Evaluation** (or *server-side evaluation*) is conceptually simple: it works the same way that evaluation in centralized machine learning does. If there is a server-side dataset that can be used for evaluation purposes, then that's great. We can evaluate the newly aggregated model after each round of training without having to send the model to clients. We're also fortunate in the sense that our entire evaluation dataset is available at all times.\n",
        "\n",
        "**Federated Evaluation** (or *client-side evaluation*) is more complex, but also more powerful: it doesn't require a centralized dataset and allows us to evaluate models over a larger set of data, which often yields more realistic evaluation results. In fact, many scenarios require us to use **Federated Evaluation** if we want to get representative evaluation results at all. But this power comes at a cost: once we start to evaluate on the client side, we should be aware that our evaluation dataset can change over consecutive rounds of learning if those clients are not always available. Moreover, the dataset held by each client can also change over consecutive rounds. This can lead to evaluation results that are not stable, so even if we would not change the model, we'd see our evaluation results fluctuate over consecutive rounds.\n",
        "\n",
        "We've seen how federated evaluation works on the client side (i.e., by implementing the `evaluate` method in `FlowerClient`). Now let's see how we can evaluate aggregated model parameters on the server-side:"
      ]
    },
    {
      "cell_type": "code",
      "execution_count": 15,
      "metadata": {
        "id": "EE52ZSJx0TYO"
      },
      "outputs": [],
      "source": [
        "# The `evaluate` function will be called by Flower after every round\n",
        "def evaluate(\n",
        "    server_round: int,\n",
        "    parameters: NDArrays,\n",
        "    config: Dict[str, Scalar],\n",
        ") -> Optional[Tuple[float, Dict[str, Scalar]]]:\n",
        "    net = Net().to(DEVICE)\n",
        "    _, _, testloader = load_datasets(0, NUM_PARTITIONS)\n",
        "    set_parameters(net, parameters)  # Update model with the latest parameters\n",
        "    loss, accuracy = test(net, testloader)\n",
        "    print(f\"Server-side evaluation loss {loss} / accuracy {accuracy}\")\n",
        "    return loss, {\"accuracy\": accuracy}"
      ]
    },
    {
      "cell_type": "markdown",
      "metadata": {
        "id": "NTUZqN0H0TYO"
      },
      "source": [
        "We create a `FedAvg` strategy and pass `evaluate_fn` to it. Then, we create a `ServerApp` that uses this strategy."
      ]
    },
    {
      "cell_type": "code",
      "execution_count": 16,
      "metadata": {
        "id": "234ZUiTD0TYP"
      },
      "outputs": [],
      "source": [
        "def server_fn(context: Context) -> ServerAppComponents:\n",
        "    # Create the FedAvg strategy\n",
        "    strategy = FedAvg(\n",
        "        fraction_fit=0.3,\n",
        "        fraction_evaluate=0.3,\n",
        "        min_fit_clients=3,\n",
        "        min_evaluate_clients=3,\n",
        "        min_available_clients=NUM_PARTITIONS,\n",
        "        initial_parameters=ndarrays_to_parameters(params),\n",
        "        evaluate_fn=evaluate,  # Pass the evaluation function\n",
        "    )\n",
        "    # Configure the server for 3 rounds of training\n",
        "    config = ServerConfig(num_rounds=3)\n",
        "    return ServerAppComponents(strategy=strategy, config=config)\n",
        "\n",
        "\n",
        "# Create the ServerApp\n",
        "server = ServerApp(server_fn=server_fn)"
      ]
    },
    {
      "cell_type": "markdown",
      "metadata": {
        "id": "OqEA3CqF0TYQ"
      },
      "source": [
        "Finally, we run the simulation."
      ]
    },
    {
      "cell_type": "code",
      "execution_count": 17,
      "metadata": {
        "colab": {
          "base_uri": "https://localhost:8080/"
        },
        "id": "CttoESHT0TYW",
        "outputId": "fea74d51-8964-4e6c-fefc-7981bb33460b"
      },
      "outputs": [
        {
          "output_type": "stream",
          "name": "stderr",
          "text": [
            "\u001b[92mINFO \u001b[0m:      Starting Flower ServerApp, config: num_rounds=3, no round_timeout\n",
            "\u001b[92mINFO \u001b[0m:      \n",
            "\u001b[92mINFO \u001b[0m:      [INIT]\n",
            "\u001b[92mINFO \u001b[0m:      Using initial global parameters provided by strategy\n",
            "\u001b[92mINFO \u001b[0m:      Starting evaluation of initial global parameters\n",
            "/usr/local/lib/python3.11/dist-packages/huggingface_hub/utils/_auth.py:94: UserWarning: \n",
            "The secret `HF_TOKEN` does not exist in your Colab secrets.\n",
            "To authenticate with the Hugging Face Hub, create a token in your settings tab (https://huggingface.co/settings/tokens), set it as secret in your Google Colab and restart your session.\n",
            "You will be able to reuse this secret in all of your notebooks.\n",
            "Please note that authentication is recommended but still optional to access public models or datasets.\n",
            "  warnings.warn(\n",
            "\u001b[36m(pid=6722)\u001b[0m 2025-01-21 08:10:41.783042: E external/local_xla/xla/stream_executor/cuda/cuda_fft.cc:485] Unable to register cuFFT factory: Attempting to register factory for plugin cuFFT when one has already been registered\n",
            "\u001b[36m(pid=6722)\u001b[0m 2025-01-21 08:10:41.804024: E external/local_xla/xla/stream_executor/cuda/cuda_dnn.cc:8454] Unable to register cuDNN factory: Attempting to register factory for plugin cuDNN when one has already been registered\n",
            "\u001b[36m(pid=6722)\u001b[0m 2025-01-21 08:10:41.809900: E external/local_xla/xla/stream_executor/cuda/cuda_blas.cc:1452] Unable to register cuBLAS factory: Attempting to register factory for plugin cuBLAS when one has already been registered\n",
            "\u001b[36m(pid=6722)\u001b[0m 2025-01-21 08:10:42.978052: W tensorflow/compiler/tf2tensorrt/utils/py_utils.cc:38] TF-TRT Warning: Could not find TensorRT\n",
            "\u001b[92mINFO \u001b[0m:      initial parameters (loss, other metrics): 0.0721279774427414, {'accuracy': 0.1}\n",
            "\u001b[92mINFO \u001b[0m:      \n",
            "\u001b[92mINFO \u001b[0m:      [ROUND 1]\n",
            "\u001b[92mINFO \u001b[0m:      configure_fit: strategy sampled 3 clients (out of 10)\n"
          ]
        },
        {
          "output_type": "stream",
          "name": "stdout",
          "text": [
            "Server-side evaluation loss 0.0721279774427414 / accuracy 0.1\n"
          ]
        },
        {
          "output_type": "stream",
          "name": "stderr",
          "text": [
            "\u001b[36m(ClientAppActor pid=6722)\u001b[0m /usr/local/lib/python3.11/dist-packages/jupyter_client/connect.py:28: DeprecationWarning: Jupyter is migrating its paths to use standard platformdirs\n",
            "\u001b[36m(ClientAppActor pid=6722)\u001b[0m given by the platformdirs library.  To remove this warning and\n",
            "\u001b[36m(ClientAppActor pid=6722)\u001b[0m see the appropriate new directories, set the environment variable\n",
            "\u001b[36m(ClientAppActor pid=6722)\u001b[0m `JUPYTER_PLATFORM_DIRS=1` and then run `jupyter --paths`.\n",
            "\u001b[36m(ClientAppActor pid=6722)\u001b[0m The use of platformdirs will be the default in `jupyter_core` v6\n",
            "\u001b[36m(ClientAppActor pid=6722)\u001b[0m   from jupyter_core.paths import jupyter_data_dir, jupyter_runtime_dir, secure_write\n"
          ]
        },
        {
          "output_type": "stream",
          "name": "stdout",
          "text": [
            "\u001b[36m(ClientAppActor pid=6722)\u001b[0m [Client 4] fit, config: {}\n",
            "\u001b[36m(ClientAppActor pid=6722)\u001b[0m Epoch 1: train loss 0.06411401182413101, accuracy 0.2485\n",
            "\u001b[36m(ClientAppActor pid=6722)\u001b[0m [Client 7] fit, config: {}\n",
            "\u001b[36m(ClientAppActor pid=6722)\u001b[0m Epoch 1: train loss 0.06486368179321289, accuracy 0.21375\n",
            "\u001b[36m(ClientAppActor pid=6722)\u001b[0m [Client 9] fit, config: {}\n"
          ]
        },
        {
          "output_type": "stream",
          "name": "stderr",
          "text": [
            "\u001b[92mINFO \u001b[0m:      aggregate_fit: received 3 results and 0 failures\n",
            "\u001b[93mWARNING \u001b[0m:   No fit_metrics_aggregation_fn provided\n"
          ]
        },
        {
          "output_type": "stream",
          "name": "stdout",
          "text": [
            "\u001b[36m(ClientAppActor pid=6722)\u001b[0m Epoch 1: train loss 0.06465820223093033, accuracy 0.23275\n"
          ]
        },
        {
          "output_type": "stream",
          "name": "stderr",
          "text": [
            "\u001b[92mINFO \u001b[0m:      fit progress: (1, 0.06082897651195526, {'accuracy': 0.2771}, 36.675614015000065)\n",
            "\u001b[92mINFO \u001b[0m:      configure_evaluate: strategy sampled 3 clients (out of 10)\n"
          ]
        },
        {
          "output_type": "stream",
          "name": "stdout",
          "text": [
            "Server-side evaluation loss 0.06082897651195526 / accuracy 0.2771\n",
            "\u001b[36m(ClientAppActor pid=6722)\u001b[0m [Client 3] evaluate, config: {}\n",
            "\u001b[36m(ClientAppActor pid=6722)\u001b[0m [Client 4] evaluate, config: {}\n",
            "\u001b[36m(ClientAppActor pid=6722)\u001b[0m [Client 5] evaluate, config: {}\n"
          ]
        },
        {
          "output_type": "stream",
          "name": "stderr",
          "text": [
            "\u001b[92mINFO \u001b[0m:      aggregate_evaluate: received 3 results and 0 failures\n",
            "\u001b[93mWARNING \u001b[0m:   No evaluate_metrics_aggregation_fn provided\n",
            "\u001b[92mINFO \u001b[0m:      \n",
            "\u001b[92mINFO \u001b[0m:      [ROUND 2]\n",
            "\u001b[92mINFO \u001b[0m:      configure_fit: strategy sampled 3 clients (out of 10)\n"
          ]
        },
        {
          "output_type": "stream",
          "name": "stdout",
          "text": [
            "\u001b[36m(ClientAppActor pid=6722)\u001b[0m [Client 0] fit, config: {}\n",
            "\u001b[36m(ClientAppActor pid=6722)\u001b[0m Epoch 1: train loss 0.05637635290622711, accuracy 0.324\n",
            "\u001b[36m(ClientAppActor pid=6722)\u001b[0m [Client 7] fit, config: {}\n",
            "\u001b[36m(ClientAppActor pid=6722)\u001b[0m Epoch 1: train loss 0.05631326138973236, accuracy 0.32\n",
            "\u001b[36m(ClientAppActor pid=6722)\u001b[0m [Client 8] fit, config: {}\n"
          ]
        },
        {
          "output_type": "stream",
          "name": "stderr",
          "text": [
            "\u001b[92mINFO \u001b[0m:      aggregate_fit: received 3 results and 0 failures\n"
          ]
        },
        {
          "output_type": "stream",
          "name": "stdout",
          "text": [
            "\u001b[36m(ClientAppActor pid=6722)\u001b[0m Epoch 1: train loss 0.05606072023510933, accuracy 0.32475\n"
          ]
        },
        {
          "output_type": "stream",
          "name": "stderr",
          "text": [
            "\u001b[92mINFO \u001b[0m:      fit progress: (2, 0.05305157095193863, {'accuracy': 0.3612}, 79.23173681499998)\n",
            "\u001b[92mINFO \u001b[0m:      configure_evaluate: strategy sampled 3 clients (out of 10)\n"
          ]
        },
        {
          "output_type": "stream",
          "name": "stdout",
          "text": [
            "Server-side evaluation loss 0.05305157095193863 / accuracy 0.3612\n",
            "\u001b[36m(ClientAppActor pid=6722)\u001b[0m [Client 2] evaluate, config: {}\n",
            "\u001b[36m(ClientAppActor pid=6722)\u001b[0m [Client 4] evaluate, config: {}\n",
            "\u001b[36m(ClientAppActor pid=6722)\u001b[0m [Client 6] evaluate, config: {}\n"
          ]
        },
        {
          "output_type": "stream",
          "name": "stderr",
          "text": [
            "\u001b[92mINFO \u001b[0m:      aggregate_evaluate: received 3 results and 0 failures\n",
            "\u001b[92mINFO \u001b[0m:      \n",
            "\u001b[92mINFO \u001b[0m:      [ROUND 3]\n",
            "\u001b[92mINFO \u001b[0m:      configure_fit: strategy sampled 3 clients (out of 10)\n"
          ]
        },
        {
          "output_type": "stream",
          "name": "stdout",
          "text": [
            "\u001b[36m(ClientAppActor pid=6722)\u001b[0m [Client 7] fit, config: {}\n",
            "\u001b[36m(ClientAppActor pid=6722)\u001b[0m Epoch 1: train loss 0.052959784865379333, accuracy 0.36175\n",
            "\u001b[36m(ClientAppActor pid=6722)\u001b[0m [Client 8] fit, config: {}\n",
            "\u001b[36m(ClientAppActor pid=6722)\u001b[0m Epoch 1: train loss 0.05251153185963631, accuracy 0.36775\n",
            "\u001b[36m(ClientAppActor pid=6722)\u001b[0m [Client 9] fit, config: {}\n"
          ]
        },
        {
          "output_type": "stream",
          "name": "stderr",
          "text": [
            "\u001b[92mINFO \u001b[0m:      aggregate_fit: received 3 results and 0 failures\n"
          ]
        },
        {
          "output_type": "stream",
          "name": "stdout",
          "text": [
            "\u001b[36m(ClientAppActor pid=6722)\u001b[0m Epoch 1: train loss 0.052268996834754944, accuracy 0.38525\n"
          ]
        },
        {
          "output_type": "stream",
          "name": "stderr",
          "text": [
            "\u001b[92mINFO \u001b[0m:      fit progress: (3, 0.050012921643257144, {'accuracy': 0.4091}, 121.37425202000009)\n",
            "\u001b[92mINFO \u001b[0m:      configure_evaluate: strategy sampled 3 clients (out of 10)\n"
          ]
        },
        {
          "output_type": "stream",
          "name": "stdout",
          "text": [
            "Server-side evaluation loss 0.050012921643257144 / accuracy 0.4091\n",
            "\u001b[36m(ClientAppActor pid=6722)\u001b[0m [Client 3] evaluate, config: {}\n",
            "\u001b[36m(ClientAppActor pid=6722)\u001b[0m [Client 5] evaluate, config: {}\n",
            "\u001b[36m(ClientAppActor pid=6722)\u001b[0m [Client 7] evaluate, config: {}\n"
          ]
        },
        {
          "output_type": "stream",
          "name": "stderr",
          "text": [
            "\u001b[92mINFO \u001b[0m:      aggregate_evaluate: received 3 results and 0 failures\n",
            "\u001b[92mINFO \u001b[0m:      \n",
            "\u001b[92mINFO \u001b[0m:      [SUMMARY]\n",
            "\u001b[92mINFO \u001b[0m:      Run finished 3 round(s) in 137.21s\n",
            "\u001b[92mINFO \u001b[0m:      \tHistory (loss, distributed):\n",
            "\u001b[92mINFO \u001b[0m:      \t\tround 1: 0.062190063397089636\n",
            "\u001b[92mINFO \u001b[0m:      \t\tround 2: 0.054067747712135315\n",
            "\u001b[92mINFO \u001b[0m:      \t\tround 3: 0.0519946782986323\n",
            "\u001b[92mINFO \u001b[0m:      \tHistory (loss, centralized):\n",
            "\u001b[92mINFO \u001b[0m:      \t\tround 0: 0.0721279774427414\n",
            "\u001b[92mINFO \u001b[0m:      \t\tround 1: 0.06082897651195526\n",
            "\u001b[92mINFO \u001b[0m:      \t\tround 2: 0.05305157095193863\n",
            "\u001b[92mINFO \u001b[0m:      \t\tround 3: 0.050012921643257144\n",
            "\u001b[92mINFO \u001b[0m:      \tHistory (metrics, centralized):\n",
            "\u001b[92mINFO \u001b[0m:      \t{'accuracy': [(0, 0.1), (1, 0.2771), (2, 0.3612), (3, 0.4091)]}\n",
            "\u001b[92mINFO \u001b[0m:      \n"
          ]
        }
      ],
      "source": [
        "# Run simulation\n",
        "run_simulation(\n",
        "    server_app=server,\n",
        "    client_app=client,\n",
        "    num_supernodes=NUM_PARTITIONS,\n",
        "    backend_config=backend_config,\n",
        ")"
      ]
    },
    {
      "cell_type": "markdown",
      "metadata": {
        "id": "g3xu65Zo0TYY"
      },
      "source": [
        "## Sending/receiving arbitrary values to/from clients\n",
        "\n",
        "In some situations, we want to configure client-side execution (training, evaluation) from the server-side. One example for that is the server asking the clients to train for a certain number of local epochs. Flower provides a way to send configuration values from the server to the clients using a dictionary. Let's look at an example where the clients receive values from the server through the `config` parameter in `fit` (`config` is also available in `evaluate`). The `fit` method receives the configuration dictionary through the `config` parameter and can then read values from this dictionary. In this example, it reads `server_round` and `local_epochs` and uses those values to improve the logging and configure the number of local training epochs:"
      ]
    },
    {
      "cell_type": "code",
      "execution_count": 18,
      "metadata": {
        "id": "2zFZOp8L0TYe"
      },
      "outputs": [],
      "source": [
        "class FlowerClient(NumPyClient):\n",
        "    def __init__(self, pid, net, trainloader, valloader):\n",
        "        self.pid = pid  # partition ID of a client\n",
        "        self.net = net\n",
        "        self.trainloader = trainloader\n",
        "        self.valloader = valloader\n",
        "\n",
        "    def get_parameters(self, config):\n",
        "        print(f\"[Client {self.pid}] get_parameters\")\n",
        "        return get_parameters(self.net)\n",
        "\n",
        "    def fit(self, parameters, config):\n",
        "        # Read values from config\n",
        "        server_round = config[\"server_round\"]\n",
        "        local_epochs = config[\"local_epochs\"]\n",
        "\n",
        "        # Use values provided by the config\n",
        "        print(f\"[Client {self.pid}, round {server_round}] fit, config: {config}\")\n",
        "        set_parameters(self.net, parameters)\n",
        "        train(self.net, self.trainloader, epochs=local_epochs)\n",
        "        return get_parameters(self.net), len(self.trainloader), {}\n",
        "\n",
        "    def evaluate(self, parameters, config):\n",
        "        print(f\"[Client {self.pid}] evaluate, config: {config}\")\n",
        "        set_parameters(self.net, parameters)\n",
        "        loss, accuracy = test(self.net, self.valloader)\n",
        "        return float(loss), len(self.valloader), {\"accuracy\": float(accuracy)}\n",
        "\n",
        "\n",
        "def client_fn(context: Context) -> Client:\n",
        "    net = Net().to(DEVICE)\n",
        "    partition_id = context.node_config[\"partition-id\"]\n",
        "    num_partitions = context.node_config[\"num-partitions\"]\n",
        "    trainloader, valloader, _ = load_datasets(partition_id, num_partitions)\n",
        "    return FlowerClient(partition_id, net, trainloader, valloader).to_client()\n",
        "\n",
        "\n",
        "# Create the ClientApp\n",
        "client = ClientApp(client_fn=client_fn)"
      ]
    },
    {
      "cell_type": "markdown",
      "metadata": {
        "id": "Vc9yUxHG0TYf"
      },
      "source": [
        "So how can we  send this config dictionary from server to clients? The built-in Flower Strategies provide way to do this, and it works similarly to the way server-side evaluation works. We provide a function to the strategy, and the strategy calls this function for every round of federated learning:"
      ]
    },
    {
      "cell_type": "code",
      "execution_count": 19,
      "metadata": {
        "id": "x3lpHf6K0TYi"
      },
      "outputs": [],
      "source": [
        "def fit_config(server_round: int):\n",
        "    \"\"\"Return training configuration dict for each round.\n",
        "\n",
        "    Perform two rounds of training with one local epoch, increase to two local\n",
        "    epochs afterwards.\n",
        "    \"\"\"\n",
        "    config = {\n",
        "        \"server_round\": server_round,  # The current round of federated learning\n",
        "        \"local_epochs\": 1 if server_round < 2 else 2,\n",
        "    }\n",
        "    return config"
      ]
    },
    {
      "cell_type": "markdown",
      "metadata": {
        "id": "KSPdGExs0TY-"
      },
      "source": [
        "Next, we'll pass this function to the FedAvg strategy before starting the simulation:"
      ]
    },
    {
      "cell_type": "code",
      "execution_count": 20,
      "metadata": {
        "colab": {
          "base_uri": "https://localhost:8080/"
        },
        "id": "kHQWhYwF0TZA",
        "outputId": "7e159037-70ce-461d-e34a-fc9ac97984a0"
      },
      "outputs": [
        {
          "output_type": "stream",
          "name": "stderr",
          "text": [
            "\u001b[92mINFO \u001b[0m:      Starting Flower ServerApp, config: num_rounds=3, no round_timeout\n",
            "\u001b[92mINFO \u001b[0m:      \n",
            "\u001b[92mINFO \u001b[0m:      [INIT]\n",
            "\u001b[92mINFO \u001b[0m:      Using initial global parameters provided by strategy\n",
            "\u001b[92mINFO \u001b[0m:      Starting evaluation of initial global parameters\n",
            "\u001b[36m(pid=7970)\u001b[0m 2025-01-21 08:14:00.462211: E external/local_xla/xla/stream_executor/cuda/cuda_fft.cc:485] Unable to register cuFFT factory: Attempting to register factory for plugin cuFFT when one has already been registered\n",
            "\u001b[36m(pid=7970)\u001b[0m 2025-01-21 08:14:00.485232: E external/local_xla/xla/stream_executor/cuda/cuda_dnn.cc:8454] Unable to register cuDNN factory: Attempting to register factory for plugin cuDNN when one has already been registered\n",
            "\u001b[36m(pid=7970)\u001b[0m 2025-01-21 08:14:00.491977: E external/local_xla/xla/stream_executor/cuda/cuda_blas.cc:1452] Unable to register cuBLAS factory: Attempting to register factory for plugin cuBLAS when one has already been registered\n",
            "\u001b[36m(pid=7970)\u001b[0m 2025-01-21 08:14:01.848273: W tensorflow/compiler/tf2tensorrt/utils/py_utils.cc:38] TF-TRT Warning: Could not find TensorRT\n",
            "\u001b[92mINFO \u001b[0m:      initial parameters (loss, other metrics): 0.0721279774427414, {'accuracy': 0.1}\n",
            "\u001b[92mINFO \u001b[0m:      \n",
            "\u001b[92mINFO \u001b[0m:      [ROUND 1]\n",
            "\u001b[92mINFO \u001b[0m:      configure_fit: strategy sampled 3 clients (out of 10)\n"
          ]
        },
        {
          "output_type": "stream",
          "name": "stdout",
          "text": [
            "Server-side evaluation loss 0.0721279774427414 / accuracy 0.1\n"
          ]
        },
        {
          "output_type": "stream",
          "name": "stderr",
          "text": [
            "\u001b[36m(ClientAppActor pid=7970)\u001b[0m /usr/local/lib/python3.11/dist-packages/jupyter_client/connect.py:28: DeprecationWarning: Jupyter is migrating its paths to use standard platformdirs\n",
            "\u001b[36m(ClientAppActor pid=7970)\u001b[0m given by the platformdirs library.  To remove this warning and\n",
            "\u001b[36m(ClientAppActor pid=7970)\u001b[0m see the appropriate new directories, set the environment variable\n",
            "\u001b[36m(ClientAppActor pid=7970)\u001b[0m `JUPYTER_PLATFORM_DIRS=1` and then run `jupyter --paths`.\n",
            "\u001b[36m(ClientAppActor pid=7970)\u001b[0m The use of platformdirs will be the default in `jupyter_core` v6\n",
            "\u001b[36m(ClientAppActor pid=7970)\u001b[0m   from jupyter_core.paths import jupyter_data_dir, jupyter_runtime_dir, secure_write\n"
          ]
        },
        {
          "output_type": "stream",
          "name": "stdout",
          "text": [
            "\u001b[36m(ClientAppActor pid=7970)\u001b[0m [Client 2, round 1] fit, config: {'server_round': 1, 'local_epochs': 1}\n",
            "\u001b[36m(ClientAppActor pid=7970)\u001b[0m Epoch 1: train loss 0.06503771990537643, accuracy 0.22175\n",
            "\u001b[36m(ClientAppActor pid=7970)\u001b[0m [Client 3, round 1] fit, config: {'server_round': 1, 'local_epochs': 1}\n",
            "\u001b[36m(ClientAppActor pid=7970)\u001b[0m Epoch 1: train loss 0.06413747370243073, accuracy 0.231\n",
            "\u001b[36m(ClientAppActor pid=7970)\u001b[0m [Client 7, round 1] fit, config: {'server_round': 1, 'local_epochs': 1}\n"
          ]
        },
        {
          "output_type": "stream",
          "name": "stderr",
          "text": [
            "\u001b[92mINFO \u001b[0m:      aggregate_fit: received 3 results and 0 failures\n",
            "\u001b[93mWARNING \u001b[0m:   No fit_metrics_aggregation_fn provided\n"
          ]
        },
        {
          "output_type": "stream",
          "name": "stdout",
          "text": [
            "\u001b[36m(ClientAppActor pid=7970)\u001b[0m Epoch 1: train loss 0.06427401304244995, accuracy 0.22425\n"
          ]
        },
        {
          "output_type": "stream",
          "name": "stderr",
          "text": [
            "\u001b[92mINFO \u001b[0m:      fit progress: (1, 0.0593475800037384, {'accuracy': 0.3005}, 35.01486138600012)\n",
            "\u001b[92mINFO \u001b[0m:      configure_evaluate: strategy sampled 3 clients (out of 10)\n"
          ]
        },
        {
          "output_type": "stream",
          "name": "stdout",
          "text": [
            "Server-side evaluation loss 0.0593475800037384 / accuracy 0.3005\n",
            "\u001b[36m(ClientAppActor pid=7970)\u001b[0m [Client 0] evaluate, config: {}\n",
            "\u001b[36m(ClientAppActor pid=7970)\u001b[0m [Client 2] evaluate, config: {}\n",
            "\u001b[36m(ClientAppActor pid=7970)\u001b[0m [Client 3] evaluate, config: {}\n"
          ]
        },
        {
          "output_type": "stream",
          "name": "stderr",
          "text": [
            "\u001b[92mINFO \u001b[0m:      aggregate_evaluate: received 3 results and 0 failures\n",
            "\u001b[93mWARNING \u001b[0m:   No evaluate_metrics_aggregation_fn provided\n",
            "\u001b[92mINFO \u001b[0m:      \n",
            "\u001b[92mINFO \u001b[0m:      [ROUND 2]\n",
            "\u001b[92mINFO \u001b[0m:      configure_fit: strategy sampled 3 clients (out of 10)\n"
          ]
        },
        {
          "output_type": "stream",
          "name": "stdout",
          "text": [
            "\u001b[36m(ClientAppActor pid=7970)\u001b[0m [Client 0, round 2] fit, config: {'server_round': 2, 'local_epochs': 2}\n",
            "\u001b[36m(ClientAppActor pid=7970)\u001b[0m Epoch 1: train loss 0.0560138076543808, accuracy 0.335\n",
            "\u001b[36m(ClientAppActor pid=7970)\u001b[0m Epoch 2: train loss 0.05282445624470711, accuracy 0.37125\n",
            "\u001b[36m(ClientAppActor pid=7970)\u001b[0m [Client 6, round 2] fit, config: {'server_round': 2, 'local_epochs': 2}\n",
            "\u001b[36m(ClientAppActor pid=7970)\u001b[0m Epoch 1: train loss 0.055216964334249496, accuracy 0.336\n",
            "\u001b[36m(ClientAppActor pid=7970)\u001b[0m Epoch 2: train loss 0.051443662494421005, accuracy 0.38875\n",
            "\u001b[36m(ClientAppActor pid=7970)\u001b[0m [Client 9, round 2] fit, config: {'server_round': 2, 'local_epochs': 2}\n",
            "\u001b[36m(ClientAppActor pid=7970)\u001b[0m Epoch 1: train loss 0.05557616427540779, accuracy 0.3485\n"
          ]
        },
        {
          "output_type": "stream",
          "name": "stderr",
          "text": [
            "\u001b[92mINFO \u001b[0m:      aggregate_fit: received 3 results and 0 failures\n"
          ]
        },
        {
          "output_type": "stream",
          "name": "stdout",
          "text": [
            "\u001b[36m(ClientAppActor pid=7970)\u001b[0m Epoch 2: train loss 0.05158259719610214, accuracy 0.401\n"
          ]
        },
        {
          "output_type": "stream",
          "name": "stderr",
          "text": [
            "\u001b[92mINFO \u001b[0m:      fit progress: (2, 0.0511463111281395, {'accuracy': 0.4008}, 83.30867298400017)\n",
            "\u001b[92mINFO \u001b[0m:      configure_evaluate: strategy sampled 3 clients (out of 10)\n"
          ]
        },
        {
          "output_type": "stream",
          "name": "stdout",
          "text": [
            "Server-side evaluation loss 0.0511463111281395 / accuracy 0.4008\n",
            "\u001b[36m(ClientAppActor pid=7970)\u001b[0m [Client 1] evaluate, config: {}\n",
            "\u001b[36m(ClientAppActor pid=7970)\u001b[0m [Client 2] evaluate, config: {}\n",
            "\u001b[36m(ClientAppActor pid=7970)\u001b[0m [Client 5] evaluate, config: {}\n"
          ]
        },
        {
          "output_type": "stream",
          "name": "stderr",
          "text": [
            "\u001b[92mINFO \u001b[0m:      aggregate_evaluate: received 3 results and 0 failures\n",
            "\u001b[92mINFO \u001b[0m:      \n",
            "\u001b[92mINFO \u001b[0m:      [ROUND 3]\n",
            "\u001b[92mINFO \u001b[0m:      configure_fit: strategy sampled 3 clients (out of 10)\n"
          ]
        },
        {
          "output_type": "stream",
          "name": "stdout",
          "text": [
            "\u001b[36m(ClientAppActor pid=7970)\u001b[0m [Client 0, round 3] fit, config: {'server_round': 3, 'local_epochs': 2}\n",
            "\u001b[36m(ClientAppActor pid=7970)\u001b[0m Epoch 1: train loss 0.051159217953681946, accuracy 0.39825\n",
            "\u001b[36m(ClientAppActor pid=7970)\u001b[0m Epoch 2: train loss 0.04912010207772255, accuracy 0.4185\n",
            "\u001b[36m(ClientAppActor pid=7970)\u001b[0m [Client 8, round 3] fit, config: {'server_round': 3, 'local_epochs': 2}\n",
            "\u001b[36m(ClientAppActor pid=7970)\u001b[0m Epoch 1: train loss 0.05124373361468315, accuracy 0.38875\n",
            "\u001b[36m(ClientAppActor pid=7970)\u001b[0m Epoch 2: train loss 0.04875548928976059, accuracy 0.419\n",
            "\u001b[36m(ClientAppActor pid=7970)\u001b[0m [Client 9, round 3] fit, config: {'server_round': 3, 'local_epochs': 2}\n",
            "\u001b[36m(ClientAppActor pid=7970)\u001b[0m Epoch 1: train loss 0.05055130645632744, accuracy 0.408\n"
          ]
        },
        {
          "output_type": "stream",
          "name": "stderr",
          "text": [
            "\u001b[92mINFO \u001b[0m:      aggregate_fit: received 3 results and 0 failures\n"
          ]
        },
        {
          "output_type": "stream",
          "name": "stdout",
          "text": [
            "\u001b[36m(ClientAppActor pid=7970)\u001b[0m Epoch 2: train loss 0.04799516126513481, accuracy 0.44425\n"
          ]
        },
        {
          "output_type": "stream",
          "name": "stderr",
          "text": [
            "\u001b[92mINFO \u001b[0m:      fit progress: (3, 0.04826355242729187, {'accuracy': 0.4248}, 130.613215202)\n",
            "\u001b[92mINFO \u001b[0m:      configure_evaluate: strategy sampled 3 clients (out of 10)\n"
          ]
        },
        {
          "output_type": "stream",
          "name": "stdout",
          "text": [
            "Server-side evaluation loss 0.04826355242729187 / accuracy 0.4248\n",
            "\u001b[36m(ClientAppActor pid=7970)\u001b[0m [Client 2] evaluate, config: {}\n",
            "\u001b[36m(ClientAppActor pid=7970)\u001b[0m [Client 5] evaluate, config: {}\n",
            "\u001b[36m(ClientAppActor pid=7970)\u001b[0m [Client 9] evaluate, config: {}\n"
          ]
        },
        {
          "output_type": "stream",
          "name": "stderr",
          "text": [
            "\u001b[92mINFO \u001b[0m:      aggregate_evaluate: received 3 results and 0 failures\n",
            "\u001b[92mINFO \u001b[0m:      \n",
            "\u001b[92mINFO \u001b[0m:      [SUMMARY]\n",
            "\u001b[92mINFO \u001b[0m:      Run finished 3 round(s) in 146.44s\n",
            "\u001b[92mINFO \u001b[0m:      \tHistory (loss, distributed):\n",
            "\u001b[92mINFO \u001b[0m:      \t\tround 1: 0.060336949507395425\n",
            "\u001b[92mINFO \u001b[0m:      \t\tround 2: 0.05257604813575745\n",
            "\u001b[92mINFO \u001b[0m:      \t\tround 3: 0.04941874321301778\n",
            "\u001b[92mINFO \u001b[0m:      \tHistory (loss, centralized):\n",
            "\u001b[92mINFO \u001b[0m:      \t\tround 0: 0.0721279774427414\n",
            "\u001b[92mINFO \u001b[0m:      \t\tround 1: 0.0593475800037384\n",
            "\u001b[92mINFO \u001b[0m:      \t\tround 2: 0.0511463111281395\n",
            "\u001b[92mINFO \u001b[0m:      \t\tround 3: 0.04826355242729187\n",
            "\u001b[92mINFO \u001b[0m:      \tHistory (metrics, centralized):\n",
            "\u001b[92mINFO \u001b[0m:      \t{'accuracy': [(0, 0.1), (1, 0.3005), (2, 0.4008), (3, 0.4248)]}\n",
            "\u001b[92mINFO \u001b[0m:      \n"
          ]
        }
      ],
      "source": [
        "def server_fn(context: Context) -> ServerAppComponents:\n",
        "    # Create FedAvg strategy\n",
        "    strategy = FedAvg(\n",
        "        fraction_fit=0.3,\n",
        "        fraction_evaluate=0.3,\n",
        "        min_fit_clients=3,\n",
        "        min_evaluate_clients=3,\n",
        "        min_available_clients=NUM_PARTITIONS,\n",
        "        initial_parameters=ndarrays_to_parameters(params),\n",
        "        evaluate_fn=evaluate,\n",
        "        on_fit_config_fn=fit_config,  # Pass the fit_config function\n",
        "    )\n",
        "    config = ServerConfig(num_rounds=3)\n",
        "    return ServerAppComponents(strategy=strategy, config=config)\n",
        "\n",
        "\n",
        "# Create the ServerApp\n",
        "server = ServerApp(server_fn=server_fn)\n",
        "\n",
        "# Run simulation\n",
        "run_simulation(\n",
        "    server_app=server,\n",
        "    client_app=client,\n",
        "    num_supernodes=NUM_PARTITIONS,\n",
        "    backend_config=backend_config,\n",
        ")"
      ]
    },
    {
      "cell_type": "markdown",
      "metadata": {
        "id": "SG1Jr-d30TZB"
      },
      "source": [
        "As we can see, the client logs now include the current round of federated learning (which they read from the `config` dictionary). We can also configure local training to run for one epoch during the first and second round of federated learning, and then for two epochs during the third round.\n",
        "\n",
        "Clients can also return arbitrary values to the server. To do so, they return a dictionary from `fit` and/or `evaluate`. We have seen and used this concept throughout this notebook without mentioning it explicitly: our `FlowerClient` returns a dictionary containing a custom key/value pair as the third return value in `evaluate`."
      ]
    },
    {
      "cell_type": "markdown",
      "metadata": {
        "id": "vAnRJnXh0TZC"
      },
      "source": [
        "## Scaling federated learning\n",
        "\n",
        "As a last step in this notebook, let's see how we can use Flower to experiment with a large number of clients."
      ]
    },
    {
      "cell_type": "code",
      "execution_count": 21,
      "metadata": {
        "colab": {
          "base_uri": "https://localhost:8080/"
        },
        "id": "wW3DDx8s0TZH",
        "outputId": "a5c1649d-80bd-441c-b349-5a26431f1ffd"
      },
      "outputs": [
        {
          "output_type": "stream",
          "name": "stderr",
          "text": [
            "/usr/local/lib/python3.11/dist-packages/ipykernel/ipkernel.py:283: DeprecationWarning: `should_run_async` will not call `transform_cell` automatically in the future. Please pass the result to `transformed_cell` argument and any exception that happen during thetransform in `preprocessing_exc_tuple` in IPython 7.17 and above.\n",
            "  and should_run_async(code)\n"
          ]
        }
      ],
      "source": [
        "NUM_PARTITIONS = 1000"
      ]
    },
    {
      "cell_type": "markdown",
      "metadata": {
        "id": "Ej0BOgx20TZK"
      },
      "source": [
        "Note that we can reuse the `ClientApp` for different `num-partitions` since the Context is defined by the `num_supernodes` argument in `run_simulation()`.\n",
        "\n",
        "We now have 1000 partitions, each holding 45 training and 5 validation examples. Given that the number of training examples on each client is quite small, we should probably train the model a bit longer, so we configure the clients to perform 3 local training epochs. We should also adjust the fraction of clients selected for training during each round (we don't want all 1000 clients participating in every round), so we adjust `fraction_fit` to `0.025`, which means that only 2.5% of available clients (so 25 clients) will be selected for training each round:\n"
      ]
    },
    {
      "cell_type": "code",
      "execution_count": 22,
      "metadata": {
        "colab": {
          "base_uri": "https://localhost:8080/"
        },
        "id": "OABImjYv0TZL",
        "outputId": "d7552907-cc19-4173-ee05-3da3bf1ba918"
      },
      "outputs": [
        {
          "output_type": "stream",
          "name": "stderr",
          "text": [
            "\u001b[92mINFO \u001b[0m:      Starting Flower ServerApp, config: num_rounds=3, no round_timeout\n",
            "\u001b[92mINFO \u001b[0m:      \n",
            "\u001b[92mINFO \u001b[0m:      [INIT]\n",
            "\u001b[92mINFO \u001b[0m:      Using initial global parameters provided by strategy\n",
            "\u001b[92mINFO \u001b[0m:      Starting evaluation of initial global parameters\n",
            "\u001b[92mINFO \u001b[0m:      Evaluation returned no results (`None`)\n",
            "\u001b[92mINFO \u001b[0m:      \n",
            "\u001b[92mINFO \u001b[0m:      [ROUND 1]\n",
            "\u001b[92mINFO \u001b[0m:      configure_fit: strategy sampled 21 clients (out of 1000)\n",
            "\u001b[36m(pid=9048)\u001b[0m 2025-01-21 08:16:40.637993: E external/local_xla/xla/stream_executor/cuda/cuda_fft.cc:485] Unable to register cuFFT factory: Attempting to register factory for plugin cuFFT when one has already been registered\n",
            "\u001b[36m(pid=9048)\u001b[0m 2025-01-21 08:16:40.665012: E external/local_xla/xla/stream_executor/cuda/cuda_dnn.cc:8454] Unable to register cuDNN factory: Attempting to register factory for plugin cuDNN when one has already been registered\n",
            "\u001b[36m(pid=9048)\u001b[0m 2025-01-21 08:16:40.671447: E external/local_xla/xla/stream_executor/cuda/cuda_blas.cc:1452] Unable to register cuBLAS factory: Attempting to register factory for plugin cuBLAS when one has already been registered\n",
            "\u001b[36m(pid=9048)\u001b[0m 2025-01-21 08:16:41.944888: W tensorflow/compiler/tf2tensorrt/utils/py_utils.cc:38] TF-TRT Warning: Could not find TensorRT\n",
            "\u001b[36m(ClientAppActor pid=9048)\u001b[0m /usr/local/lib/python3.11/dist-packages/jupyter_client/connect.py:28: DeprecationWarning: Jupyter is migrating its paths to use standard platformdirs\n",
            "\u001b[36m(ClientAppActor pid=9048)\u001b[0m given by the platformdirs library.  To remove this warning and\n",
            "\u001b[36m(ClientAppActor pid=9048)\u001b[0m see the appropriate new directories, set the environment variable\n",
            "\u001b[36m(ClientAppActor pid=9048)\u001b[0m `JUPYTER_PLATFORM_DIRS=1` and then run `jupyter --paths`.\n",
            "\u001b[36m(ClientAppActor pid=9048)\u001b[0m The use of platformdirs will be the default in `jupyter_core` v6\n",
            "\u001b[36m(ClientAppActor pid=9048)\u001b[0m   from jupyter_core.paths import jupyter_data_dir, jupyter_runtime_dir, secure_write\n"
          ]
        },
        {
          "output_type": "stream",
          "name": "stdout",
          "text": [
            "\u001b[36m(ClientAppActor pid=9048)\u001b[0m [Client 157, round 1] fit, config: {'server_round': 1, 'local_epochs': 3}\n",
            "\u001b[36m(ClientAppActor pid=9048)\u001b[0m Epoch 1: train loss 0.11441856622695923, accuracy 0.1\n",
            "\u001b[36m(ClientAppActor pid=9048)\u001b[0m Epoch 2: train loss 0.11407946795225143, accuracy 0.125\n",
            "\u001b[36m(ClientAppActor pid=9048)\u001b[0m Epoch 3: train loss 0.11248277872800827, accuracy 0.3\n",
            "\u001b[36m(ClientAppActor pid=9048)\u001b[0m [Client 216, round 1] fit, config: {'server_round': 1, 'local_epochs': 3}\n",
            "\u001b[36m(ClientAppActor pid=9048)\u001b[0m Epoch 1: train loss 0.11592202633619308, accuracy 0.075\n",
            "\u001b[36m(ClientAppActor pid=9048)\u001b[0m Epoch 2: train loss 0.11406165361404419, accuracy 0.075\n",
            "\u001b[36m(ClientAppActor pid=9048)\u001b[0m Epoch 3: train loss 0.11426541954278946, accuracy 0.125\n",
            "\u001b[36m(ClientAppActor pid=9048)\u001b[0m [Client 236, round 1] fit, config: {'server_round': 1, 'local_epochs': 3}\n",
            "\u001b[36m(ClientAppActor pid=9048)\u001b[0m Epoch 1: train loss 0.11393915861845016, accuracy 0.175\n",
            "\u001b[36m(ClientAppActor pid=9048)\u001b[0m Epoch 2: train loss 0.11326592415571213, accuracy 0.175\n",
            "\u001b[36m(ClientAppActor pid=9048)\u001b[0m Epoch 3: train loss 0.1126776710152626, accuracy 0.175\n",
            "\u001b[36m(ClientAppActor pid=9048)\u001b[0m [Client 536, round 1] fit, config: {'server_round': 1, 'local_epochs': 3}\n",
            "\u001b[36m(ClientAppActor pid=9048)\u001b[0m Epoch 1: train loss 0.11463373899459839, accuracy 0.125\n",
            "\u001b[36m(ClientAppActor pid=9048)\u001b[0m Epoch 2: train loss 0.11388804018497467, accuracy 0.125\n",
            "\u001b[36m(ClientAppActor pid=9048)\u001b[0m Epoch 3: train loss 0.11255546659231186, accuracy 0.15\n",
            "\u001b[36m(ClientAppActor pid=9048)\u001b[0m [Client 593, round 1] fit, config: {'server_round': 1, 'local_epochs': 3}\n",
            "\u001b[36m(ClientAppActor pid=9048)\u001b[0m Epoch 1: train loss 0.11552711576223373, accuracy 0.125\n",
            "\u001b[36m(ClientAppActor pid=9048)\u001b[0m Epoch 2: train loss 0.114437036216259, accuracy 0.125\n",
            "\u001b[36m(ClientAppActor pid=9048)\u001b[0m Epoch 3: train loss 0.11371918022632599, accuracy 0.125\n",
            "\u001b[36m(ClientAppActor pid=9048)\u001b[0m [Client 632, round 1] fit, config: {'server_round': 1, 'local_epochs': 3}\n",
            "\u001b[36m(ClientAppActor pid=9048)\u001b[0m Epoch 1: train loss 0.11426746845245361, accuracy 0.125\n",
            "\u001b[36m(ClientAppActor pid=9048)\u001b[0m Epoch 2: train loss 0.11311447620391846, accuracy 0.125\n",
            "\u001b[36m(ClientAppActor pid=9048)\u001b[0m Epoch 3: train loss 0.11140263080596924, accuracy 0.15\n",
            "\u001b[36m(ClientAppActor pid=9048)\u001b[0m [Client 475, round 1] fit, config: {'server_round': 1, 'local_epochs': 3}\n",
            "\u001b[36m(ClientAppActor pid=9048)\u001b[0m Epoch 1: train loss 0.11622593551874161, accuracy 0.075\n",
            "\u001b[36m(ClientAppActor pid=9048)\u001b[0m Epoch 2: train loss 0.11499068886041641, accuracy 0.075\n",
            "\u001b[36m(ClientAppActor pid=9048)\u001b[0m Epoch 3: train loss 0.11403826624155045, accuracy 0.075\n",
            "\u001b[36m(ClientAppActor pid=9048)\u001b[0m [Client 743, round 1] fit, config: {'server_round': 1, 'local_epochs': 3}\n",
            "\u001b[36m(ClientAppActor pid=9048)\u001b[0m Epoch 1: train loss 0.11447160691022873, accuracy 0.125\n",
            "\u001b[36m(ClientAppActor pid=9048)\u001b[0m Epoch 2: train loss 0.11348136514425278, accuracy 0.125\n",
            "\u001b[36m(ClientAppActor pid=9048)\u001b[0m Epoch 3: train loss 0.11174436658620834, accuracy 0.225\n",
            "\u001b[36m(ClientAppActor pid=9048)\u001b[0m [Client 422, round 1] fit, config: {'server_round': 1, 'local_epochs': 3}\n",
            "\u001b[36m(ClientAppActor pid=9048)\u001b[0m Epoch 1: train loss 0.11409115791320801, accuracy 0.25\n",
            "\u001b[36m(ClientAppActor pid=9048)\u001b[0m Epoch 2: train loss 0.11318792402744293, accuracy 0.25\n",
            "\u001b[36m(ClientAppActor pid=9048)\u001b[0m Epoch 3: train loss 0.11199605464935303, accuracy 0.25\n",
            "\u001b[36m(ClientAppActor pid=9048)\u001b[0m [Client 479, round 1] fit, config: {'server_round': 1, 'local_epochs': 3}\n",
            "\u001b[36m(ClientAppActor pid=9048)\u001b[0m Epoch 1: train loss 0.11406049877405167, accuracy 0.225\n",
            "\u001b[36m(ClientAppActor pid=9048)\u001b[0m Epoch 2: train loss 0.11330341547727585, accuracy 0.225\n",
            "\u001b[36m(ClientAppActor pid=9048)\u001b[0m Epoch 3: train loss 0.11120494455099106, accuracy 0.225\n",
            "\u001b[36m(ClientAppActor pid=9048)\u001b[0m [Client 415, round 1] fit, config: {'server_round': 1, 'local_epochs': 3}\n",
            "\u001b[36m(ClientAppActor pid=9048)\u001b[0m Epoch 1: train loss 0.11516866832971573, accuracy 0.1\n",
            "\u001b[36m(ClientAppActor pid=9048)\u001b[0m Epoch 2: train loss 0.11414845287799835, accuracy 0.1\n",
            "\u001b[36m(ClientAppActor pid=9048)\u001b[0m Epoch 3: train loss 0.11392296850681305, accuracy 0.1\n",
            "\u001b[36m(ClientAppActor pid=9048)\u001b[0m [Client 719, round 1] fit, config: {'server_round': 1, 'local_epochs': 3}\n",
            "\u001b[36m(ClientAppActor pid=9048)\u001b[0m Epoch 1: train loss 0.11495955288410187, accuracy 0.2\n",
            "\u001b[36m(ClientAppActor pid=9048)\u001b[0m Epoch 2: train loss 0.11230223625898361, accuracy 0.2\n",
            "\u001b[36m(ClientAppActor pid=9048)\u001b[0m Epoch 3: train loss 0.11378597468137741, accuracy 0.2\n",
            "\u001b[36m(ClientAppActor pid=9048)\u001b[0m [Client 900, round 1] fit, config: {'server_round': 1, 'local_epochs': 3}\n",
            "\u001b[36m(ClientAppActor pid=9048)\u001b[0m Epoch 1: train loss 0.11483342945575714, accuracy 0.125\n",
            "\u001b[36m(ClientAppActor pid=9048)\u001b[0m Epoch 2: train loss 0.11372697353363037, accuracy 0.125\n",
            "\u001b[36m(ClientAppActor pid=9048)\u001b[0m Epoch 3: train loss 0.112584188580513, accuracy 0.125\n",
            "\u001b[36m(ClientAppActor pid=9048)\u001b[0m [Client 937, round 1] fit, config: {'server_round': 1, 'local_epochs': 3}\n",
            "\u001b[36m(ClientAppActor pid=9048)\u001b[0m Epoch 1: train loss 0.11504773050546646, accuracy 0.075\n",
            "\u001b[36m(ClientAppActor pid=9048)\u001b[0m Epoch 2: train loss 0.1131896898150444, accuracy 0.2\n",
            "\u001b[36m(ClientAppActor pid=9048)\u001b[0m Epoch 3: train loss 0.11279232800006866, accuracy 0.175\n",
            "\u001b[36m(ClientAppActor pid=9048)\u001b[0m [Client 864, round 1] fit, config: {'server_round': 1, 'local_epochs': 3}\n",
            "\u001b[36m(ClientAppActor pid=9048)\u001b[0m Epoch 1: train loss 0.11566251516342163, accuracy 0.05\n",
            "\u001b[36m(ClientAppActor pid=9048)\u001b[0m Epoch 2: train loss 0.11416635662317276, accuracy 0.075\n",
            "\u001b[36m(ClientAppActor pid=9048)\u001b[0m Epoch 3: train loss 0.11338118463754654, accuracy 0.325\n",
            "\u001b[36m(ClientAppActor pid=9048)\u001b[0m [Client 5, round 1] fit, config: {'server_round': 1, 'local_epochs': 3}\n",
            "\u001b[36m(ClientAppActor pid=9048)\u001b[0m Epoch 1: train loss 0.11460687965154648, accuracy 0.1\n",
            "\u001b[36m(ClientAppActor pid=9048)\u001b[0m Epoch 2: train loss 0.11298549175262451, accuracy 0.1\n",
            "\u001b[36m(ClientAppActor pid=9048)\u001b[0m Epoch 3: train loss 0.11059346050024033, accuracy 0.25\n",
            "\u001b[36m(ClientAppActor pid=9048)\u001b[0m [Client 676, round 1] fit, config: {'server_round': 1, 'local_epochs': 3}\n",
            "\u001b[36m(ClientAppActor pid=9048)\u001b[0m Epoch 1: train loss 0.1143927350640297, accuracy 0.15\n",
            "\u001b[36m(ClientAppActor pid=9048)\u001b[0m Epoch 2: train loss 0.11343147605657578, accuracy 0.15\n",
            "\u001b[36m(ClientAppActor pid=9048)\u001b[0m Epoch 3: train loss 0.11221690475940704, accuracy 0.15\n",
            "\u001b[36m(ClientAppActor pid=9048)\u001b[0m [Client 942, round 1] fit, config: {'server_round': 1, 'local_epochs': 3}\n",
            "\u001b[36m(ClientAppActor pid=9048)\u001b[0m Epoch 1: train loss 0.11625442653894424, accuracy 0.075\n",
            "\u001b[36m(ClientAppActor pid=9048)\u001b[0m Epoch 2: train loss 0.11515169590711594, accuracy 0.075\n",
            "\u001b[36m(ClientAppActor pid=9048)\u001b[0m Epoch 3: train loss 0.114179827272892, accuracy 0.075\n",
            "\u001b[36m(ClientAppActor pid=9048)\u001b[0m [Client 622, round 1] fit, config: {'server_round': 1, 'local_epochs': 3}\n",
            "\u001b[36m(ClientAppActor pid=9048)\u001b[0m Epoch 1: train loss 0.11462700366973877, accuracy 0.15\n",
            "\u001b[36m(ClientAppActor pid=9048)\u001b[0m Epoch 2: train loss 0.11350126564502716, accuracy 0.15\n",
            "\u001b[36m(ClientAppActor pid=9048)\u001b[0m Epoch 3: train loss 0.11272364109754562, accuracy 0.15\n",
            "\u001b[36m(ClientAppActor pid=9048)\u001b[0m [Client 797, round 1] fit, config: {'server_round': 1, 'local_epochs': 3}\n",
            "\u001b[36m(ClientAppActor pid=9048)\u001b[0m Epoch 1: train loss 0.11608695238828659, accuracy 0.025\n",
            "\u001b[36m(ClientAppActor pid=9048)\u001b[0m Epoch 2: train loss 0.11490488052368164, accuracy 0.075\n",
            "\u001b[36m(ClientAppActor pid=9048)\u001b[0m Epoch 3: train loss 0.11417292803525925, accuracy 0.15\n"
          ]
        },
        {
          "output_type": "stream",
          "name": "stderr",
          "text": [
            "\u001b[92mINFO \u001b[0m:      aggregate_fit: received 21 results and 0 failures\n",
            "\u001b[93mWARNING \u001b[0m:   No fit_metrics_aggregation_fn provided\n",
            "\u001b[92mINFO \u001b[0m:      configure_evaluate: strategy sampled 50 clients (out of 1000)\n"
          ]
        },
        {
          "output_type": "stream",
          "name": "stdout",
          "text": [
            "\u001b[36m(ClientAppActor pid=9048)\u001b[0m [Client 207, round 1] fit, config: {'server_round': 1, 'local_epochs': 3}\n",
            "\u001b[36m(ClientAppActor pid=9048)\u001b[0m Epoch 1: train loss 0.11543109267950058, accuracy 0.125\n",
            "\u001b[36m(ClientAppActor pid=9048)\u001b[0m Epoch 2: train loss 0.11405813694000244, accuracy 0.125\n",
            "\u001b[36m(ClientAppActor pid=9048)\u001b[0m Epoch 3: train loss 0.11320360004901886, accuracy 0.125\n",
            "\u001b[36m(ClientAppActor pid=9048)\u001b[0m [Client 11] evaluate, config: {}\n",
            "\u001b[36m(ClientAppActor pid=9048)\u001b[0m [Client 24] evaluate, config: {}\n",
            "\u001b[36m(ClientAppActor pid=9048)\u001b[0m [Client 71] evaluate, config: {}\n",
            "\u001b[36m(ClientAppActor pid=9048)\u001b[0m [Client 276] evaluate, config: {}\n",
            "\u001b[36m(ClientAppActor pid=9048)\u001b[0m [Client 278] evaluate, config: {}\n",
            "\u001b[36m(ClientAppActor pid=9048)\u001b[0m [Client 998] evaluate, config: {}\n",
            "\u001b[36m(ClientAppActor pid=9048)\u001b[0m [Client 852] evaluate, config: {}\n",
            "\u001b[36m(ClientAppActor pid=9048)\u001b[0m [Client 914] evaluate, config: {}\n",
            "\u001b[36m(ClientAppActor pid=9048)\u001b[0m [Client 452] evaluate, config: {}\n",
            "\u001b[36m(ClientAppActor pid=9048)\u001b[0m [Client 674] evaluate, config: {}\n",
            "\u001b[36m(ClientAppActor pid=9048)\u001b[0m [Client 790] evaluate, config: {}\n",
            "\u001b[36m(ClientAppActor pid=9048)\u001b[0m [Client 557] evaluate, config: {}\n",
            "\u001b[36m(ClientAppActor pid=9048)\u001b[0m [Client 938] evaluate, config: {}\n",
            "\u001b[36m(ClientAppActor pid=9048)\u001b[0m [Client 139] evaluate, config: {}\n",
            "\u001b[36m(ClientAppActor pid=9048)\u001b[0m [Client 566] evaluate, config: {}\n",
            "\u001b[36m(ClientAppActor pid=9048)\u001b[0m [Client 620] evaluate, config: {}\n",
            "\u001b[36m(ClientAppActor pid=9048)\u001b[0m [Client 741] evaluate, config: {}\n",
            "\u001b[36m(ClientAppActor pid=9048)\u001b[0m [Client 619] evaluate, config: {}\n",
            "\u001b[36m(ClientAppActor pid=9048)\u001b[0m [Client 328] evaluate, config: {}\n",
            "\u001b[36m(ClientAppActor pid=9048)\u001b[0m [Client 253] evaluate, config: {}\n",
            "\u001b[36m(ClientAppActor pid=9048)\u001b[0m [Client 403] evaluate, config: {}\n",
            "\u001b[36m(ClientAppActor pid=9048)\u001b[0m [Client 280] evaluate, config: {}\n",
            "\u001b[36m(ClientAppActor pid=9048)\u001b[0m [Client 739] evaluate, config: {}\n",
            "\u001b[36m(ClientAppActor pid=9048)\u001b[0m [Client 240] evaluate, config: {}\n",
            "\u001b[36m(ClientAppActor pid=9048)\u001b[0m [Client 643] evaluate, config: {}\n",
            "\u001b[36m(ClientAppActor pid=9048)\u001b[0m [Client 96] evaluate, config: {}\n",
            "\u001b[36m(ClientAppActor pid=9048)\u001b[0m [Client 991] evaluate, config: {}\n",
            "\u001b[36m(ClientAppActor pid=9048)\u001b[0m [Client 568] evaluate, config: {}\n",
            "\u001b[36m(ClientAppActor pid=9048)\u001b[0m [Client 628] evaluate, config: {}\n",
            "\u001b[36m(ClientAppActor pid=9048)\u001b[0m [Client 132] evaluate, config: {}\n",
            "\u001b[36m(ClientAppActor pid=9048)\u001b[0m [Client 169] evaluate, config: {}\n",
            "\u001b[36m(ClientAppActor pid=9048)\u001b[0m [Client 215] evaluate, config: {}\n",
            "\u001b[36m(ClientAppActor pid=9048)\u001b[0m [Client 937] evaluate, config: {}\n",
            "\u001b[36m(ClientAppActor pid=9048)\u001b[0m [Client 764] evaluate, config: {}\n",
            "\u001b[36m(ClientAppActor pid=9048)\u001b[0m [Client 690] evaluate, config: {}\n",
            "\u001b[36m(ClientAppActor pid=9048)\u001b[0m [Client 463] evaluate, config: {}\n",
            "\u001b[36m(ClientAppActor pid=9048)\u001b[0m [Client 990] evaluate, config: {}\n",
            "\u001b[36m(ClientAppActor pid=9048)\u001b[0m [Client 838] evaluate, config: {}\n",
            "\u001b[36m(ClientAppActor pid=9048)\u001b[0m [Client 878] evaluate, config: {}\n",
            "\u001b[36m(ClientAppActor pid=9048)\u001b[0m [Client 77] evaluate, config: {}\n",
            "\u001b[36m(ClientAppActor pid=9048)\u001b[0m [Client 819] evaluate, config: {}\n",
            "\u001b[36m(ClientAppActor pid=9048)\u001b[0m [Client 639] evaluate, config: {}\n",
            "\u001b[36m(ClientAppActor pid=9048)\u001b[0m [Client 128] evaluate, config: {}\n",
            "\u001b[36m(ClientAppActor pid=9048)\u001b[0m [Client 115] evaluate, config: {}\n",
            "\u001b[36m(ClientAppActor pid=9048)\u001b[0m [Client 309] evaluate, config: {}\n",
            "\u001b[36m(ClientAppActor pid=9048)\u001b[0m [Client 769] evaluate, config: {}\n",
            "\u001b[36m(ClientAppActor pid=9048)\u001b[0m [Client 718] evaluate, config: {}\n",
            "\u001b[36m(ClientAppActor pid=9048)\u001b[0m [Client 545] evaluate, config: {}\n",
            "\u001b[36m(ClientAppActor pid=9048)\u001b[0m [Client 192] evaluate, config: {}\n"
          ]
        },
        {
          "output_type": "stream",
          "name": "stderr",
          "text": [
            "\u001b[92mINFO \u001b[0m:      aggregate_evaluate: received 50 results and 0 failures\n",
            "\u001b[93mWARNING \u001b[0m:   No evaluate_metrics_aggregation_fn provided\n",
            "\u001b[92mINFO \u001b[0m:      \n",
            "\u001b[92mINFO \u001b[0m:      [ROUND 2]\n",
            "\u001b[92mINFO \u001b[0m:      configure_fit: strategy sampled 25 clients (out of 1000)\n"
          ]
        },
        {
          "output_type": "stream",
          "name": "stdout",
          "text": [
            "\u001b[36m(ClientAppActor pid=9048)\u001b[0m [Client 488] evaluate, config: {}\n",
            "\u001b[36m(ClientAppActor pid=9048)\u001b[0m [Client 59, round 2] fit, config: {'server_round': 2, 'local_epochs': 3}\n",
            "\u001b[36m(ClientAppActor pid=9048)\u001b[0m Epoch 1: train loss 0.11534950882196426, accuracy 0.1\n",
            "\u001b[36m(ClientAppActor pid=9048)\u001b[0m Epoch 2: train loss 0.11319249123334885, accuracy 0.1\n",
            "\u001b[36m(ClientAppActor pid=9048)\u001b[0m Epoch 3: train loss 0.11337079852819443, accuracy 0.15\n",
            "\u001b[36m(ClientAppActor pid=9048)\u001b[0m [Client 94, round 2] fit, config: {'server_round': 2, 'local_epochs': 3}\n",
            "\u001b[36m(ClientAppActor pid=9048)\u001b[0m Epoch 1: train loss 0.11570998281240463, accuracy 0.05\n",
            "\u001b[36m(ClientAppActor pid=9048)\u001b[0m Epoch 2: train loss 0.1143534928560257, accuracy 0.2\n",
            "\u001b[36m(ClientAppActor pid=9048)\u001b[0m Epoch 3: train loss 0.11291766166687012, accuracy 0.375\n",
            "\u001b[36m(ClientAppActor pid=9048)\u001b[0m [Client 147, round 2] fit, config: {'server_round': 2, 'local_epochs': 3}\n",
            "\u001b[36m(ClientAppActor pid=9048)\u001b[0m Epoch 1: train loss 0.11397812515497208, accuracy 0.1\n",
            "\u001b[36m(ClientAppActor pid=9048)\u001b[0m Epoch 2: train loss 0.11190476268529892, accuracy 0.125\n",
            "\u001b[36m(ClientAppActor pid=9048)\u001b[0m Epoch 3: train loss 0.11063341051340103, accuracy 0.25\n",
            "\u001b[36m(ClientAppActor pid=9048)\u001b[0m [Client 301, round 2] fit, config: {'server_round': 2, 'local_epochs': 3}\n",
            "\u001b[36m(ClientAppActor pid=9048)\u001b[0m Epoch 1: train loss 0.1156085953116417, accuracy 0.025\n",
            "\u001b[36m(ClientAppActor pid=9048)\u001b[0m Epoch 2: train loss 0.11476955562829971, accuracy 0.1\n",
            "\u001b[36m(ClientAppActor pid=9048)\u001b[0m Epoch 3: train loss 0.11308109760284424, accuracy 0.15\n",
            "\u001b[36m(ClientAppActor pid=9048)\u001b[0m [Client 526, round 2] fit, config: {'server_round': 2, 'local_epochs': 3}\n",
            "\u001b[36m(ClientAppActor pid=9048)\u001b[0m Epoch 1: train loss 0.11552248150110245, accuracy 0.1\n",
            "\u001b[36m(ClientAppActor pid=9048)\u001b[0m Epoch 2: train loss 0.11342845112085342, accuracy 0.2\n",
            "\u001b[36m(ClientAppActor pid=9048)\u001b[0m Epoch 3: train loss 0.11139636486768723, accuracy 0.275\n",
            "\u001b[36m(ClientAppActor pid=9048)\u001b[0m [Client 895, round 2] fit, config: {'server_round': 2, 'local_epochs': 3}\n",
            "\u001b[36m(ClientAppActor pid=9048)\u001b[0m Epoch 1: train loss 0.11521245539188385, accuracy 0.1\n",
            "\u001b[36m(ClientAppActor pid=9048)\u001b[0m Epoch 2: train loss 0.11386718600988388, accuracy 0.15\n",
            "\u001b[36m(ClientAppActor pid=9048)\u001b[0m Epoch 3: train loss 0.1121104508638382, accuracy 0.175\n",
            "\u001b[36m(ClientAppActor pid=9048)\u001b[0m [Client 897, round 2] fit, config: {'server_round': 2, 'local_epochs': 3}\n",
            "\u001b[36m(ClientAppActor pid=9048)\u001b[0m Epoch 1: train loss 0.1136065274477005, accuracy 0.125\n",
            "\u001b[36m(ClientAppActor pid=9048)\u001b[0m Epoch 2: train loss 0.11127655953168869, accuracy 0.175\n",
            "\u001b[36m(ClientAppActor pid=9048)\u001b[0m Epoch 3: train loss 0.10764817148447037, accuracy 0.3\n",
            "\u001b[36m(ClientAppActor pid=9048)\u001b[0m [Client 361, round 2] fit, config: {'server_round': 2, 'local_epochs': 3}\n",
            "\u001b[36m(ClientAppActor pid=9048)\u001b[0m Epoch 1: train loss 0.11465751379728317, accuracy 0.075\n",
            "\u001b[36m(ClientAppActor pid=9048)\u001b[0m Epoch 2: train loss 0.11285998672246933, accuracy 0.075\n",
            "\u001b[36m(ClientAppActor pid=9048)\u001b[0m Epoch 3: train loss 0.11125015467405319, accuracy 0.225\n",
            "\u001b[36m(ClientAppActor pid=9048)\u001b[0m [Client 744, round 2] fit, config: {'server_round': 2, 'local_epochs': 3}\n",
            "\u001b[36m(ClientAppActor pid=9048)\u001b[0m Epoch 1: train loss 0.11615832895040512, accuracy 0.1\n",
            "\u001b[36m(ClientAppActor pid=9048)\u001b[0m Epoch 2: train loss 0.1137482151389122, accuracy 0.1\n",
            "\u001b[36m(ClientAppActor pid=9048)\u001b[0m Epoch 3: train loss 0.11332988739013672, accuracy 0.1\n",
            "\u001b[36m(ClientAppActor pid=9048)\u001b[0m [Client 312, round 2] fit, config: {'server_round': 2, 'local_epochs': 3}\n",
            "\u001b[36m(ClientAppActor pid=9048)\u001b[0m Epoch 1: train loss 0.11470647901296616, accuracy 0.15\n",
            "\u001b[36m(ClientAppActor pid=9048)\u001b[0m Epoch 2: train loss 0.11284571141004562, accuracy 0.15\n",
            "\u001b[36m(ClientAppActor pid=9048)\u001b[0m Epoch 3: train loss 0.11182849854230881, accuracy 0.15\n",
            "\u001b[36m(ClientAppActor pid=9048)\u001b[0m [Client 146, round 2] fit, config: {'server_round': 2, 'local_epochs': 3}\n",
            "\u001b[36m(ClientAppActor pid=9048)\u001b[0m Epoch 1: train loss 0.11462614685297012, accuracy 0.125\n",
            "\u001b[36m(ClientAppActor pid=9048)\u001b[0m Epoch 2: train loss 0.11390822380781174, accuracy 0.125\n",
            "\u001b[36m(ClientAppActor pid=9048)\u001b[0m Epoch 3: train loss 0.11207492649555206, accuracy 0.125\n",
            "\u001b[36m(ClientAppActor pid=9048)\u001b[0m [Client 325, round 2] fit, config: {'server_round': 2, 'local_epochs': 3}\n",
            "\u001b[36m(ClientAppActor pid=9048)\u001b[0m Epoch 1: train loss 0.11565680801868439, accuracy 0.1\n",
            "\u001b[36m(ClientAppActor pid=9048)\u001b[0m Epoch 2: train loss 0.11396396160125732, accuracy 0.1\n",
            "\u001b[36m(ClientAppActor pid=9048)\u001b[0m Epoch 3: train loss 0.11206097900867462, accuracy 0.125\n",
            "\u001b[36m(ClientAppActor pid=9048)\u001b[0m [Client 649, round 2] fit, config: {'server_round': 2, 'local_epochs': 3}\n",
            "\u001b[36m(ClientAppActor pid=9048)\u001b[0m Epoch 1: train loss 0.114986352622509, accuracy 0.125\n",
            "\u001b[36m(ClientAppActor pid=9048)\u001b[0m Epoch 2: train loss 0.11435253918170929, accuracy 0.125\n",
            "\u001b[36m(ClientAppActor pid=9048)\u001b[0m Epoch 3: train loss 0.11372949928045273, accuracy 0.125\n",
            "\u001b[36m(ClientAppActor pid=9048)\u001b[0m [Client 938, round 2] fit, config: {'server_round': 2, 'local_epochs': 3}\n",
            "\u001b[36m(ClientAppActor pid=9048)\u001b[0m Epoch 1: train loss 0.11499791592359543, accuracy 0.15\n",
            "\u001b[36m(ClientAppActor pid=9048)\u001b[0m Epoch 2: train loss 0.11350791901350021, accuracy 0.15\n",
            "\u001b[36m(ClientAppActor pid=9048)\u001b[0m Epoch 3: train loss 0.11129146814346313, accuracy 0.15\n",
            "\u001b[36m(ClientAppActor pid=9048)\u001b[0m [Client 674, round 2] fit, config: {'server_round': 2, 'local_epochs': 3}\n",
            "\u001b[36m(ClientAppActor pid=9048)\u001b[0m Epoch 1: train loss 0.11412568390369415, accuracy 0.1\n",
            "\u001b[36m(ClientAppActor pid=9048)\u001b[0m Epoch 2: train loss 0.1129767894744873, accuracy 0.125\n",
            "\u001b[36m(ClientAppActor pid=9048)\u001b[0m Epoch 3: train loss 0.111388199031353, accuracy 0.25\n",
            "\u001b[36m(ClientAppActor pid=9048)\u001b[0m [Client 582, round 2] fit, config: {'server_round': 2, 'local_epochs': 3}\n",
            "\u001b[36m(ClientAppActor pid=9048)\u001b[0m Epoch 1: train loss 0.11483702808618546, accuracy 0.1\n",
            "\u001b[36m(ClientAppActor pid=9048)\u001b[0m Epoch 2: train loss 0.11421140283346176, accuracy 0.1\n",
            "\u001b[36m(ClientAppActor pid=9048)\u001b[0m Epoch 3: train loss 0.11189160495996475, accuracy 0.125\n",
            "\u001b[36m(ClientAppActor pid=9048)\u001b[0m [Client 144, round 2] fit, config: {'server_round': 2, 'local_epochs': 3}\n",
            "\u001b[36m(ClientAppActor pid=9048)\u001b[0m Epoch 1: train loss 0.11555229872465134, accuracy 0.05\n",
            "\u001b[36m(ClientAppActor pid=9048)\u001b[0m Epoch 2: train loss 0.11320356279611588, accuracy 0.125\n",
            "\u001b[36m(ClientAppActor pid=9048)\u001b[0m Epoch 3: train loss 0.11227070540189743, accuracy 0.325\n",
            "\u001b[36m(ClientAppActor pid=9048)\u001b[0m [Client 70, round 2] fit, config: {'server_round': 2, 'local_epochs': 3}\n",
            "\u001b[36m(ClientAppActor pid=9048)\u001b[0m Epoch 1: train loss 0.11545713990926743, accuracy 0.15\n",
            "\u001b[36m(ClientAppActor pid=9048)\u001b[0m Epoch 2: train loss 0.11306419223546982, accuracy 0.15\n",
            "\u001b[36m(ClientAppActor pid=9048)\u001b[0m Epoch 3: train loss 0.11046075820922852, accuracy 0.275\n",
            "\u001b[36m(ClientAppActor pid=9048)\u001b[0m [Client 266, round 2] fit, config: {'server_round': 2, 'local_epochs': 3}\n",
            "\u001b[36m(ClientAppActor pid=9048)\u001b[0m Epoch 1: train loss 0.11523006111383438, accuracy 0.025\n",
            "\u001b[36m(ClientAppActor pid=9048)\u001b[0m Epoch 2: train loss 0.11390917748212814, accuracy 0.175\n",
            "\u001b[36m(ClientAppActor pid=9048)\u001b[0m Epoch 3: train loss 0.11169171333312988, accuracy 0.275\n",
            "\u001b[36m(ClientAppActor pid=9048)\u001b[0m [Client 904, round 2] fit, config: {'server_round': 2, 'local_epochs': 3}\n",
            "\u001b[36m(ClientAppActor pid=9048)\u001b[0m Epoch 1: train loss 0.11460614204406738, accuracy 0.125\n",
            "\u001b[36m(ClientAppActor pid=9048)\u001b[0m Epoch 2: train loss 0.11389341205358505, accuracy 0.125\n",
            "\u001b[36m(ClientAppActor pid=9048)\u001b[0m Epoch 3: train loss 0.11179806292057037, accuracy 0.15\n",
            "\u001b[36m(ClientAppActor pid=9048)\u001b[0m [Client 355, round 2] fit, config: {'server_round': 2, 'local_epochs': 3}\n",
            "\u001b[36m(ClientAppActor pid=9048)\u001b[0m Epoch 1: train loss 0.11388074606657028, accuracy 0.175\n",
            "\u001b[36m(ClientAppActor pid=9048)\u001b[0m Epoch 2: train loss 0.11172594875097275, accuracy 0.175\n",
            "\u001b[36m(ClientAppActor pid=9048)\u001b[0m Epoch 3: train loss 0.10650747269392014, accuracy 0.175\n",
            "\u001b[36m(ClientAppActor pid=9048)\u001b[0m [Client 112, round 2] fit, config: {'server_round': 2, 'local_epochs': 3}\n",
            "\u001b[36m(ClientAppActor pid=9048)\u001b[0m Epoch 1: train loss 0.11367805302143097, accuracy 0.175\n",
            "\u001b[36m(ClientAppActor pid=9048)\u001b[0m Epoch 2: train loss 0.11377999931573868, accuracy 0.175\n",
            "\u001b[36m(ClientAppActor pid=9048)\u001b[0m Epoch 3: train loss 0.10903079807758331, accuracy 0.175\n",
            "\u001b[36m(ClientAppActor pid=9048)\u001b[0m [Client 409, round 2] fit, config: {'server_round': 2, 'local_epochs': 3}\n",
            "\u001b[36m(ClientAppActor pid=9048)\u001b[0m Epoch 1: train loss 0.11437380313873291, accuracy 0.2\n",
            "\u001b[36m(ClientAppActor pid=9048)\u001b[0m Epoch 2: train loss 0.11234887689352036, accuracy 0.2\n",
            "\u001b[36m(ClientAppActor pid=9048)\u001b[0m Epoch 3: train loss 0.11121965944766998, accuracy 0.2\n",
            "\u001b[36m(ClientAppActor pid=9048)\u001b[0m [Client 511, round 2] fit, config: {'server_round': 2, 'local_epochs': 3}\n",
            "\u001b[36m(ClientAppActor pid=9048)\u001b[0m Epoch 1: train loss 0.11404664814472198, accuracy 0.15\n",
            "\u001b[36m(ClientAppActor pid=9048)\u001b[0m Epoch 2: train loss 0.11003132909536362, accuracy 0.15\n",
            "\u001b[36m(ClientAppActor pid=9048)\u001b[0m Epoch 3: train loss 0.10858429968357086, accuracy 0.2\n"
          ]
        },
        {
          "output_type": "stream",
          "name": "stderr",
          "text": [
            "\u001b[92mINFO \u001b[0m:      aggregate_fit: received 25 results and 0 failures\n",
            "\u001b[92mINFO \u001b[0m:      configure_evaluate: strategy sampled 50 clients (out of 1000)\n"
          ]
        },
        {
          "output_type": "stream",
          "name": "stdout",
          "text": [
            "\u001b[36m(ClientAppActor pid=9048)\u001b[0m [Client 870, round 2] fit, config: {'server_round': 2, 'local_epochs': 3}\n",
            "\u001b[36m(ClientAppActor pid=9048)\u001b[0m Epoch 1: train loss 0.11510872840881348, accuracy 0.15\n",
            "\u001b[36m(ClientAppActor pid=9048)\u001b[0m Epoch 2: train loss 0.11241376399993896, accuracy 0.15\n",
            "\u001b[36m(ClientAppActor pid=9048)\u001b[0m Epoch 3: train loss 0.1119036003947258, accuracy 0.15\n",
            "\u001b[36m(ClientAppActor pid=9048)\u001b[0m [Client 65] evaluate, config: {}\n",
            "\u001b[36m(ClientAppActor pid=9048)\u001b[0m [Client 216] evaluate, config: {}\n",
            "\u001b[36m(ClientAppActor pid=9048)\u001b[0m [Client 591] evaluate, config: {}\n",
            "\u001b[36m(ClientAppActor pid=9048)\u001b[0m [Client 712] evaluate, config: {}\n",
            "\u001b[36m(ClientAppActor pid=9048)\u001b[0m [Client 809] evaluate, config: {}\n",
            "\u001b[36m(ClientAppActor pid=9048)\u001b[0m [Client 897] evaluate, config: {}\n",
            "\u001b[36m(ClientAppActor pid=9048)\u001b[0m [Client 975] evaluate, config: {}\n",
            "\u001b[36m(ClientAppActor pid=9048)\u001b[0m [Client 286] evaluate, config: {}\n",
            "\u001b[36m(ClientAppActor pid=9048)\u001b[0m [Client 939] evaluate, config: {}\n",
            "\u001b[36m(ClientAppActor pid=9048)\u001b[0m [Client 806] evaluate, config: {}\n",
            "\u001b[36m(ClientAppActor pid=9048)\u001b[0m [Client 337] evaluate, config: {}\n",
            "\u001b[36m(ClientAppActor pid=9048)\u001b[0m [Client 433] evaluate, config: {}\n",
            "\u001b[36m(ClientAppActor pid=9048)\u001b[0m [Client 789] evaluate, config: {}\n",
            "\u001b[36m(ClientAppActor pid=9048)\u001b[0m [Client 595] evaluate, config: {}\n",
            "\u001b[36m(ClientAppActor pid=9048)\u001b[0m [Client 797] evaluate, config: {}\n",
            "\u001b[36m(ClientAppActor pid=9048)\u001b[0m [Client 483] evaluate, config: {}\n",
            "\u001b[36m(ClientAppActor pid=9048)\u001b[0m [Client 15] evaluate, config: {}\n",
            "\u001b[36m(ClientAppActor pid=9048)\u001b[0m [Client 656] evaluate, config: {}\n",
            "\u001b[36m(ClientAppActor pid=9048)\u001b[0m [Client 476] evaluate, config: {}\n",
            "\u001b[36m(ClientAppActor pid=9048)\u001b[0m [Client 719] evaluate, config: {}\n",
            "\u001b[36m(ClientAppActor pid=9048)\u001b[0m [Client 538] evaluate, config: {}\n",
            "\u001b[36m(ClientAppActor pid=9048)\u001b[0m [Client 48] evaluate, config: {}\n",
            "\u001b[36m(ClientAppActor pid=9048)\u001b[0m [Client 159] evaluate, config: {}\n",
            "\u001b[36m(ClientAppActor pid=9048)\u001b[0m [Client 586] evaluate, config: {}\n",
            "\u001b[36m(ClientAppActor pid=9048)\u001b[0m [Client 393] evaluate, config: {}\n",
            "\u001b[36m(ClientAppActor pid=9048)\u001b[0m [Client 611] evaluate, config: {}\n",
            "\u001b[36m(ClientAppActor pid=9048)\u001b[0m [Client 729] evaluate, config: {}\n",
            "\u001b[36m(ClientAppActor pid=9048)\u001b[0m [Client 316] evaluate, config: {}\n",
            "\u001b[36m(ClientAppActor pid=9048)\u001b[0m [Client 835] evaluate, config: {}\n",
            "\u001b[36m(ClientAppActor pid=9048)\u001b[0m [Client 50] evaluate, config: {}\n",
            "\u001b[36m(ClientAppActor pid=9048)\u001b[0m [Client 317] evaluate, config: {}\n",
            "\u001b[36m(ClientAppActor pid=9048)\u001b[0m [Client 170] evaluate, config: {}\n",
            "\u001b[36m(ClientAppActor pid=9048)\u001b[0m [Client 1] evaluate, config: {}\n",
            "\u001b[36m(ClientAppActor pid=9048)\u001b[0m [Client 883] evaluate, config: {}\n",
            "\u001b[36m(ClientAppActor pid=9048)\u001b[0m [Client 191] evaluate, config: {}\n",
            "\u001b[36m(ClientAppActor pid=9048)\u001b[0m [Client 840] evaluate, config: {}\n",
            "\u001b[36m(ClientAppActor pid=9048)\u001b[0m [Client 90] evaluate, config: {}\n",
            "\u001b[36m(ClientAppActor pid=9048)\u001b[0m [Client 501] evaluate, config: {}\n",
            "\u001b[36m(ClientAppActor pid=9048)\u001b[0m [Client 238] evaluate, config: {}\n",
            "\u001b[36m(ClientAppActor pid=9048)\u001b[0m [Client 347] evaluate, config: {}\n",
            "\u001b[36m(ClientAppActor pid=9048)\u001b[0m [Client 2] evaluate, config: {}\n",
            "\u001b[36m(ClientAppActor pid=9048)\u001b[0m [Client 954] evaluate, config: {}\n",
            "\u001b[36m(ClientAppActor pid=9048)\u001b[0m [Client 88] evaluate, config: {}\n",
            "\u001b[36m(ClientAppActor pid=9048)\u001b[0m [Client 814] evaluate, config: {}\n",
            "\u001b[36m(ClientAppActor pid=9048)\u001b[0m [Client 157] evaluate, config: {}\n",
            "\u001b[36m(ClientAppActor pid=9048)\u001b[0m [Client 189] evaluate, config: {}\n",
            "\u001b[36m(ClientAppActor pid=9048)\u001b[0m [Client 816] evaluate, config: {}\n",
            "\u001b[36m(ClientAppActor pid=9048)\u001b[0m [Client 8] evaluate, config: {}\n",
            "\u001b[36m(ClientAppActor pid=9048)\u001b[0m [Client 116] evaluate, config: {}\n"
          ]
        },
        {
          "output_type": "stream",
          "name": "stderr",
          "text": [
            "\u001b[92mINFO \u001b[0m:      aggregate_evaluate: received 50 results and 0 failures\n",
            "\u001b[92mINFO \u001b[0m:      \n",
            "\u001b[92mINFO \u001b[0m:      [ROUND 3]\n",
            "\u001b[92mINFO \u001b[0m:      configure_fit: strategy sampled 25 clients (out of 1000)\n"
          ]
        },
        {
          "output_type": "stream",
          "name": "stdout",
          "text": [
            "\u001b[36m(ClientAppActor pid=9048)\u001b[0m [Client 10] evaluate, config: {}\n",
            "\u001b[36m(ClientAppActor pid=9048)\u001b[0m [Client 326, round 3] fit, config: {'server_round': 3, 'local_epochs': 3}\n",
            "\u001b[36m(ClientAppActor pid=9048)\u001b[0m Epoch 1: train loss 0.11473257839679718, accuracy 0.075\n",
            "\u001b[36m(ClientAppActor pid=9048)\u001b[0m Epoch 2: train loss 0.11253738403320312, accuracy 0.175\n",
            "\u001b[36m(ClientAppActor pid=9048)\u001b[0m Epoch 3: train loss 0.10651582479476929, accuracy 0.275\n",
            "\u001b[36m(ClientAppActor pid=9048)\u001b[0m [Client 358, round 3] fit, config: {'server_round': 3, 'local_epochs': 3}\n",
            "\u001b[36m(ClientAppActor pid=9048)\u001b[0m Epoch 1: train loss 0.11251883953809738, accuracy 0.175\n",
            "\u001b[36m(ClientAppActor pid=9048)\u001b[0m Epoch 2: train loss 0.11026220768690109, accuracy 0.3\n",
            "\u001b[36m(ClientAppActor pid=9048)\u001b[0m Epoch 3: train loss 0.11065860092639923, accuracy 0.3\n",
            "\u001b[36m(ClientAppActor pid=9048)\u001b[0m [Client 537, round 3] fit, config: {'server_round': 3, 'local_epochs': 3}\n",
            "\u001b[36m(ClientAppActor pid=9048)\u001b[0m Epoch 1: train loss 0.11436581611633301, accuracy 0.075\n",
            "\u001b[36m(ClientAppActor pid=9048)\u001b[0m Epoch 2: train loss 0.11327844113111496, accuracy 0.2\n",
            "\u001b[36m(ClientAppActor pid=9048)\u001b[0m Epoch 3: train loss 0.11035054177045822, accuracy 0.275\n",
            "\u001b[36m(ClientAppActor pid=9048)\u001b[0m [Client 602, round 3] fit, config: {'server_round': 3, 'local_epochs': 3}\n",
            "\u001b[36m(ClientAppActor pid=9048)\u001b[0m Epoch 1: train loss 0.1156875416636467, accuracy 0.075\n",
            "\u001b[36m(ClientAppActor pid=9048)\u001b[0m Epoch 2: train loss 0.11225643008947372, accuracy 0.225\n",
            "\u001b[36m(ClientAppActor pid=9048)\u001b[0m Epoch 3: train loss 0.10977587848901749, accuracy 0.275\n",
            "\u001b[36m(ClientAppActor pid=9048)\u001b[0m [Client 669, round 3] fit, config: {'server_round': 3, 'local_epochs': 3}\n",
            "\u001b[36m(ClientAppActor pid=9048)\u001b[0m Epoch 1: train loss 0.11445754021406174, accuracy 0.125\n",
            "\u001b[36m(ClientAppActor pid=9048)\u001b[0m Epoch 2: train loss 0.11109011620283127, accuracy 0.15\n",
            "\u001b[36m(ClientAppActor pid=9048)\u001b[0m Epoch 3: train loss 0.10908752679824829, accuracy 0.325\n",
            "\u001b[36m(ClientAppActor pid=9048)\u001b[0m [Client 802, round 3] fit, config: {'server_round': 3, 'local_epochs': 3}\n",
            "\u001b[36m(ClientAppActor pid=9048)\u001b[0m Epoch 1: train loss 0.1145826131105423, accuracy 0.125\n",
            "\u001b[36m(ClientAppActor pid=9048)\u001b[0m Epoch 2: train loss 0.11366891115903854, accuracy 0.125\n",
            "\u001b[36m(ClientAppActor pid=9048)\u001b[0m Epoch 3: train loss 0.11280131340026855, accuracy 0.125\n",
            "\u001b[36m(ClientAppActor pid=9048)\u001b[0m [Client 246, round 3] fit, config: {'server_round': 3, 'local_epochs': 3}\n",
            "\u001b[36m(ClientAppActor pid=9048)\u001b[0m Epoch 1: train loss 0.11339078098535538, accuracy 0.1\n",
            "\u001b[36m(ClientAppActor pid=9048)\u001b[0m Epoch 2: train loss 0.11175587028265, accuracy 0.175\n",
            "\u001b[36m(ClientAppActor pid=9048)\u001b[0m Epoch 3: train loss 0.11036055535078049, accuracy 0.175\n",
            "\u001b[36m(ClientAppActor pid=9048)\u001b[0m [Client 157, round 3] fit, config: {'server_round': 3, 'local_epochs': 3}\n",
            "\u001b[36m(ClientAppActor pid=9048)\u001b[0m Epoch 1: train loss 0.11432012170553207, accuracy 0.1\n",
            "\u001b[36m(ClientAppActor pid=9048)\u001b[0m Epoch 2: train loss 0.11234679073095322, accuracy 0.2\n",
            "\u001b[36m(ClientAppActor pid=9048)\u001b[0m Epoch 3: train loss 0.11183810234069824, accuracy 0.325\n",
            "\u001b[36m(ClientAppActor pid=9048)\u001b[0m [Client 734, round 3] fit, config: {'server_round': 3, 'local_epochs': 3}\n",
            "\u001b[36m(ClientAppActor pid=9048)\u001b[0m Epoch 1: train loss 0.11333446949720383, accuracy 0.175\n",
            "\u001b[36m(ClientAppActor pid=9048)\u001b[0m Epoch 2: train loss 0.11121881008148193, accuracy 0.175\n",
            "\u001b[36m(ClientAppActor pid=9048)\u001b[0m Epoch 3: train loss 0.10803329199552536, accuracy 0.175\n",
            "\u001b[36m(ClientAppActor pid=9048)\u001b[0m [Client 673, round 3] fit, config: {'server_round': 3, 'local_epochs': 3}\n",
            "\u001b[36m(ClientAppActor pid=9048)\u001b[0m Epoch 1: train loss 0.11341305077075958, accuracy 0.175\n",
            "\u001b[36m(ClientAppActor pid=9048)\u001b[0m Epoch 2: train loss 0.11132068932056427, accuracy 0.3\n",
            "\u001b[36m(ClientAppActor pid=9048)\u001b[0m Epoch 3: train loss 0.10825896263122559, accuracy 0.375\n",
            "\u001b[36m(ClientAppActor pid=9048)\u001b[0m [Client 614, round 3] fit, config: {'server_round': 3, 'local_epochs': 3}\n",
            "\u001b[36m(ClientAppActor pid=9048)\u001b[0m Epoch 1: train loss 0.11243920773267746, accuracy 0.2\n",
            "\u001b[36m(ClientAppActor pid=9048)\u001b[0m Epoch 2: train loss 0.11048495769500732, accuracy 0.2\n",
            "\u001b[36m(ClientAppActor pid=9048)\u001b[0m Epoch 3: train loss 0.10417397320270538, accuracy 0.2\n",
            "\u001b[36m(ClientAppActor pid=9048)\u001b[0m [Client 11, round 3] fit, config: {'server_round': 3, 'local_epochs': 3}\n",
            "\u001b[36m(ClientAppActor pid=9048)\u001b[0m Epoch 1: train loss 0.11249595135450363, accuracy 0.15\n",
            "\u001b[36m(ClientAppActor pid=9048)\u001b[0m Epoch 2: train loss 0.10987327247858047, accuracy 0.325\n",
            "\u001b[36m(ClientAppActor pid=9048)\u001b[0m Epoch 3: train loss 0.10764888674020767, accuracy 0.3\n",
            "\u001b[36m(ClientAppActor pid=9048)\u001b[0m [Client 364, round 3] fit, config: {'server_round': 3, 'local_epochs': 3}\n",
            "\u001b[36m(ClientAppActor pid=9048)\u001b[0m Epoch 1: train loss 0.11311166733503342, accuracy 0.1\n",
            "\u001b[36m(ClientAppActor pid=9048)\u001b[0m Epoch 2: train loss 0.11141077429056168, accuracy 0.275\n",
            "\u001b[36m(ClientAppActor pid=9048)\u001b[0m Epoch 3: train loss 0.10541204363107681, accuracy 0.225\n",
            "\u001b[36m(ClientAppActor pid=9048)\u001b[0m [Client 146, round 3] fit, config: {'server_round': 3, 'local_epochs': 3}\n",
            "\u001b[36m(ClientAppActor pid=9048)\u001b[0m Epoch 1: train loss 0.11501967161893845, accuracy 0.125\n",
            "\u001b[36m(ClientAppActor pid=9048)\u001b[0m Epoch 2: train loss 0.11200113594532013, accuracy 0.175\n",
            "\u001b[36m(ClientAppActor pid=9048)\u001b[0m Epoch 3: train loss 0.11110144108533859, accuracy 0.275\n",
            "\u001b[36m(ClientAppActor pid=9048)\u001b[0m [Client 490, round 3] fit, config: {'server_round': 3, 'local_epochs': 3}\n",
            "\u001b[36m(ClientAppActor pid=9048)\u001b[0m Epoch 1: train loss 0.11552601307630539, accuracy 0.05\n",
            "\u001b[36m(ClientAppActor pid=9048)\u001b[0m Epoch 2: train loss 0.11404426395893097, accuracy 0.175\n",
            "\u001b[36m(ClientAppActor pid=9048)\u001b[0m Epoch 3: train loss 0.11256473511457443, accuracy 0.25\n",
            "\u001b[36m(ClientAppActor pid=9048)\u001b[0m [Client 309, round 3] fit, config: {'server_round': 3, 'local_epochs': 3}\n",
            "\u001b[36m(ClientAppActor pid=9048)\u001b[0m Epoch 1: train loss 0.1122724637389183, accuracy 0.15\n",
            "\u001b[36m(ClientAppActor pid=9048)\u001b[0m Epoch 2: train loss 0.10981976985931396, accuracy 0.175\n",
            "\u001b[36m(ClientAppActor pid=9048)\u001b[0m Epoch 3: train loss 0.10763745754957199, accuracy 0.2\n",
            "\u001b[36m(ClientAppActor pid=9048)\u001b[0m [Client 464, round 3] fit, config: {'server_round': 3, 'local_epochs': 3}\n",
            "\u001b[36m(ClientAppActor pid=9048)\u001b[0m Epoch 1: train loss 0.11512144654989243, accuracy 0.075\n",
            "\u001b[36m(ClientAppActor pid=9048)\u001b[0m Epoch 2: train loss 0.11297931522130966, accuracy 0.25\n",
            "\u001b[36m(ClientAppActor pid=9048)\u001b[0m Epoch 3: train loss 0.11127903312444687, accuracy 0.225\n",
            "\u001b[36m(ClientAppActor pid=9048)\u001b[0m [Client 0, round 3] fit, config: {'server_round': 3, 'local_epochs': 3}\n",
            "\u001b[36m(ClientAppActor pid=9048)\u001b[0m Epoch 1: train loss 0.11487765610218048, accuracy 0.05\n",
            "\u001b[36m(ClientAppActor pid=9048)\u001b[0m Epoch 2: train loss 0.11403071880340576, accuracy 0.15\n",
            "\u001b[36m(ClientAppActor pid=9048)\u001b[0m Epoch 3: train loss 0.11265959590673447, accuracy 0.175\n",
            "\u001b[36m(ClientAppActor pid=9048)\u001b[0m [Client 642, round 3] fit, config: {'server_round': 3, 'local_epochs': 3}\n",
            "\u001b[36m(ClientAppActor pid=9048)\u001b[0m Epoch 1: train loss 0.11406335979700089, accuracy 0.1\n",
            "\u001b[36m(ClientAppActor pid=9048)\u001b[0m Epoch 2: train loss 0.11032970994710922, accuracy 0.2\n",
            "\u001b[36m(ClientAppActor pid=9048)\u001b[0m Epoch 3: train loss 0.10945487022399902, accuracy 0.25\n",
            "\u001b[36m(ClientAppActor pid=9048)\u001b[0m [Client 478, round 3] fit, config: {'server_round': 3, 'local_epochs': 3}\n",
            "\u001b[36m(ClientAppActor pid=9048)\u001b[0m Epoch 1: train loss 0.11398699134588242, accuracy 0.1\n",
            "\u001b[36m(ClientAppActor pid=9048)\u001b[0m Epoch 2: train loss 0.11324820667505264, accuracy 0.225\n",
            "\u001b[36m(ClientAppActor pid=9048)\u001b[0m Epoch 3: train loss 0.10937333106994629, accuracy 0.225\n",
            "\u001b[36m(ClientAppActor pid=9048)\u001b[0m [Client 219, round 3] fit, config: {'server_round': 3, 'local_epochs': 3}\n",
            "\u001b[36m(ClientAppActor pid=9048)\u001b[0m Epoch 1: train loss 0.11399579048156738, accuracy 0.15\n",
            "\u001b[36m(ClientAppActor pid=9048)\u001b[0m Epoch 2: train loss 0.11101317405700684, accuracy 0.175\n",
            "\u001b[36m(ClientAppActor pid=9048)\u001b[0m Epoch 3: train loss 0.11026797443628311, accuracy 0.3\n",
            "\u001b[36m(ClientAppActor pid=9048)\u001b[0m [Client 352, round 3] fit, config: {'server_round': 3, 'local_epochs': 3}\n",
            "\u001b[36m(ClientAppActor pid=9048)\u001b[0m Epoch 1: train loss 0.1158374771475792, accuracy 0.05\n",
            "\u001b[36m(ClientAppActor pid=9048)\u001b[0m Epoch 2: train loss 0.11341410130262375, accuracy 0.175\n",
            "\u001b[36m(ClientAppActor pid=9048)\u001b[0m Epoch 3: train loss 0.11138284206390381, accuracy 0.2\n",
            "\u001b[36m(ClientAppActor pid=9048)\u001b[0m [Client 63, round 3] fit, config: {'server_round': 3, 'local_epochs': 3}\n",
            "\u001b[36m(ClientAppActor pid=9048)\u001b[0m Epoch 1: train loss 0.1133803129196167, accuracy 0.15\n",
            "\u001b[36m(ClientAppActor pid=9048)\u001b[0m Epoch 2: train loss 0.11112319678068161, accuracy 0.15\n",
            "\u001b[36m(ClientAppActor pid=9048)\u001b[0m Epoch 3: train loss 0.1076321005821228, accuracy 0.225\n",
            "\u001b[36m(ClientAppActor pid=9048)\u001b[0m [Client 874, round 3] fit, config: {'server_round': 3, 'local_epochs': 3}\n",
            "\u001b[36m(ClientAppActor pid=9048)\u001b[0m Epoch 1: train loss 0.11464512348175049, accuracy 0.075\n",
            "\u001b[36m(ClientAppActor pid=9048)\u001b[0m Epoch 2: train loss 0.11304819583892822, accuracy 0.25\n",
            "\u001b[36m(ClientAppActor pid=9048)\u001b[0m Epoch 3: train loss 0.10893577337265015, accuracy 0.475\n"
          ]
        },
        {
          "output_type": "stream",
          "name": "stderr",
          "text": [
            "\u001b[92mINFO \u001b[0m:      aggregate_fit: received 25 results and 0 failures\n",
            "\u001b[92mINFO \u001b[0m:      configure_evaluate: strategy sampled 50 clients (out of 1000)\n"
          ]
        },
        {
          "output_type": "stream",
          "name": "stdout",
          "text": [
            "\u001b[36m(ClientAppActor pid=9048)\u001b[0m [Client 633, round 3] fit, config: {'server_round': 3, 'local_epochs': 3}\n",
            "\u001b[36m(ClientAppActor pid=9048)\u001b[0m Epoch 1: train loss 0.11572638899087906, accuracy 0.1\n",
            "\u001b[36m(ClientAppActor pid=9048)\u001b[0m Epoch 2: train loss 0.1115238219499588, accuracy 0.175\n",
            "\u001b[36m(ClientAppActor pid=9048)\u001b[0m Epoch 3: train loss 0.11029378324747086, accuracy 0.275\n",
            "\u001b[36m(ClientAppActor pid=9048)\u001b[0m [Client 92] evaluate, config: {}\n",
            "\u001b[36m(ClientAppActor pid=9048)\u001b[0m [Client 167] evaluate, config: {}\n",
            "\u001b[36m(ClientAppActor pid=9048)\u001b[0m [Client 341] evaluate, config: {}\n",
            "\u001b[36m(ClientAppActor pid=9048)\u001b[0m [Client 616] evaluate, config: {}\n",
            "\u001b[36m(ClientAppActor pid=9048)\u001b[0m [Client 866] evaluate, config: {}\n",
            "\u001b[36m(ClientAppActor pid=9048)\u001b[0m [Client 985] evaluate, config: {}\n",
            "\u001b[36m(ClientAppActor pid=9048)\u001b[0m [Client 266] evaluate, config: {}\n",
            "\u001b[36m(ClientAppActor pid=9048)\u001b[0m [Client 426] evaluate, config: {}\n",
            "\u001b[36m(ClientAppActor pid=9048)\u001b[0m [Client 38] evaluate, config: {}\n",
            "\u001b[36m(ClientAppActor pid=9048)\u001b[0m [Client 24] evaluate, config: {}\n",
            "\u001b[36m(ClientAppActor pid=9048)\u001b[0m [Client 110] evaluate, config: {}\n",
            "\u001b[36m(ClientAppActor pid=9048)\u001b[0m [Client 225] evaluate, config: {}\n",
            "\u001b[36m(ClientAppActor pid=9048)\u001b[0m [Client 340] evaluate, config: {}\n",
            "\u001b[36m(ClientAppActor pid=9048)\u001b[0m [Client 169] evaluate, config: {}\n",
            "\u001b[36m(ClientAppActor pid=9048)\u001b[0m [Client 191] evaluate, config: {}\n",
            "\u001b[36m(ClientAppActor pid=9048)\u001b[0m [Client 439] evaluate, config: {}\n",
            "\u001b[36m(ClientAppActor pid=9048)\u001b[0m [Client 756] evaluate, config: {}\n",
            "\u001b[36m(ClientAppActor pid=9048)\u001b[0m [Client 462] evaluate, config: {}\n",
            "\u001b[36m(ClientAppActor pid=9048)\u001b[0m [Client 417] evaluate, config: {}\n",
            "\u001b[36m(ClientAppActor pid=9048)\u001b[0m [Client 55] evaluate, config: {}\n",
            "\u001b[36m(ClientAppActor pid=9048)\u001b[0m [Client 34] evaluate, config: {}\n",
            "\u001b[36m(ClientAppActor pid=9048)\u001b[0m [Client 338] evaluate, config: {}\n",
            "\u001b[36m(ClientAppActor pid=9048)\u001b[0m [Client 202] evaluate, config: {}\n",
            "\u001b[36m(ClientAppActor pid=9048)\u001b[0m [Client 327] evaluate, config: {}\n",
            "\u001b[36m(ClientAppActor pid=9048)\u001b[0m [Client 944] evaluate, config: {}\n",
            "\u001b[36m(ClientAppActor pid=9048)\u001b[0m [Client 988] evaluate, config: {}\n",
            "\u001b[36m(ClientAppActor pid=9048)\u001b[0m [Client 246] evaluate, config: {}\n",
            "\u001b[36m(ClientAppActor pid=9048)\u001b[0m [Client 689] evaluate, config: {}\n",
            "\u001b[36m(ClientAppActor pid=9048)\u001b[0m [Client 470] evaluate, config: {}\n",
            "\u001b[36m(ClientAppActor pid=9048)\u001b[0m [Client 106] evaluate, config: {}\n",
            "\u001b[36m(ClientAppActor pid=9048)\u001b[0m [Client 445] evaluate, config: {}\n",
            "\u001b[36m(ClientAppActor pid=9048)\u001b[0m [Client 83] evaluate, config: {}\n",
            "\u001b[36m(ClientAppActor pid=9048)\u001b[0m [Client 498] evaluate, config: {}\n",
            "\u001b[36m(ClientAppActor pid=9048)\u001b[0m [Client 397] evaluate, config: {}\n",
            "\u001b[36m(ClientAppActor pid=9048)\u001b[0m [Client 406] evaluate, config: {}\n",
            "\u001b[36m(ClientAppActor pid=9048)\u001b[0m [Client 129] evaluate, config: {}\n",
            "\u001b[36m(ClientAppActor pid=9048)\u001b[0m [Client 959] evaluate, config: {}\n",
            "\u001b[36m(ClientAppActor pid=9048)\u001b[0m [Client 264] evaluate, config: {}\n",
            "\u001b[36m(ClientAppActor pid=9048)\u001b[0m [Client 179] evaluate, config: {}\n",
            "\u001b[36m(ClientAppActor pid=9048)\u001b[0m [Client 839] evaluate, config: {}\n",
            "\u001b[36m(ClientAppActor pid=9048)\u001b[0m [Client 694] evaluate, config: {}\n",
            "\u001b[36m(ClientAppActor pid=9048)\u001b[0m [Client 111] evaluate, config: {}\n",
            "\u001b[36m(ClientAppActor pid=9048)\u001b[0m [Client 50] evaluate, config: {}\n",
            "\u001b[36m(ClientAppActor pid=9048)\u001b[0m [Client 121] evaluate, config: {}\n",
            "\u001b[36m(ClientAppActor pid=9048)\u001b[0m [Client 968] evaluate, config: {}\n",
            "\u001b[36m(ClientAppActor pid=9048)\u001b[0m [Client 293] evaluate, config: {}\n",
            "\u001b[36m(ClientAppActor pid=9048)\u001b[0m [Client 88] evaluate, config: {}\n",
            "\u001b[36m(ClientAppActor pid=9048)\u001b[0m [Client 531] evaluate, config: {}\n",
            "\u001b[36m(ClientAppActor pid=9048)\u001b[0m [Client 809] evaluate, config: {}\n"
          ]
        },
        {
          "output_type": "stream",
          "name": "stderr",
          "text": [
            "\u001b[92mINFO \u001b[0m:      aggregate_evaluate: received 50 results and 0 failures\n",
            "\u001b[92mINFO \u001b[0m:      \n",
            "\u001b[92mINFO \u001b[0m:      [SUMMARY]\n",
            "\u001b[92mINFO \u001b[0m:      Run finished 3 round(s) in 1134.62s\n",
            "\u001b[92mINFO \u001b[0m:      \tHistory (loss, distributed):\n",
            "\u001b[92mINFO \u001b[0m:      \t\tround 1: 0.22963387870788574\n",
            "\u001b[92mINFO \u001b[0m:      \t\tround 2: 0.22858363437652585\n",
            "\u001b[92mINFO \u001b[0m:      \t\tround 3: 0.22559631681442266\n",
            "\u001b[92mINFO \u001b[0m:      \n"
          ]
        },
        {
          "output_type": "stream",
          "name": "stdout",
          "text": [
            "\u001b[36m(ClientAppActor pid=9048)\u001b[0m [Client 543] evaluate, config: {}\n"
          ]
        }
      ],
      "source": [
        "def fit_config(server_round: int):\n",
        "    config = {\n",
        "        \"server_round\": server_round,\n",
        "        \"local_epochs\": 3,\n",
        "    }\n",
        "    return config\n",
        "\n",
        "\n",
        "def server_fn(context: Context) -> ServerAppComponents:\n",
        "    # Create FedAvg strategy\n",
        "    strategy = FedAvg(\n",
        "        fraction_fit=0.025,  # Train on 25 clients (each round)\n",
        "        fraction_evaluate=0.05,  # Evaluate on 50 clients (each round)\n",
        "        min_fit_clients=20,\n",
        "        min_evaluate_clients=40,\n",
        "        min_available_clients=NUM_PARTITIONS,\n",
        "        initial_parameters=ndarrays_to_parameters(params),\n",
        "        on_fit_config_fn=fit_config,\n",
        "    )\n",
        "    config = ServerConfig(num_rounds=3)\n",
        "    return ServerAppComponents(strategy=strategy, config=config)\n",
        "\n",
        "\n",
        "# Create the ServerApp\n",
        "server = ServerApp(server_fn=server_fn)\n",
        "\n",
        "# Run simulation\n",
        "run_simulation(\n",
        "    server_app=server,\n",
        "    client_app=client,\n",
        "    num_supernodes=NUM_PARTITIONS,\n",
        "    backend_config=backend_config,\n",
        ")"
      ]
    },
    {
      "cell_type": "markdown",
      "metadata": {
        "id": "SUfSFbNR0TZM"
      },
      "source": [
        "## Recap\n",
        "\n",
        "In this notebook, we've seen how we can gradually enhance our system by customizing the strategy, initializing parameters on the server side, choosing a different strategy, and evaluating models on the server-side. That's quite a bit of flexibility with so little code, right?\n",
        "\n",
        "In the later sections, we've seen how we can communicate arbitrary values between server and clients to fully customize client-side execution. With that capability, we built a large-scale Federated Learning simulation using the Flower Virtual Client Engine and ran an experiment involving 1000 clients in the same workload - all in a Jupyter Notebook!"
      ]
    },
    {
      "cell_type": "markdown",
      "metadata": {
        "id": "MhJb9xo-0TZN"
      },
      "source": [
        "## Next steps\n",
        "\n",
        "Before you continue, make sure to join the Flower community on Flower Discuss ([Join Flower Discuss](https://discuss.flower.ai)) and on Slack ([Join Slack](https://flower.ai/join-slack/)).\n",
        "\n",
        "There's a dedicated `#questions` channel if you need help, but we'd also love to hear who you are in `#introductions`!\n",
        "\n",
        "The [Flower Federated Learning Tutorial - Part 3](https://flower.ai/docs/framework/tutorial-build-a-strategy-from-scratch-pytorch.html) shows how to build a fully custom `Strategy` from scratch."
      ]
    },
    {
      "cell_type": "code",
      "execution_count": 23,
      "metadata": {
        "colab": {
          "base_uri": "https://localhost:8080/"
        },
        "id": "5RuTeqWw0TYJ",
        "outputId": "36b0b62d-74c0-4675-cbf9-b62a4b9c91eb"
      },
      "outputs": [
        {
          "output_type": "stream",
          "name": "stderr",
          "text": [
            "\u001b[92mINFO \u001b[0m:      Starting Flower ServerApp, config: num_rounds=3, no round_timeout\n",
            "\u001b[92mINFO \u001b[0m:      \n",
            "\u001b[92mINFO \u001b[0m:      [INIT]\n",
            "\u001b[92mINFO \u001b[0m:      Using initial global parameters provided by strategy\n",
            "\u001b[92mINFO \u001b[0m:      Starting evaluation of initial global parameters\n",
            "\u001b[92mINFO \u001b[0m:      Evaluation returned no results (`None`)\n",
            "\u001b[92mINFO \u001b[0m:      \n",
            "\u001b[92mINFO \u001b[0m:      [ROUND 1]\n",
            "\u001b[92mINFO \u001b[0m:      configure_fit: strategy sampled 25 clients (out of 1000)\n",
            "\u001b[36m(pid=15778)\u001b[0m 2025-01-21 08:35:56.082452: E external/local_xla/xla/stream_executor/cuda/cuda_fft.cc:485] Unable to register cuFFT factory: Attempting to register factory for plugin cuFFT when one has already been registered\n",
            "\u001b[36m(pid=15778)\u001b[0m 2025-01-21 08:35:56.102290: E external/local_xla/xla/stream_executor/cuda/cuda_dnn.cc:8454] Unable to register cuDNN factory: Attempting to register factory for plugin cuDNN when one has already been registered\n",
            "\u001b[36m(pid=15778)\u001b[0m 2025-01-21 08:35:56.112579: E external/local_xla/xla/stream_executor/cuda/cuda_blas.cc:1452] Unable to register cuBLAS factory: Attempting to register factory for plugin cuBLAS when one has already been registered\n",
            "\u001b[36m(pid=15778)\u001b[0m 2025-01-21 08:35:57.372493: W tensorflow/compiler/tf2tensorrt/utils/py_utils.cc:38] TF-TRT Warning: Could not find TensorRT\n",
            "\u001b[36m(ClientAppActor pid=15778)\u001b[0m /usr/local/lib/python3.11/dist-packages/jupyter_client/connect.py:28: DeprecationWarning: Jupyter is migrating its paths to use standard platformdirs\n",
            "\u001b[36m(ClientAppActor pid=15778)\u001b[0m given by the platformdirs library.  To remove this warning and\n",
            "\u001b[36m(ClientAppActor pid=15778)\u001b[0m see the appropriate new directories, set the environment variable\n",
            "\u001b[36m(ClientAppActor pid=15778)\u001b[0m `JUPYTER_PLATFORM_DIRS=1` and then run `jupyter --paths`.\n",
            "\u001b[36m(ClientAppActor pid=15778)\u001b[0m The use of platformdirs will be the default in `jupyter_core` v6\n",
            "\u001b[36m(ClientAppActor pid=15778)\u001b[0m   from jupyter_core.paths import jupyter_data_dir, jupyter_runtime_dir, secure_write\n"
          ]
        },
        {
          "output_type": "stream",
          "name": "stdout",
          "text": [
            "\u001b[36m(ClientAppActor pid=15778)\u001b[0m [Client 285, round 1] fit, config: {'server_round': 1, 'local_epochs': 3}\n",
            "\u001b[36m(ClientAppActor pid=15778)\u001b[0m Epoch 1: train loss 0.115158312022686, accuracy 0.025\n",
            "\u001b[36m(ClientAppActor pid=15778)\u001b[0m Epoch 2: train loss 0.11396624892950058, accuracy 0.175\n",
            "\u001b[36m(ClientAppActor pid=15778)\u001b[0m Epoch 3: train loss 0.1135617271065712, accuracy 0.15\n",
            "\u001b[36m(ClientAppActor pid=15778)\u001b[0m [Client 498, round 1] fit, config: {'server_round': 1, 'local_epochs': 3}\n",
            "\u001b[36m(ClientAppActor pid=15778)\u001b[0m Epoch 1: train loss 0.115766242146492, accuracy 0.025\n",
            "\u001b[36m(ClientAppActor pid=15778)\u001b[0m Epoch 2: train loss 0.11441149562597275, accuracy 0.05\n",
            "\u001b[36m(ClientAppActor pid=15778)\u001b[0m Epoch 3: train loss 0.11389360576868057, accuracy 0.2\n",
            "\u001b[36m(ClientAppActor pid=15778)\u001b[0m [Client 500, round 1] fit, config: {'server_round': 1, 'local_epochs': 3}\n",
            "\u001b[36m(ClientAppActor pid=15778)\u001b[0m Epoch 1: train loss 0.11511470377445221, accuracy 0.1\n",
            "\u001b[36m(ClientAppActor pid=15778)\u001b[0m Epoch 2: train loss 0.11390824615955353, accuracy 0.1\n",
            "\u001b[36m(ClientAppActor pid=15778)\u001b[0m Epoch 3: train loss 0.1132168099284172, accuracy 0.1\n",
            "\u001b[36m(ClientAppActor pid=15778)\u001b[0m [Client 774, round 1] fit, config: {'server_round': 1, 'local_epochs': 3}\n",
            "\u001b[36m(ClientAppActor pid=15778)\u001b[0m Epoch 1: train loss 0.1153462752699852, accuracy 0.1\n",
            "\u001b[36m(ClientAppActor pid=15778)\u001b[0m Epoch 2: train loss 0.11392183601856232, accuracy 0.1\n",
            "\u001b[36m(ClientAppActor pid=15778)\u001b[0m Epoch 3: train loss 0.1125345230102539, accuracy 0.1\n",
            "\u001b[36m(ClientAppActor pid=15778)\u001b[0m [Client 840, round 1] fit, config: {'server_round': 1, 'local_epochs': 3}\n",
            "\u001b[36m(ClientAppActor pid=15778)\u001b[0m Epoch 1: train loss 0.1150980219244957, accuracy 0.15\n",
            "\u001b[36m(ClientAppActor pid=15778)\u001b[0m Epoch 2: train loss 0.11407041549682617, accuracy 0.15\n",
            "\u001b[36m(ClientAppActor pid=15778)\u001b[0m Epoch 3: train loss 0.11182456463575363, accuracy 0.175\n",
            "\u001b[36m(ClientAppActor pid=15778)\u001b[0m [Client 973, round 1] fit, config: {'server_round': 1, 'local_epochs': 3}\n",
            "\u001b[36m(ClientAppActor pid=15778)\u001b[0m Epoch 1: train loss 0.11392056941986084, accuracy 0.2\n",
            "\u001b[36m(ClientAppActor pid=15778)\u001b[0m Epoch 2: train loss 0.11276517063379288, accuracy 0.2\n",
            "\u001b[36m(ClientAppActor pid=15778)\u001b[0m Epoch 3: train loss 0.10986757278442383, accuracy 0.2\n",
            "\u001b[36m(ClientAppActor pid=15778)\u001b[0m [Client 15, round 1] fit, config: {'server_round': 1, 'local_epochs': 3}\n",
            "\u001b[36m(ClientAppActor pid=15778)\u001b[0m Epoch 1: train loss 0.11542981117963791, accuracy 0.075\n",
            "\u001b[36m(ClientAppActor pid=15778)\u001b[0m Epoch 2: train loss 0.11479375511407852, accuracy 0.075\n",
            "\u001b[36m(ClientAppActor pid=15778)\u001b[0m Epoch 3: train loss 0.11330495029687881, accuracy 0.125\n",
            "\u001b[36m(ClientAppActor pid=15778)\u001b[0m [Client 393, round 1] fit, config: {'server_round': 1, 'local_epochs': 3}\n",
            "\u001b[36m(ClientAppActor pid=15778)\u001b[0m Epoch 1: train loss 0.11557934433221817, accuracy 0.05\n",
            "\u001b[36m(ClientAppActor pid=15778)\u001b[0m Epoch 2: train loss 0.11414416134357452, accuracy 0.075\n",
            "\u001b[36m(ClientAppActor pid=15778)\u001b[0m Epoch 3: train loss 0.11307952553033829, accuracy 0.325\n",
            "\u001b[36m(ClientAppActor pid=15778)\u001b[0m [Client 404, round 1] fit, config: {'server_round': 1, 'local_epochs': 3}\n",
            "\u001b[36m(ClientAppActor pid=15778)\u001b[0m Epoch 1: train loss 0.11549916118383408, accuracy 0.075\n",
            "\u001b[36m(ClientAppActor pid=15778)\u001b[0m Epoch 2: train loss 0.11450403183698654, accuracy 0.1\n",
            "\u001b[36m(ClientAppActor pid=15778)\u001b[0m Epoch 3: train loss 0.11389262974262238, accuracy 0.2\n",
            "\u001b[36m(ClientAppActor pid=15778)\u001b[0m [Client 646, round 1] fit, config: {'server_round': 1, 'local_epochs': 3}\n",
            "\u001b[36m(ClientAppActor pid=15778)\u001b[0m Epoch 1: train loss 0.11452613025903702, accuracy 0.075\n",
            "\u001b[36m(ClientAppActor pid=15778)\u001b[0m Epoch 2: train loss 0.11379194259643555, accuracy 0.15\n",
            "\u001b[36m(ClientAppActor pid=15778)\u001b[0m Epoch 3: train loss 0.11300399154424667, accuracy 0.175\n",
            "\u001b[36m(ClientAppActor pid=15778)\u001b[0m [Client 531, round 1] fit, config: {'server_round': 1, 'local_epochs': 3}\n",
            "\u001b[36m(ClientAppActor pid=15778)\u001b[0m Epoch 1: train loss 0.11490142345428467, accuracy 0.15\n",
            "\u001b[36m(ClientAppActor pid=15778)\u001b[0m Epoch 2: train loss 0.11311576515436172, accuracy 0.15\n",
            "\u001b[36m(ClientAppActor pid=15778)\u001b[0m Epoch 3: train loss 0.11235865205526352, accuracy 0.275\n",
            "\u001b[36m(ClientAppActor pid=15778)\u001b[0m [Client 253, round 1] fit, config: {'server_round': 1, 'local_epochs': 3}\n",
            "\u001b[36m(ClientAppActor pid=15778)\u001b[0m Epoch 1: train loss 0.11579940468072891, accuracy 0.075\n",
            "\u001b[36m(ClientAppActor pid=15778)\u001b[0m Epoch 2: train loss 0.11393757164478302, accuracy 0.175\n",
            "\u001b[36m(ClientAppActor pid=15778)\u001b[0m Epoch 3: train loss 0.11335992068052292, accuracy 0.225\n",
            "\u001b[36m(ClientAppActor pid=15778)\u001b[0m [Client 591, round 1] fit, config: {'server_round': 1, 'local_epochs': 3}\n",
            "\u001b[36m(ClientAppActor pid=15778)\u001b[0m Epoch 1: train loss 0.11547382920980453, accuracy 0.1\n",
            "\u001b[36m(ClientAppActor pid=15778)\u001b[0m Epoch 2: train loss 0.11370010673999786, accuracy 0.1\n",
            "\u001b[36m(ClientAppActor pid=15778)\u001b[0m Epoch 3: train loss 0.11417980492115021, accuracy 0.1\n",
            "\u001b[36m(ClientAppActor pid=15778)\u001b[0m [Client 418, round 1] fit, config: {'server_round': 1, 'local_epochs': 3}\n",
            "\u001b[36m(ClientAppActor pid=15778)\u001b[0m Epoch 1: train loss 0.11496765911579132, accuracy 0.1\n",
            "\u001b[36m(ClientAppActor pid=15778)\u001b[0m Epoch 2: train loss 0.11400921642780304, accuracy 0.1\n",
            "\u001b[36m(ClientAppActor pid=15778)\u001b[0m Epoch 3: train loss 0.11411440372467041, accuracy 0.1\n",
            "\u001b[36m(ClientAppActor pid=15778)\u001b[0m [Client 666, round 1] fit, config: {'server_round': 1, 'local_epochs': 3}\n",
            "\u001b[36m(ClientAppActor pid=15778)\u001b[0m Epoch 1: train loss 0.1145995482802391, accuracy 0.125\n",
            "\u001b[36m(ClientAppActor pid=15778)\u001b[0m Epoch 2: train loss 0.11349792778491974, accuracy 0.125\n",
            "\u001b[36m(ClientAppActor pid=15778)\u001b[0m Epoch 3: train loss 0.11323924362659454, accuracy 0.2\n",
            "\u001b[36m(ClientAppActor pid=15778)\u001b[0m [Client 652, round 1] fit, config: {'server_round': 1, 'local_epochs': 3}\n",
            "\u001b[36m(ClientAppActor pid=15778)\u001b[0m Epoch 1: train loss 0.11533854156732559, accuracy 0.1\n",
            "\u001b[36m(ClientAppActor pid=15778)\u001b[0m Epoch 2: train loss 0.11370449513196945, accuracy 0.1\n",
            "\u001b[36m(ClientAppActor pid=15778)\u001b[0m Epoch 3: train loss 0.11341147869825363, accuracy 0.325\n",
            "\u001b[36m(ClientAppActor pid=15778)\u001b[0m [Client 318, round 1] fit, config: {'server_round': 1, 'local_epochs': 3}\n",
            "\u001b[36m(ClientAppActor pid=15778)\u001b[0m Epoch 1: train loss 0.1155209168791771, accuracy 0.075\n",
            "\u001b[36m(ClientAppActor pid=15778)\u001b[0m Epoch 2: train loss 0.11403539031744003, accuracy 0.075\n",
            "\u001b[36m(ClientAppActor pid=15778)\u001b[0m Epoch 3: train loss 0.11236703395843506, accuracy 0.3\n",
            "\u001b[36m(ClientAppActor pid=15778)\u001b[0m [Client 408, round 1] fit, config: {'server_round': 1, 'local_epochs': 3}\n",
            "\u001b[36m(ClientAppActor pid=15778)\u001b[0m Epoch 1: train loss 0.11563744395971298, accuracy 0.125\n",
            "\u001b[36m(ClientAppActor pid=15778)\u001b[0m Epoch 2: train loss 0.11348827183246613, accuracy 0.125\n",
            "\u001b[36m(ClientAppActor pid=15778)\u001b[0m Epoch 3: train loss 0.11380030959844589, accuracy 0.125\n",
            "\u001b[36m(ClientAppActor pid=15778)\u001b[0m [Client 680, round 1] fit, config: {'server_round': 1, 'local_epochs': 3}\n",
            "\u001b[36m(ClientAppActor pid=15778)\u001b[0m Epoch 1: train loss 0.11463141441345215, accuracy 0.125\n",
            "\u001b[36m(ClientAppActor pid=15778)\u001b[0m Epoch 2: train loss 0.11441546678543091, accuracy 0.125\n",
            "\u001b[36m(ClientAppActor pid=15778)\u001b[0m Epoch 3: train loss 0.11266782134771347, accuracy 0.3\n",
            "\u001b[36m(ClientAppActor pid=15778)\u001b[0m [Client 150, round 1] fit, config: {'server_round': 1, 'local_epochs': 3}\n",
            "\u001b[36m(ClientAppActor pid=15778)\u001b[0m Epoch 1: train loss 0.11556756496429443, accuracy 0.025\n",
            "\u001b[36m(ClientAppActor pid=15778)\u001b[0m Epoch 2: train loss 0.11467375606298447, accuracy 0.125\n",
            "\u001b[36m(ClientAppActor pid=15778)\u001b[0m Epoch 3: train loss 0.11396481841802597, accuracy 0.15\n",
            "\u001b[36m(ClientAppActor pid=15778)\u001b[0m [Client 930, round 1] fit, config: {'server_round': 1, 'local_epochs': 3}\n",
            "\u001b[36m(ClientAppActor pid=15778)\u001b[0m Epoch 1: train loss 0.1144871711730957, accuracy 0.125\n",
            "\u001b[36m(ClientAppActor pid=15778)\u001b[0m Epoch 2: train loss 0.11372717469930649, accuracy 0.15\n",
            "\u001b[36m(ClientAppActor pid=15778)\u001b[0m Epoch 3: train loss 0.11268208175897598, accuracy 0.275\n",
            "\u001b[36m(ClientAppActor pid=15778)\u001b[0m [Client 920, round 1] fit, config: {'server_round': 1, 'local_epochs': 3}\n",
            "\u001b[36m(ClientAppActor pid=15778)\u001b[0m Epoch 1: train loss 0.11557860672473907, accuracy 0.025\n",
            "\u001b[36m(ClientAppActor pid=15778)\u001b[0m Epoch 2: train loss 0.11512943357229233, accuracy 0.1\n",
            "\u001b[36m(ClientAppActor pid=15778)\u001b[0m Epoch 3: train loss 0.1129460260272026, accuracy 0.25\n",
            "\u001b[36m(ClientAppActor pid=15778)\u001b[0m [Client 574, round 1] fit, config: {'server_round': 1, 'local_epochs': 3}\n",
            "\u001b[36m(ClientAppActor pid=15778)\u001b[0m Epoch 1: train loss 0.11609616130590439, accuracy 0.025\n",
            "\u001b[36m(ClientAppActor pid=15778)\u001b[0m Epoch 2: train loss 0.11555619537830353, accuracy 0.025\n",
            "\u001b[36m(ClientAppActor pid=15778)\u001b[0m Epoch 3: train loss 0.11501150578260422, accuracy 0.1\n",
            "\u001b[36m(ClientAppActor pid=15778)\u001b[0m [Client 243, round 1] fit, config: {'server_round': 1, 'local_epochs': 3}\n",
            "\u001b[36m(ClientAppActor pid=15778)\u001b[0m Epoch 1: train loss 0.11321878433227539, accuracy 0.175\n",
            "\u001b[36m(ClientAppActor pid=15778)\u001b[0m Epoch 2: train loss 0.11484704166650772, accuracy 0.175\n",
            "\u001b[36m(ClientAppActor pid=15778)\u001b[0m Epoch 3: train loss 0.11261703819036484, accuracy 0.175\n"
          ]
        },
        {
          "output_type": "stream",
          "name": "stderr",
          "text": [
            "\u001b[92mINFO \u001b[0m:      aggregate_fit: received 25 results and 0 failures\n",
            "\u001b[93mWARNING \u001b[0m:   No fit_metrics_aggregation_fn provided\n",
            "\u001b[92mINFO \u001b[0m:      configure_evaluate: strategy sampled 50 clients (out of 1000)\n"
          ]
        },
        {
          "output_type": "stream",
          "name": "stdout",
          "text": [
            "\u001b[36m(ClientAppActor pid=15778)\u001b[0m [Client 901, round 1] fit, config: {'server_round': 1, 'local_epochs': 3}\n",
            "\u001b[36m(ClientAppActor pid=15778)\u001b[0m Epoch 1: train loss 0.1155947670340538, accuracy 0.1\n",
            "\u001b[36m(ClientAppActor pid=15778)\u001b[0m Epoch 2: train loss 0.11471480131149292, accuracy 0.1\n",
            "\u001b[36m(ClientAppActor pid=15778)\u001b[0m Epoch 3: train loss 0.11364848911762238, accuracy 0.1\n",
            "\u001b[36m(ClientAppActor pid=15778)\u001b[0m [Client 400] evaluate, config: {}\n",
            "\u001b[36m(ClientAppActor pid=15778)\u001b[0m [Client 513] evaluate, config: {}\n",
            "\u001b[36m(ClientAppActor pid=15778)\u001b[0m [Client 577] evaluate, config: {}\n",
            "\u001b[36m(ClientAppActor pid=15778)\u001b[0m [Client 655] evaluate, config: {}\n",
            "\u001b[36m(ClientAppActor pid=15778)\u001b[0m [Client 682] evaluate, config: {}\n",
            "\u001b[36m(ClientAppActor pid=15778)\u001b[0m [Client 981] evaluate, config: {}\n",
            "\u001b[36m(ClientAppActor pid=15778)\u001b[0m [Client 376] evaluate, config: {}\n",
            "\u001b[36m(ClientAppActor pid=15778)\u001b[0m [Client 372] evaluate, config: {}\n",
            "\u001b[36m(ClientAppActor pid=15778)\u001b[0m [Client 416] evaluate, config: {}\n",
            "\u001b[36m(ClientAppActor pid=15778)\u001b[0m [Client 526] evaluate, config: {}\n",
            "\u001b[36m(ClientAppActor pid=15778)\u001b[0m [Client 791] evaluate, config: {}\n",
            "\u001b[36m(ClientAppActor pid=15778)\u001b[0m [Client 558] evaluate, config: {}\n",
            "\u001b[36m(ClientAppActor pid=15778)\u001b[0m [Client 570] evaluate, config: {}\n",
            "\u001b[36m(ClientAppActor pid=15778)\u001b[0m [Client 788] evaluate, config: {}\n",
            "\u001b[36m(ClientAppActor pid=15778)\u001b[0m [Client 384] evaluate, config: {}\n",
            "\u001b[36m(ClientAppActor pid=15778)\u001b[0m [Client 533] evaluate, config: {}\n",
            "\u001b[36m(ClientAppActor pid=15778)\u001b[0m [Client 135] evaluate, config: {}\n",
            "\u001b[36m(ClientAppActor pid=15778)\u001b[0m [Client 216] evaluate, config: {}\n",
            "\u001b[36m(ClientAppActor pid=15778)\u001b[0m [Client 53] evaluate, config: {}\n",
            "\u001b[36m(ClientAppActor pid=15778)\u001b[0m [Client 72] evaluate, config: {}\n",
            "\u001b[36m(ClientAppActor pid=15778)\u001b[0m [Client 434] evaluate, config: {}\n",
            "\u001b[36m(ClientAppActor pid=15778)\u001b[0m [Client 978] evaluate, config: {}\n",
            "\u001b[36m(ClientAppActor pid=15778)\u001b[0m [Client 875] evaluate, config: {}\n",
            "\u001b[36m(ClientAppActor pid=15778)\u001b[0m [Client 561] evaluate, config: {}\n",
            "\u001b[36m(ClientAppActor pid=15778)\u001b[0m [Client 475] evaluate, config: {}\n",
            "\u001b[36m(ClientAppActor pid=15778)\u001b[0m [Client 890] evaluate, config: {}\n",
            "\u001b[36m(ClientAppActor pid=15778)\u001b[0m [Client 662] evaluate, config: {}\n",
            "\u001b[36m(ClientAppActor pid=15778)\u001b[0m [Client 941] evaluate, config: {}\n",
            "\u001b[36m(ClientAppActor pid=15778)\u001b[0m [Client 22] evaluate, config: {}\n",
            "\u001b[36m(ClientAppActor pid=15778)\u001b[0m [Client 347] evaluate, config: {}\n",
            "\u001b[36m(ClientAppActor pid=15778)\u001b[0m [Client 516] evaluate, config: {}\n",
            "\u001b[36m(ClientAppActor pid=15778)\u001b[0m [Client 161] evaluate, config: {}\n",
            "\u001b[36m(ClientAppActor pid=15778)\u001b[0m [Client 547] evaluate, config: {}\n",
            "\u001b[36m(ClientAppActor pid=15778)\u001b[0m [Client 177] evaluate, config: {}\n",
            "\u001b[36m(ClientAppActor pid=15778)\u001b[0m [Client 678] evaluate, config: {}\n",
            "\u001b[36m(ClientAppActor pid=15778)\u001b[0m [Client 943] evaluate, config: {}\n",
            "\u001b[36m(ClientAppActor pid=15778)\u001b[0m [Client 997] evaluate, config: {}\n",
            "\u001b[36m(ClientAppActor pid=15778)\u001b[0m [Client 89] evaluate, config: {}\n",
            "\u001b[36m(ClientAppActor pid=15778)\u001b[0m [Client 81] evaluate, config: {}\n",
            "\u001b[36m(ClientAppActor pid=15778)\u001b[0m [Client 916] evaluate, config: {}\n",
            "\u001b[36m(ClientAppActor pid=15778)\u001b[0m [Client 880] evaluate, config: {}\n",
            "\u001b[36m(ClientAppActor pid=15778)\u001b[0m [Client 926] evaluate, config: {}\n",
            "\u001b[36m(ClientAppActor pid=15778)\u001b[0m [Client 33] evaluate, config: {}\n",
            "\u001b[36m(ClientAppActor pid=15778)\u001b[0m [Client 773] evaluate, config: {}\n",
            "\u001b[36m(ClientAppActor pid=15778)\u001b[0m [Client 910] evaluate, config: {}\n",
            "\u001b[36m(ClientAppActor pid=15778)\u001b[0m [Client 867] evaluate, config: {}\n",
            "\u001b[36m(ClientAppActor pid=15778)\u001b[0m [Client 559] evaluate, config: {}\n",
            "\u001b[36m(ClientAppActor pid=15778)\u001b[0m [Client 427] evaluate, config: {}\n",
            "\u001b[36m(ClientAppActor pid=15778)\u001b[0m [Client 253] evaluate, config: {}\n"
          ]
        },
        {
          "output_type": "stream",
          "name": "stderr",
          "text": [
            "\u001b[92mINFO \u001b[0m:      aggregate_evaluate: received 50 results and 0 failures\n",
            "\u001b[93mWARNING \u001b[0m:   No evaluate_metrics_aggregation_fn provided\n",
            "\u001b[92mINFO \u001b[0m:      \n",
            "\u001b[92mINFO \u001b[0m:      [ROUND 2]\n",
            "\u001b[92mINFO \u001b[0m:      configure_fit: strategy sampled 25 clients (out of 1000)\n"
          ]
        },
        {
          "output_type": "stream",
          "name": "stdout",
          "text": [
            "\u001b[36m(ClientAppActor pid=15778)\u001b[0m [Client 150] evaluate, config: {}\n",
            "\u001b[36m(ClientAppActor pid=15778)\u001b[0m [Client 78, round 2] fit, config: {'server_round': 2, 'local_epochs': 3}\n",
            "\u001b[36m(ClientAppActor pid=15778)\u001b[0m Epoch 1: train loss 0.11513068526983261, accuracy 0.1\n",
            "\u001b[36m(ClientAppActor pid=15778)\u001b[0m Epoch 2: train loss 0.11291127651929855, accuracy 0.125\n",
            "\u001b[36m(ClientAppActor pid=15778)\u001b[0m Epoch 3: train loss 0.11247352510690689, accuracy 0.2\n",
            "\u001b[36m(ClientAppActor pid=15778)\u001b[0m [Client 171, round 2] fit, config: {'server_round': 2, 'local_epochs': 3}\n",
            "\u001b[36m(ClientAppActor pid=15778)\u001b[0m Epoch 1: train loss 0.11457901448011398, accuracy 0.2\n",
            "\u001b[36m(ClientAppActor pid=15778)\u001b[0m Epoch 2: train loss 0.1128481850028038, accuracy 0.2\n",
            "\u001b[36m(ClientAppActor pid=15778)\u001b[0m Epoch 3: train loss 0.11109552532434464, accuracy 0.2\n",
            "\u001b[36m(ClientAppActor pid=15778)\u001b[0m [Client 575, round 2] fit, config: {'server_round': 2, 'local_epochs': 3}\n",
            "\u001b[36m(ClientAppActor pid=15778)\u001b[0m Epoch 1: train loss 0.1150474101305008, accuracy 0.075\n",
            "\u001b[36m(ClientAppActor pid=15778)\u001b[0m Epoch 2: train loss 0.11378564685583115, accuracy 0.125\n",
            "\u001b[36m(ClientAppActor pid=15778)\u001b[0m Epoch 3: train loss 0.1132044568657875, accuracy 0.325\n",
            "\u001b[36m(ClientAppActor pid=15778)\u001b[0m [Client 713, round 2] fit, config: {'server_round': 2, 'local_epochs': 3}\n",
            "\u001b[36m(ClientAppActor pid=15778)\u001b[0m Epoch 1: train loss 0.11578138172626495, accuracy 0.125\n",
            "\u001b[36m(ClientAppActor pid=15778)\u001b[0m Epoch 2: train loss 0.11469318717718124, accuracy 0.125\n",
            "\u001b[36m(ClientAppActor pid=15778)\u001b[0m Epoch 3: train loss 0.11280067265033722, accuracy 0.325\n",
            "\u001b[36m(ClientAppActor pid=15778)\u001b[0m [Client 833, round 2] fit, config: {'server_round': 2, 'local_epochs': 3}\n",
            "\u001b[36m(ClientAppActor pid=15778)\u001b[0m Epoch 1: train loss 0.11442337185144424, accuracy 0.15\n",
            "\u001b[36m(ClientAppActor pid=15778)\u001b[0m Epoch 2: train loss 0.11280007660388947, accuracy 0.175\n",
            "\u001b[36m(ClientAppActor pid=15778)\u001b[0m Epoch 3: train loss 0.11219904571771622, accuracy 0.3\n",
            "\u001b[36m(ClientAppActor pid=15778)\u001b[0m [Client 985, round 2] fit, config: {'server_round': 2, 'local_epochs': 3}\n",
            "\u001b[36m(ClientAppActor pid=15778)\u001b[0m Epoch 1: train loss 0.11395573616027832, accuracy 0.175\n",
            "\u001b[36m(ClientAppActor pid=15778)\u001b[0m Epoch 2: train loss 0.11169619858264923, accuracy 0.175\n",
            "\u001b[36m(ClientAppActor pid=15778)\u001b[0m Epoch 3: train loss 0.10908923298120499, accuracy 0.175\n",
            "\u001b[36m(ClientAppActor pid=15778)\u001b[0m [Client 427, round 2] fit, config: {'server_round': 2, 'local_epochs': 3}\n",
            "\u001b[36m(ClientAppActor pid=15778)\u001b[0m Epoch 1: train loss 0.11537446826696396, accuracy 0.075\n",
            "\u001b[36m(ClientAppActor pid=15778)\u001b[0m Epoch 2: train loss 0.11379225552082062, accuracy 0.25\n",
            "\u001b[36m(ClientAppActor pid=15778)\u001b[0m Epoch 3: train loss 0.11217289417982101, accuracy 0.25\n",
            "\u001b[36m(ClientAppActor pid=15778)\u001b[0m [Client 625, round 2] fit, config: {'server_round': 2, 'local_epochs': 3}\n",
            "\u001b[36m(ClientAppActor pid=15778)\u001b[0m Epoch 1: train loss 0.11419375985860825, accuracy 0.15\n",
            "\u001b[36m(ClientAppActor pid=15778)\u001b[0m Epoch 2: train loss 0.11243782192468643, accuracy 0.2\n",
            "\u001b[36m(ClientAppActor pid=15778)\u001b[0m Epoch 3: train loss 0.1109829694032669, accuracy 0.3\n",
            "\u001b[36m(ClientAppActor pid=15778)\u001b[0m [Client 672, round 2] fit, config: {'server_round': 2, 'local_epochs': 3}\n",
            "\u001b[36m(ClientAppActor pid=15778)\u001b[0m Epoch 1: train loss 0.11481554806232452, accuracy 0.075\n",
            "\u001b[36m(ClientAppActor pid=15778)\u001b[0m Epoch 2: train loss 0.1139347106218338, accuracy 0.075\n",
            "\u001b[36m(ClientAppActor pid=15778)\u001b[0m Epoch 3: train loss 0.11399000138044357, accuracy 0.125\n",
            "\u001b[36m(ClientAppActor pid=15778)\u001b[0m [Client 939, round 2] fit, config: {'server_round': 2, 'local_epochs': 3}\n",
            "\u001b[36m(ClientAppActor pid=15778)\u001b[0m Epoch 1: train loss 0.11477072536945343, accuracy 0.075\n",
            "\u001b[36m(ClientAppActor pid=15778)\u001b[0m Epoch 2: train loss 0.11252482235431671, accuracy 0.1\n",
            "\u001b[36m(ClientAppActor pid=15778)\u001b[0m Epoch 3: train loss 0.1104445829987526, accuracy 0.175\n",
            "\u001b[36m(ClientAppActor pid=15778)\u001b[0m [Client 549, round 2] fit, config: {'server_round': 2, 'local_epochs': 3}\n",
            "\u001b[36m(ClientAppActor pid=15778)\u001b[0m Epoch 1: train loss 0.11477118730545044, accuracy 0.1\n",
            "\u001b[36m(ClientAppActor pid=15778)\u001b[0m Epoch 2: train loss 0.11334939301013947, accuracy 0.175\n",
            "\u001b[36m(ClientAppActor pid=15778)\u001b[0m Epoch 3: train loss 0.11230623722076416, accuracy 0.175\n",
            "\u001b[36m(ClientAppActor pid=15778)\u001b[0m [Client 873, round 2] fit, config: {'server_round': 2, 'local_epochs': 3}\n",
            "\u001b[36m(ClientAppActor pid=15778)\u001b[0m Epoch 1: train loss 0.11423506587743759, accuracy 0.125\n",
            "\u001b[36m(ClientAppActor pid=15778)\u001b[0m Epoch 2: train loss 0.11152761429548264, accuracy 0.25\n",
            "\u001b[36m(ClientAppActor pid=15778)\u001b[0m Epoch 3: train loss 0.1091758981347084, accuracy 0.225\n",
            "\u001b[36m(ClientAppActor pid=15778)\u001b[0m [Client 903, round 2] fit, config: {'server_round': 2, 'local_epochs': 3}\n",
            "\u001b[36m(ClientAppActor pid=15778)\u001b[0m Epoch 1: train loss 0.11505687236785889, accuracy 0.075\n",
            "\u001b[36m(ClientAppActor pid=15778)\u001b[0m Epoch 2: train loss 0.11326582729816437, accuracy 0.125\n",
            "\u001b[36m(ClientAppActor pid=15778)\u001b[0m Epoch 3: train loss 0.11268141120672226, accuracy 0.275\n",
            "\u001b[36m(ClientAppActor pid=15778)\u001b[0m [Client 26, round 2] fit, config: {'server_round': 2, 'local_epochs': 3}\n",
            "\u001b[36m(ClientAppActor pid=15778)\u001b[0m Epoch 1: train loss 0.1155708059668541, accuracy 0.0\n",
            "\u001b[36m(ClientAppActor pid=15778)\u001b[0m Epoch 2: train loss 0.11367437988519669, accuracy 0.275\n",
            "\u001b[36m(ClientAppActor pid=15778)\u001b[0m Epoch 3: train loss 0.11261041462421417, accuracy 0.35\n",
            "\u001b[36m(ClientAppActor pid=15778)\u001b[0m [Client 605, round 2] fit, config: {'server_round': 2, 'local_epochs': 3}\n",
            "\u001b[36m(ClientAppActor pid=15778)\u001b[0m Epoch 1: train loss 0.11496790498495102, accuracy 0.075\n",
            "\u001b[36m(ClientAppActor pid=15778)\u001b[0m Epoch 2: train loss 0.11333160847425461, accuracy 0.175\n",
            "\u001b[36m(ClientAppActor pid=15778)\u001b[0m Epoch 3: train loss 0.11270179599523544, accuracy 0.275\n",
            "\u001b[36m(ClientAppActor pid=15778)\u001b[0m [Client 556, round 2] fit, config: {'server_round': 2, 'local_epochs': 3}\n",
            "\u001b[36m(ClientAppActor pid=15778)\u001b[0m Epoch 1: train loss 0.11436454206705093, accuracy 0.1\n",
            "\u001b[36m(ClientAppActor pid=15778)\u001b[0m Epoch 2: train loss 0.11256998032331467, accuracy 0.325\n",
            "\u001b[36m(ClientAppActor pid=15778)\u001b[0m Epoch 3: train loss 0.11184602230787277, accuracy 0.325\n",
            "\u001b[36m(ClientAppActor pid=15778)\u001b[0m [Client 345, round 2] fit, config: {'server_round': 2, 'local_epochs': 3}\n",
            "\u001b[36m(ClientAppActor pid=15778)\u001b[0m Epoch 1: train loss 0.11535022407770157, accuracy 0.075\n",
            "\u001b[36m(ClientAppActor pid=15778)\u001b[0m Epoch 2: train loss 0.11431620270013809, accuracy 0.175\n",
            "\u001b[36m(ClientAppActor pid=15778)\u001b[0m Epoch 3: train loss 0.1124684140086174, accuracy 0.2\n",
            "\u001b[36m(ClientAppActor pid=15778)\u001b[0m [Client 285, round 2] fit, config: {'server_round': 2, 'local_epochs': 3}\n",
            "\u001b[36m(ClientAppActor pid=15778)\u001b[0m Epoch 1: train loss 0.11510658264160156, accuracy 0.025\n",
            "\u001b[36m(ClientAppActor pid=15778)\u001b[0m Epoch 2: train loss 0.1140686646103859, accuracy 0.15\n",
            "\u001b[36m(ClientAppActor pid=15778)\u001b[0m Epoch 3: train loss 0.11207961291074753, accuracy 0.275\n",
            "\u001b[36m(ClientAppActor pid=15778)\u001b[0m [Client 590, round 2] fit, config: {'server_round': 2, 'local_epochs': 3}\n",
            "\u001b[36m(ClientAppActor pid=15778)\u001b[0m Epoch 1: train loss 0.1145123764872551, accuracy 0.075\n",
            "\u001b[36m(ClientAppActor pid=15778)\u001b[0m Epoch 2: train loss 0.11262541264295578, accuracy 0.25\n",
            "\u001b[36m(ClientAppActor pid=15778)\u001b[0m Epoch 3: train loss 0.1095084697008133, accuracy 0.25\n",
            "\u001b[36m(ClientAppActor pid=15778)\u001b[0m [Client 689, round 2] fit, config: {'server_round': 2, 'local_epochs': 3}\n",
            "\u001b[36m(ClientAppActor pid=15778)\u001b[0m Epoch 1: train loss 0.11517120897769928, accuracy 0.1\n",
            "\u001b[36m(ClientAppActor pid=15778)\u001b[0m Epoch 2: train loss 0.11455273628234863, accuracy 0.125\n",
            "\u001b[36m(ClientAppActor pid=15778)\u001b[0m Epoch 3: train loss 0.1136382594704628, accuracy 0.15\n",
            "\u001b[36m(ClientAppActor pid=15778)\u001b[0m [Client 662, round 2] fit, config: {'server_round': 2, 'local_epochs': 3}\n",
            "\u001b[36m(ClientAppActor pid=15778)\u001b[0m Epoch 1: train loss 0.11439690738916397, accuracy 0.125\n",
            "\u001b[36m(ClientAppActor pid=15778)\u001b[0m Epoch 2: train loss 0.11330316215753555, accuracy 0.125\n",
            "\u001b[36m(ClientAppActor pid=15778)\u001b[0m Epoch 3: train loss 0.11119089275598526, accuracy 0.425\n",
            "\u001b[36m(ClientAppActor pid=15778)\u001b[0m [Client 602, round 2] fit, config: {'server_round': 2, 'local_epochs': 3}\n",
            "\u001b[36m(ClientAppActor pid=15778)\u001b[0m Epoch 1: train loss 0.11562544107437134, accuracy 0.075\n",
            "\u001b[36m(ClientAppActor pid=15778)\u001b[0m Epoch 2: train loss 0.11494811624288559, accuracy 0.125\n",
            "\u001b[36m(ClientAppActor pid=15778)\u001b[0m Epoch 3: train loss 0.11246199905872345, accuracy 0.3\n",
            "\u001b[36m(ClientAppActor pid=15778)\u001b[0m [Client 414, round 2] fit, config: {'server_round': 2, 'local_epochs': 3}\n",
            "\u001b[36m(ClientAppActor pid=15778)\u001b[0m Epoch 1: train loss 0.11479437351226807, accuracy 0.1\n",
            "\u001b[36m(ClientAppActor pid=15778)\u001b[0m Epoch 2: train loss 0.1140369400382042, accuracy 0.25\n",
            "\u001b[36m(ClientAppActor pid=15778)\u001b[0m Epoch 3: train loss 0.11317183822393417, accuracy 0.25\n",
            "\u001b[36m(ClientAppActor pid=15778)\u001b[0m [Client 38, round 2] fit, config: {'server_round': 2, 'local_epochs': 3}\n",
            "\u001b[36m(ClientAppActor pid=15778)\u001b[0m Epoch 1: train loss 0.11486239731311798, accuracy 0.125\n",
            "\u001b[36m(ClientAppActor pid=15778)\u001b[0m Epoch 2: train loss 0.11370022594928741, accuracy 0.125\n",
            "\u001b[36m(ClientAppActor pid=15778)\u001b[0m Epoch 3: train loss 0.11263292282819748, accuracy 0.125\n"
          ]
        },
        {
          "output_type": "stream",
          "name": "stderr",
          "text": [
            "\u001b[92mINFO \u001b[0m:      aggregate_fit: received 25 results and 0 failures\n",
            "\u001b[92mINFO \u001b[0m:      configure_evaluate: strategy sampled 50 clients (out of 1000)\n"
          ]
        },
        {
          "output_type": "stream",
          "name": "stdout",
          "text": [
            "\u001b[36m(ClientAppActor pid=15778)\u001b[0m [Client 958, round 2] fit, config: {'server_round': 2, 'local_epochs': 3}\n",
            "\u001b[36m(ClientAppActor pid=15778)\u001b[0m Epoch 1: train loss 0.11479492485523224, accuracy 0.025\n",
            "\u001b[36m(ClientAppActor pid=15778)\u001b[0m Epoch 2: train loss 0.11293592303991318, accuracy 0.25\n",
            "\u001b[36m(ClientAppActor pid=15778)\u001b[0m Epoch 3: train loss 0.11087167263031006, accuracy 0.225\n",
            "\u001b[36m(ClientAppActor pid=15778)\u001b[0m [Client 104] evaluate, config: {}\n",
            "\u001b[36m(ClientAppActor pid=15778)\u001b[0m [Client 374] evaluate, config: {}\n",
            "\u001b[36m(ClientAppActor pid=15778)\u001b[0m [Client 460] evaluate, config: {}\n",
            "\u001b[36m(ClientAppActor pid=15778)\u001b[0m [Client 712] evaluate, config: {}\n",
            "\u001b[36m(ClientAppActor pid=15778)\u001b[0m [Client 945] evaluate, config: {}\n",
            "\u001b[36m(ClientAppActor pid=15778)\u001b[0m [Client 86] evaluate, config: {}\n",
            "\u001b[36m(ClientAppActor pid=15778)\u001b[0m [Client 947] evaluate, config: {}\n",
            "\u001b[36m(ClientAppActor pid=15778)\u001b[0m [Client 298] evaluate, config: {}\n",
            "\u001b[36m(ClientAppActor pid=15778)\u001b[0m [Client 77] evaluate, config: {}\n",
            "\u001b[36m(ClientAppActor pid=15778)\u001b[0m [Client 488] evaluate, config: {}\n",
            "\u001b[36m(ClientAppActor pid=15778)\u001b[0m [Client 85] evaluate, config: {}\n",
            "\u001b[36m(ClientAppActor pid=15778)\u001b[0m [Client 101] evaluate, config: {}\n",
            "\u001b[36m(ClientAppActor pid=15778)\u001b[0m [Client 900] evaluate, config: {}\n",
            "\u001b[36m(ClientAppActor pid=15778)\u001b[0m [Client 168] evaluate, config: {}\n",
            "\u001b[36m(ClientAppActor pid=15778)\u001b[0m [Client 372] evaluate, config: {}\n",
            "\u001b[36m(ClientAppActor pid=15778)\u001b[0m [Client 63] evaluate, config: {}\n",
            "\u001b[36m(ClientAppActor pid=15778)\u001b[0m [Client 450] evaluate, config: {}\n",
            "\u001b[36m(ClientAppActor pid=15778)\u001b[0m [Client 103] evaluate, config: {}\n",
            "\u001b[36m(ClientAppActor pid=15778)\u001b[0m [Client 141] evaluate, config: {}\n",
            "\u001b[36m(ClientAppActor pid=15778)\u001b[0m [Client 143] evaluate, config: {}\n",
            "\u001b[36m(ClientAppActor pid=15778)\u001b[0m [Client 201] evaluate, config: {}\n",
            "\u001b[36m(ClientAppActor pid=15778)\u001b[0m [Client 409] evaluate, config: {}\n",
            "\u001b[36m(ClientAppActor pid=15778)\u001b[0m [Client 842] evaluate, config: {}\n",
            "\u001b[36m(ClientAppActor pid=15778)\u001b[0m [Client 100] evaluate, config: {}\n",
            "\u001b[36m(ClientAppActor pid=15778)\u001b[0m [Client 31] evaluate, config: {}\n",
            "\u001b[36m(ClientAppActor pid=15778)\u001b[0m [Client 592] evaluate, config: {}\n",
            "\u001b[36m(ClientAppActor pid=15778)\u001b[0m [Client 980] evaluate, config: {}\n",
            "\u001b[36m(ClientAppActor pid=15778)\u001b[0m [Client 449] evaluate, config: {}\n",
            "\u001b[36m(ClientAppActor pid=15778)\u001b[0m [Client 102] evaluate, config: {}\n",
            "\u001b[36m(ClientAppActor pid=15778)\u001b[0m [Client 701] evaluate, config: {}\n",
            "\u001b[36m(ClientAppActor pid=15778)\u001b[0m [Client 481] evaluate, config: {}\n",
            "\u001b[36m(ClientAppActor pid=15778)\u001b[0m [Client 451] evaluate, config: {}\n",
            "\u001b[36m(ClientAppActor pid=15778)\u001b[0m [Client 757] evaluate, config: {}\n",
            "\u001b[36m(ClientAppActor pid=15778)\u001b[0m [Client 371] evaluate, config: {}\n",
            "\u001b[36m(ClientAppActor pid=15778)\u001b[0m [Client 713] evaluate, config: {}\n",
            "\u001b[36m(ClientAppActor pid=15778)\u001b[0m [Client 23] evaluate, config: {}\n",
            "\u001b[36m(ClientAppActor pid=15778)\u001b[0m [Client 809] evaluate, config: {}\n",
            "\u001b[36m(ClientAppActor pid=15778)\u001b[0m [Client 221] evaluate, config: {}\n",
            "\u001b[36m(ClientAppActor pid=15778)\u001b[0m [Client 764] evaluate, config: {}\n",
            "\u001b[36m(ClientAppActor pid=15778)\u001b[0m [Client 883] evaluate, config: {}\n",
            "\u001b[36m(ClientAppActor pid=15778)\u001b[0m [Client 361] evaluate, config: {}\n",
            "\u001b[36m(ClientAppActor pid=15778)\u001b[0m [Client 707] evaluate, config: {}\n",
            "\u001b[36m(ClientAppActor pid=15778)\u001b[0m [Client 504] evaluate, config: {}\n",
            "\u001b[36m(ClientAppActor pid=15778)\u001b[0m [Client 271] evaluate, config: {}\n",
            "\u001b[36m(ClientAppActor pid=15778)\u001b[0m [Client 987] evaluate, config: {}\n",
            "\u001b[36m(ClientAppActor pid=15778)\u001b[0m [Client 918] evaluate, config: {}\n",
            "\u001b[36m(ClientAppActor pid=15778)\u001b[0m [Client 725] evaluate, config: {}\n",
            "\u001b[36m(ClientAppActor pid=15778)\u001b[0m [Client 795] evaluate, config: {}\n",
            "\u001b[36m(ClientAppActor pid=15778)\u001b[0m [Client 779] evaluate, config: {}\n"
          ]
        },
        {
          "output_type": "stream",
          "name": "stderr",
          "text": [
            "\u001b[92mINFO \u001b[0m:      aggregate_evaluate: received 50 results and 0 failures\n",
            "\u001b[92mINFO \u001b[0m:      \n",
            "\u001b[92mINFO \u001b[0m:      [ROUND 3]\n",
            "\u001b[92mINFO \u001b[0m:      configure_fit: strategy sampled 25 clients (out of 1000)\n"
          ]
        },
        {
          "output_type": "stream",
          "name": "stdout",
          "text": [
            "\u001b[36m(ClientAppActor pid=15778)\u001b[0m [Client 610] evaluate, config: {}\n",
            "\u001b[36m(ClientAppActor pid=15778)\u001b[0m [Client 84, round 3] fit, config: {'server_round': 3, 'local_epochs': 3}\n",
            "\u001b[36m(ClientAppActor pid=15778)\u001b[0m Epoch 1: train loss 0.11452563107013702, accuracy 0.075\n",
            "\u001b[36m(ClientAppActor pid=15778)\u001b[0m Epoch 2: train loss 0.11293976753950119, accuracy 0.275\n",
            "\u001b[36m(ClientAppActor pid=15778)\u001b[0m Epoch 3: train loss 0.1087932363152504, accuracy 0.25\n",
            "\u001b[36m(ClientAppActor pid=15778)\u001b[0m [Client 172, round 3] fit, config: {'server_round': 3, 'local_epochs': 3}\n",
            "\u001b[36m(ClientAppActor pid=15778)\u001b[0m Epoch 1: train loss 0.11506728082895279, accuracy 0.15\n",
            "\u001b[36m(ClientAppActor pid=15778)\u001b[0m Epoch 2: train loss 0.11138360947370529, accuracy 0.275\n",
            "\u001b[36m(ClientAppActor pid=15778)\u001b[0m Epoch 3: train loss 0.10979592800140381, accuracy 0.275\n",
            "\u001b[36m(ClientAppActor pid=15778)\u001b[0m [Client 476, round 3] fit, config: {'server_round': 3, 'local_epochs': 3}\n",
            "\u001b[36m(ClientAppActor pid=15778)\u001b[0m Epoch 1: train loss 0.11453089863061905, accuracy 0.175\n",
            "\u001b[36m(ClientAppActor pid=15778)\u001b[0m Epoch 2: train loss 0.11338832229375839, accuracy 0.175\n",
            "\u001b[36m(ClientAppActor pid=15778)\u001b[0m Epoch 3: train loss 0.10987762361764908, accuracy 0.15\n",
            "\u001b[36m(ClientAppActor pid=15778)\u001b[0m [Client 575, round 3] fit, config: {'server_round': 3, 'local_epochs': 3}\n",
            "\u001b[36m(ClientAppActor pid=15778)\u001b[0m Epoch 1: train loss 0.11345147341489792, accuracy 0.125\n",
            "\u001b[36m(ClientAppActor pid=15778)\u001b[0m Epoch 2: train loss 0.11176948994398117, accuracy 0.2\n",
            "\u001b[36m(ClientAppActor pid=15778)\u001b[0m Epoch 3: train loss 0.10610158741474152, accuracy 0.3\n",
            "\u001b[36m(ClientAppActor pid=15778)\u001b[0m [Client 639, round 3] fit, config: {'server_round': 3, 'local_epochs': 3}\n",
            "\u001b[36m(ClientAppActor pid=15778)\u001b[0m Epoch 1: train loss 0.11396262794733047, accuracy 0.05\n",
            "\u001b[36m(ClientAppActor pid=15778)\u001b[0m Epoch 2: train loss 0.11194534599781036, accuracy 0.25\n",
            "\u001b[36m(ClientAppActor pid=15778)\u001b[0m Epoch 3: train loss 0.11019998043775558, accuracy 0.375\n",
            "\u001b[36m(ClientAppActor pid=15778)\u001b[0m [Client 748, round 3] fit, config: {'server_round': 3, 'local_epochs': 3}\n",
            "\u001b[36m(ClientAppActor pid=15778)\u001b[0m Epoch 1: train loss 0.11450059711933136, accuracy 0.075\n",
            "\u001b[36m(ClientAppActor pid=15778)\u001b[0m Epoch 2: train loss 0.11220771074295044, accuracy 0.25\n",
            "\u001b[36m(ClientAppActor pid=15778)\u001b[0m Epoch 3: train loss 0.10931743681430817, accuracy 0.25\n",
            "\u001b[36m(ClientAppActor pid=15778)\u001b[0m [Client 724, round 3] fit, config: {'server_round': 3, 'local_epochs': 3}\n",
            "\u001b[36m(ClientAppActor pid=15778)\u001b[0m Epoch 1: train loss 0.11347993463277817, accuracy 0.25\n",
            "\u001b[36m(ClientAppActor pid=15778)\u001b[0m Epoch 2: train loss 0.10858070850372314, accuracy 0.225\n",
            "\u001b[36m(ClientAppActor pid=15778)\u001b[0m Epoch 3: train loss 0.10910452902317047, accuracy 0.225\n",
            "\u001b[36m(ClientAppActor pid=15778)\u001b[0m [Client 736, round 3] fit, config: {'server_round': 3, 'local_epochs': 3}\n",
            "\u001b[36m(ClientAppActor pid=15778)\u001b[0m Epoch 1: train loss 0.11453964561223984, accuracy 0.125\n",
            "\u001b[36m(ClientAppActor pid=15778)\u001b[0m Epoch 2: train loss 0.11108513176441193, accuracy 0.325\n",
            "\u001b[36m(ClientAppActor pid=15778)\u001b[0m Epoch 3: train loss 0.10879111289978027, accuracy 0.35\n",
            "\u001b[36m(ClientAppActor pid=15778)\u001b[0m [Client 705, round 3] fit, config: {'server_round': 3, 'local_epochs': 3}\n",
            "\u001b[36m(ClientAppActor pid=15778)\u001b[0m Epoch 1: train loss 0.11463230103254318, accuracy 0.125\n",
            "\u001b[36m(ClientAppActor pid=15778)\u001b[0m Epoch 2: train loss 0.11177859455347061, accuracy 0.275\n",
            "\u001b[36m(ClientAppActor pid=15778)\u001b[0m Epoch 3: train loss 0.10861015319824219, accuracy 0.3\n",
            "\u001b[36m(ClientAppActor pid=15778)\u001b[0m [Client 439, round 3] fit, config: {'server_round': 3, 'local_epochs': 3}\n",
            "\u001b[36m(ClientAppActor pid=15778)\u001b[0m Epoch 1: train loss 0.11501801013946533, accuracy 0.15\n",
            "\u001b[36m(ClientAppActor pid=15778)\u001b[0m Epoch 2: train loss 0.11281628906726837, accuracy 0.275\n",
            "\u001b[36m(ClientAppActor pid=15778)\u001b[0m Epoch 3: train loss 0.11040552705526352, accuracy 0.425\n",
            "\u001b[36m(ClientAppActor pid=15778)\u001b[0m [Client 909, round 3] fit, config: {'server_round': 3, 'local_epochs': 3}\n",
            "\u001b[36m(ClientAppActor pid=15778)\u001b[0m Epoch 1: train loss 0.11340384930372238, accuracy 0.1\n",
            "\u001b[36m(ClientAppActor pid=15778)\u001b[0m Epoch 2: train loss 0.1093866154551506, accuracy 0.3\n",
            "\u001b[36m(ClientAppActor pid=15778)\u001b[0m Epoch 3: train loss 0.10880165547132492, accuracy 0.4\n",
            "\u001b[36m(ClientAppActor pid=15778)\u001b[0m [Client 694, round 3] fit, config: {'server_round': 3, 'local_epochs': 3}\n",
            "\u001b[36m(ClientAppActor pid=15778)\u001b[0m Epoch 1: train loss 0.1153753399848938, accuracy 0.1\n",
            "\u001b[36m(ClientAppActor pid=15778)\u001b[0m Epoch 2: train loss 0.11234617233276367, accuracy 0.325\n",
            "\u001b[36m(ClientAppActor pid=15778)\u001b[0m Epoch 3: train loss 0.10960328578948975, accuracy 0.275\n",
            "\u001b[36m(ClientAppActor pid=15778)\u001b[0m [Client 234, round 3] fit, config: {'server_round': 3, 'local_epochs': 3}\n",
            "\u001b[36m(ClientAppActor pid=15778)\u001b[0m Epoch 1: train loss 0.11494827270507812, accuracy 0.125\n",
            "\u001b[36m(ClientAppActor pid=15778)\u001b[0m Epoch 2: train loss 0.11135520786046982, accuracy 0.3\n",
            "\u001b[36m(ClientAppActor pid=15778)\u001b[0m Epoch 3: train loss 0.10905256122350693, accuracy 0.35\n",
            "\u001b[36m(ClientAppActor pid=15778)\u001b[0m [Client 525, round 3] fit, config: {'server_round': 3, 'local_epochs': 3}\n",
            "\u001b[36m(ClientAppActor pid=15778)\u001b[0m Epoch 1: train loss 0.11414168030023575, accuracy 0.125\n",
            "\u001b[36m(ClientAppActor pid=15778)\u001b[0m Epoch 2: train loss 0.11140777915716171, accuracy 0.325\n",
            "\u001b[36m(ClientAppActor pid=15778)\u001b[0m Epoch 3: train loss 0.10968829691410065, accuracy 0.325\n",
            "\u001b[36m(ClientAppActor pid=15778)\u001b[0m [Client 774, round 3] fit, config: {'server_round': 3, 'local_epochs': 3}\n",
            "\u001b[36m(ClientAppActor pid=15778)\u001b[0m Epoch 1: train loss 0.11346431076526642, accuracy 0.25\n",
            "\u001b[36m(ClientAppActor pid=15778)\u001b[0m Epoch 2: train loss 0.11099982261657715, accuracy 0.35\n",
            "\u001b[36m(ClientAppActor pid=15778)\u001b[0m Epoch 3: train loss 0.10731818526983261, accuracy 0.275\n",
            "\u001b[36m(ClientAppActor pid=15778)\u001b[0m [Client 786, round 3] fit, config: {'server_round': 3, 'local_epochs': 3}\n",
            "\u001b[36m(ClientAppActor pid=15778)\u001b[0m Epoch 1: train loss 0.11343666166067123, accuracy 0.075\n",
            "\u001b[36m(ClientAppActor pid=15778)\u001b[0m Epoch 2: train loss 0.11159584671258926, accuracy 0.25\n",
            "\u001b[36m(ClientAppActor pid=15778)\u001b[0m Epoch 3: train loss 0.10516171902418137, accuracy 0.275\n",
            "\u001b[36m(ClientAppActor pid=15778)\u001b[0m [Client 72, round 3] fit, config: {'server_round': 3, 'local_epochs': 3}\n",
            "\u001b[36m(ClientAppActor pid=15778)\u001b[0m Epoch 1: train loss 0.11459987610578537, accuracy 0.3\n",
            "\u001b[36m(ClientAppActor pid=15778)\u001b[0m Epoch 2: train loss 0.11073040962219238, accuracy 0.275\n",
            "\u001b[36m(ClientAppActor pid=15778)\u001b[0m Epoch 3: train loss 0.1090817004442215, accuracy 0.25\n",
            "\u001b[36m(ClientAppActor pid=15778)\u001b[0m [Client 496, round 3] fit, config: {'server_round': 3, 'local_epochs': 3}\n",
            "\u001b[36m(ClientAppActor pid=15778)\u001b[0m Epoch 1: train loss 0.11352825164794922, accuracy 0.125\n",
            "\u001b[36m(ClientAppActor pid=15778)\u001b[0m Epoch 2: train loss 0.11181330680847168, accuracy 0.2\n",
            "\u001b[36m(ClientAppActor pid=15778)\u001b[0m Epoch 3: train loss 0.10740494728088379, accuracy 0.2\n",
            "\u001b[36m(ClientAppActor pid=15778)\u001b[0m [Client 38, round 3] fit, config: {'server_round': 3, 'local_epochs': 3}\n",
            "\u001b[36m(ClientAppActor pid=15778)\u001b[0m Epoch 1: train loss 0.11460506916046143, accuracy 0.1\n",
            "\u001b[36m(ClientAppActor pid=15778)\u001b[0m Epoch 2: train loss 0.11267492920160294, accuracy 0.275\n",
            "\u001b[36m(ClientAppActor pid=15778)\u001b[0m Epoch 3: train loss 0.11085827648639679, accuracy 0.275\n",
            "\u001b[36m(ClientAppActor pid=15778)\u001b[0m [Client 577, round 3] fit, config: {'server_round': 3, 'local_epochs': 3}\n",
            "\u001b[36m(ClientAppActor pid=15778)\u001b[0m Epoch 1: train loss 0.11472471058368683, accuracy 0.075\n",
            "\u001b[36m(ClientAppActor pid=15778)\u001b[0m Epoch 2: train loss 0.11183742433786392, accuracy 0.35\n",
            "\u001b[36m(ClientAppActor pid=15778)\u001b[0m Epoch 3: train loss 0.10934753715991974, accuracy 0.35\n",
            "\u001b[36m(ClientAppActor pid=15778)\u001b[0m [Client 144, round 3] fit, config: {'server_round': 3, 'local_epochs': 3}\n",
            "\u001b[36m(ClientAppActor pid=15778)\u001b[0m Epoch 1: train loss 0.11464333534240723, accuracy 0.1\n",
            "\u001b[36m(ClientAppActor pid=15778)\u001b[0m Epoch 2: train loss 0.11131370067596436, accuracy 0.45\n",
            "\u001b[36m(ClientAppActor pid=15778)\u001b[0m Epoch 3: train loss 0.10852055996656418, accuracy 0.45\n",
            "\u001b[36m(ClientAppActor pid=15778)\u001b[0m [Client 47, round 3] fit, config: {'server_round': 3, 'local_epochs': 3}\n",
            "\u001b[36m(ClientAppActor pid=15778)\u001b[0m Epoch 1: train loss 0.11449208110570908, accuracy 0.2\n",
            "\u001b[36m(ClientAppActor pid=15778)\u001b[0m Epoch 2: train loss 0.11198308318853378, accuracy 0.225\n",
            "\u001b[36m(ClientAppActor pid=15778)\u001b[0m Epoch 3: train loss 0.11059846729040146, accuracy 0.225\n",
            "\u001b[36m(ClientAppActor pid=15778)\u001b[0m [Client 780, round 3] fit, config: {'server_round': 3, 'local_epochs': 3}\n",
            "\u001b[36m(ClientAppActor pid=15778)\u001b[0m Epoch 1: train loss 0.11428363621234894, accuracy 0.2\n",
            "\u001b[36m(ClientAppActor pid=15778)\u001b[0m Epoch 2: train loss 0.11420178413391113, accuracy 0.2\n",
            "\u001b[36m(ClientAppActor pid=15778)\u001b[0m Epoch 3: train loss 0.11028780788183212, accuracy 0.3\n",
            "\u001b[36m(ClientAppActor pid=15778)\u001b[0m [Client 195, round 3] fit, config: {'server_round': 3, 'local_epochs': 3}\n",
            "\u001b[36m(ClientAppActor pid=15778)\u001b[0m Epoch 1: train loss 0.11439752578735352, accuracy 0.1\n",
            "\u001b[36m(ClientAppActor pid=15778)\u001b[0m Epoch 2: train loss 0.1122971773147583, accuracy 0.3\n",
            "\u001b[36m(ClientAppActor pid=15778)\u001b[0m Epoch 3: train loss 0.11013767868280411, accuracy 0.3\n"
          ]
        },
        {
          "output_type": "stream",
          "name": "stderr",
          "text": [
            "\u001b[92mINFO \u001b[0m:      aggregate_fit: received 25 results and 0 failures\n",
            "\u001b[92mINFO \u001b[0m:      configure_evaluate: strategy sampled 50 clients (out of 1000)\n"
          ]
        },
        {
          "output_type": "stream",
          "name": "stdout",
          "text": [
            "\u001b[36m(ClientAppActor pid=15778)\u001b[0m [Client 37, round 3] fit, config: {'server_round': 3, 'local_epochs': 3}\n",
            "\u001b[36m(ClientAppActor pid=15778)\u001b[0m Epoch 1: train loss 0.11549980938434601, accuracy 0.05\n",
            "\u001b[36m(ClientAppActor pid=15778)\u001b[0m Epoch 2: train loss 0.11224949359893799, accuracy 0.2\n",
            "\u001b[36m(ClientAppActor pid=15778)\u001b[0m Epoch 3: train loss 0.11173105239868164, accuracy 0.2\n",
            "\u001b[36m(ClientAppActor pid=15778)\u001b[0m [Client 47] evaluate, config: {}\n",
            "\u001b[36m(ClientAppActor pid=15778)\u001b[0m [Client 133] evaluate, config: {}\n",
            "\u001b[36m(ClientAppActor pid=15778)\u001b[0m [Client 327] evaluate, config: {}\n",
            "\u001b[36m(ClientAppActor pid=15778)\u001b[0m [Client 544] evaluate, config: {}\n",
            "\u001b[36m(ClientAppActor pid=15778)\u001b[0m [Client 788] evaluate, config: {}\n",
            "\u001b[36m(ClientAppActor pid=15778)\u001b[0m [Client 967] evaluate, config: {}\n",
            "\u001b[36m(ClientAppActor pid=15778)\u001b[0m [Client 614] evaluate, config: {}\n",
            "\u001b[36m(ClientAppActor pid=15778)\u001b[0m [Client 513] evaluate, config: {}\n",
            "\u001b[36m(ClientAppActor pid=15778)\u001b[0m [Client 498] evaluate, config: {}\n",
            "\u001b[36m(ClientAppActor pid=15778)\u001b[0m [Client 169] evaluate, config: {}\n",
            "\u001b[36m(ClientAppActor pid=15778)\u001b[0m [Client 351] evaluate, config: {}\n",
            "\u001b[36m(ClientAppActor pid=15778)\u001b[0m [Client 318] evaluate, config: {}\n",
            "\u001b[36m(ClientAppActor pid=15778)\u001b[0m [Client 891] evaluate, config: {}\n",
            "\u001b[36m(ClientAppActor pid=15778)\u001b[0m [Client 952] evaluate, config: {}\n",
            "\u001b[36m(ClientAppActor pid=15778)\u001b[0m [Client 773] evaluate, config: {}\n",
            "\u001b[36m(ClientAppActor pid=15778)\u001b[0m [Client 668] evaluate, config: {}\n",
            "\u001b[36m(ClientAppActor pid=15778)\u001b[0m [Client 782] evaluate, config: {}\n",
            "\u001b[36m(ClientAppActor pid=15778)\u001b[0m [Client 887] evaluate, config: {}\n",
            "\u001b[36m(ClientAppActor pid=15778)\u001b[0m [Client 294] evaluate, config: {}\n",
            "\u001b[36m(ClientAppActor pid=15778)\u001b[0m [Client 424] evaluate, config: {}\n",
            "\u001b[36m(ClientAppActor pid=15778)\u001b[0m [Client 102] evaluate, config: {}\n",
            "\u001b[36m(ClientAppActor pid=15778)\u001b[0m [Client 236] evaluate, config: {}\n",
            "\u001b[36m(ClientAppActor pid=15778)\u001b[0m [Client 785] evaluate, config: {}\n",
            "\u001b[36m(ClientAppActor pid=15778)\u001b[0m [Client 426] evaluate, config: {}\n",
            "\u001b[36m(ClientAppActor pid=15778)\u001b[0m [Client 986] evaluate, config: {}\n",
            "\u001b[36m(ClientAppActor pid=15778)\u001b[0m [Client 272] evaluate, config: {}\n",
            "\u001b[36m(ClientAppActor pid=15778)\u001b[0m [Client 214] evaluate, config: {}\n",
            "\u001b[36m(ClientAppActor pid=15778)\u001b[0m [Client 357] evaluate, config: {}\n",
            "\u001b[36m(ClientAppActor pid=15778)\u001b[0m [Client 118] evaluate, config: {}\n",
            "\u001b[36m(ClientAppActor pid=15778)\u001b[0m [Client 932] evaluate, config: {}\n",
            "\u001b[36m(ClientAppActor pid=15778)\u001b[0m [Client 220] evaluate, config: {}\n",
            "\u001b[36m(ClientAppActor pid=15778)\u001b[0m [Client 859] evaluate, config: {}\n",
            "\u001b[36m(ClientAppActor pid=15778)\u001b[0m [Client 958] evaluate, config: {}\n",
            "\u001b[36m(ClientAppActor pid=15778)\u001b[0m [Client 238] evaluate, config: {}\n",
            "\u001b[36m(ClientAppActor pid=15778)\u001b[0m [Client 209] evaluate, config: {}\n",
            "\u001b[36m(ClientAppActor pid=15778)\u001b[0m [Client 712] evaluate, config: {}\n",
            "\u001b[36m(ClientAppActor pid=15778)\u001b[0m [Client 180] evaluate, config: {}\n",
            "\u001b[36m(ClientAppActor pid=15778)\u001b[0m [Client 799] evaluate, config: {}\n",
            "\u001b[36m(ClientAppActor pid=15778)\u001b[0m [Client 682] evaluate, config: {}\n",
            "\u001b[36m(ClientAppActor pid=15778)\u001b[0m [Client 480] evaluate, config: {}\n"
          ]
        },
        {
          "output_type": "stream",
          "name": "stderr",
          "text": [
            "\u001b[92mINFO \u001b[0m:      aggregate_fit: received 0 results and 3 failures\n",
            "\u001b[92mINFO \u001b[0m:      configure_evaluate: strategy sampled 3 clients (out of 10)\n"
          ]
        },
        {
          "output_type": "stream",
          "name": "stdout",
          "text": [
            "\u001b[36m(ClientAppActor pid=15778)\u001b[0m [Client 599] evaluate, config: {}\n",
            "\u001b[36m(ClientAppActor pid=15778)\u001b[0m [Client 355] evaluate, config: {}\n",
            "\u001b[36m(ClientAppActor pid=15778)\u001b[0m [Client 29] evaluate, config: {}\n",
            "\u001b[36m(ClientAppActor pid=15778)\u001b[0m [Client 919] evaluate, config: {}\n",
            "\u001b[36m(ClientAppActor pid=15778)\u001b[0m [Client 374] evaluate, config: {}\n",
            "\u001b[36m(ClientAppActor pid=15778)\u001b[0m [Client 179] evaluate, config: {}\n",
            "\u001b[36m(ClientAppActor pid=15778)\u001b[0m [Client 40] evaluate, config: {}\n",
            "\u001b[36m(ClientAppActor pid=15778)\u001b[0m [Client 669] evaluate, config: {}\n",
            "\u001b[36m(ClientAppActor pid=15778)\u001b[0m [Client 433] evaluate, config: {}\n"
          ]
        },
        {
          "output_type": "stream",
          "name": "stderr",
          "text": [
            "\u001b[92mINFO \u001b[0m:      aggregate_evaluate: received 50 results and 0 failures\n",
            "\u001b[92mINFO \u001b[0m:      \n",
            "\u001b[92mINFO \u001b[0m:      [SUMMARY]\n",
            "\u001b[92mINFO \u001b[0m:      Run finished 3 round(s) in 1041.42s\n",
            "\u001b[92mINFO \u001b[0m:      \tHistory (loss, distributed):\n",
            "\u001b[92mINFO \u001b[0m:      \t\tround 1: 0.22989180183410649\n",
            "\u001b[92mINFO \u001b[0m:      \t\tround 2: 0.22868901252746576\n",
            "\u001b[92mINFO \u001b[0m:      \t\tround 3: 0.22595208024978639\n",
            "\u001b[92mINFO \u001b[0m:      \n"
          ]
        },
        {
          "output_type": "stream",
          "name": "stdout",
          "text": [
            "\u001b[36m(ClientAppActor pid=15778)\u001b[0m [Client 304] evaluate, config: {}\n"
          ]
        }
      ],
      "source": [
        "# Specify the resources each of your clients need\n",
        "# If set to none, by default, each client will be allocated 2x CPU and 0x GPUs\n",
        "backend_config = {\"client_resources\": {\"num_cpus\": 2, \"num_gpus\": 0}}  # Default 2 CPUs, no GPU\n",
        "if DEVICE.type == \"cuda\":\n",
        "    backend_config = {\"client_resources\": {\"num_cpus\": 2, \"num_gpus\": 1}}  # Use 1 GPU if CUDA is available\n",
        "\n",
        "# Run simulation\n",
        "run_simulation(\n",
        "    server_app=server,\n",
        "    client_app=client,\n",
        "    num_supernodes=NUM_PARTITIONS,\n",
        "    backend_config=backend_config,\n",
        ")"
      ]
    }
  ],
  "metadata": {
    "colab": {
      "name": "Flower-2-Strategies-in-FL-PyTorch.ipynb",
      "provenance": [],
      "toc_visible": true,
      "gpuType": "T4"
    },
    "kernelspec": {
      "display_name": "Python 3",
      "name": "python3"
    },
    "accelerator": "GPU"
  },
  "nbformat": 4,
  "nbformat_minor": 0
}